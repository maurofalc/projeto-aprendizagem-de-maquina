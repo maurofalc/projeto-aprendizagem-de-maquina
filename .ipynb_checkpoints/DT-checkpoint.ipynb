{
 "cells": [
  {
   "cell_type": "markdown",
   "id": "0a572bda",
   "metadata": {},
   "source": [
    "### Importaçãode bibliotecas"
   ]
  },
  {
   "cell_type": "code",
   "execution_count": 160,
   "id": "8253b4c7",
   "metadata": {},
   "outputs": [],
   "source": [
    "import pandas as pd\n",
    "import numpy as np\n",
    "import matplotlib.pyplot as plt\n",
    "from mlxtend.plotting import plot_decision_regions\n",
    "from sklearn.tree import DecisionTreeClassifier, DecisionTreeRegressor, plot_tree\n",
    "from sklearn.metrics import classification_report\n",
    "from sklearn.model_selection import train_test_split\n",
    "from keras.utils import np_utils\n",
    "from sklearn import preprocessing\n",
    "from sklearn.metrics import roc_auc_score,confusion_matrix, accuracy_score, make_scorer, f1_score,precision_score,recall_score, plot_confusion_matrix"
   ]
  },
  {
   "cell_type": "markdown",
   "id": "ebf53b53",
   "metadata": {},
   "source": [
    "### Carregamento de dataset e pré-processamento"
   ]
  },
  {
   "cell_type": "code",
   "execution_count": 161,
   "id": "35b19574",
   "metadata": {},
   "outputs": [
    {
     "name": "stdout",
     "output_type": "stream",
     "text": [
      "<class 'pandas.core.frame.DataFrame'>\n",
      "RangeIndex: 6497 entries, 0 to 6496\n",
      "Data columns (total 12 columns):\n",
      " #   Column                Non-Null Count  Dtype  \n",
      "---  ------                --------------  -----  \n",
      " 0   fixed.acidity         6497 non-null   float64\n",
      " 1   volatile.acidity      6497 non-null   float64\n",
      " 2   citric.acid           6497 non-null   float64\n",
      " 3   residual.sugar        6497 non-null   float64\n",
      " 4   chlorides             6497 non-null   float64\n",
      " 5   free.sulfur.dioxide   6497 non-null   float64\n",
      " 6   total.sulfur.dioxide  6497 non-null   float64\n",
      " 7   density               6497 non-null   float64\n",
      " 8   pH                    6497 non-null   float64\n",
      " 9   sulphates             6497 non-null   float64\n",
      " 10  alcohol               6497 non-null   float64\n",
      " 11  quality               6497 non-null   int64  \n",
      "dtypes: float64(11), int64(1)\n",
      "memory usage: 609.2 KB\n"
     ]
    }
   ],
   "source": [
    "data = pd.read_csv(\"wine_quality.csv\")\n",
    "data.info()"
   ]
  },
  {
   "cell_type": "code",
   "execution_count": 162,
   "id": "c56b6369",
   "metadata": {},
   "outputs": [],
   "source": [
    "def taste(quality):\n",
    "  if quality <= 5:\n",
    "    return 0\n",
    "  elif quality > 5 and quality <= 7:\n",
    "    return 1\n",
    "  else:\n",
    "    return 2"
   ]
  },
  {
   "cell_type": "code",
   "execution_count": 163,
   "id": "3a70bf87",
   "metadata": {},
   "outputs": [],
   "source": [
    "# new_data = data\n",
    "# new_data[\"taste\"] = data[\"quality\"].apply(taste)"
   ]
  },
  {
   "cell_type": "code",
   "execution_count": 164,
   "id": "5d1a3bc2",
   "metadata": {},
   "outputs": [],
   "source": [
    "#X = data[[\"fixed.acidity\",\"volatile.acidity\",\"citric.acid\",\"residual.sugar\",\"chlorides\",\"free.sulfur.dioxide\",\"total.sulfur.dioxide\",\"density\",\"pH\",\"sulphates\",\"alcohol\"]]\n",
    "#y = data[[\"taste\"]]\n",
    "X = data.iloc[:, 0:11].values\n",
    "y = data.iloc[:, 11].values"
   ]
  },
  {
   "cell_type": "code",
   "execution_count": 165,
   "id": "3406dfd1",
   "metadata": {},
   "outputs": [],
   "source": [
    "# y[\"quality\"].value_counts()"
   ]
  },
  {
   "cell_type": "code",
   "execution_count": 166,
   "id": "a702dddb",
   "metadata": {},
   "outputs": [],
   "source": [
    "# # definição de classes e features\n",
    "# class_a = 0\n",
    "# class_b = 1\n",
    "# class_c = 2\n",
    "# feature_0 = \"alcohol\"\n",
    "# feature_1 = \"free.sulfur.dioxide\"\n",
    "# feature_2 = \"volatile.acidity\"\n",
    "# feature_3 = \"sulphates\"\n",
    "# feature_4 = \"density\"\n",
    "\n",
    "# # filtrar classes e features\n",
    "# class_0_instances = (y.values == class_a)\n",
    "# class_1_instances = (y.values == class_b)\n",
    "# class_2_instances = (y.values == class_c)\n",
    "\n",
    "# filtered_y = y[class_0_instances | class_1_instances| class_2_instances]\n",
    "# filtered_X = X[class_0_instances | class_1_instances| class_2_instances]\n",
    "# # filtered_X = attributes\n",
    "# # filtered_X = filtered_X[[feature_0, feature_1,feature_2,feature_3,feature_4]]"
   ]
  },
  {
   "cell_type": "code",
   "execution_count": 167,
   "id": "80c07293",
   "metadata": {},
   "outputs": [],
   "source": [
    "#X_train, X_test, y_train, y_test = train_test_split(filtered_X, filtered_y, test_size=0.1, random_state=199)\n",
    "#X_train, X_val, y_train, y_val = train_test_split(X_train, y_train, test_size=0.1, random_state=199)"
   ]
  },
  {
   "cell_type": "code",
   "execution_count": 168,
   "id": "abe3f656",
   "metadata": {},
   "outputs": [],
   "source": [
    "X_train, X_test, y_train, y_test = train_test_split(X, y, test_size=0.1, random_state=199)\n",
    "X_train, X_val, y_train, y_val = train_test_split(X_train, y_train, test_size=0.1, random_state=199)"
   ]
  },
  {
   "cell_type": "code",
   "execution_count": 169,
   "id": "75facb58",
   "metadata": {},
   "outputs": [
    {
     "data": {
      "text/plain": [
       "DecisionTreeClassifier()"
      ]
     },
     "execution_count": 169,
     "metadata": {},
     "output_type": "execute_result"
    }
   ],
   "source": [
    "model = DecisionTreeClassifier()\n",
    "model.fit(X_train, y_train)"
   ]
  },
  {
   "cell_type": "code",
   "execution_count": 170,
   "id": "2067e6d3",
   "metadata": {},
   "outputs": [
    {
     "name": "stdout",
     "output_type": "stream",
     "text": [
      "[[  0   0   0   0   1   0   0]\n",
      " [  0   5   5   8   1   0   0]\n",
      " [  1   6 132  72   8   0   0]\n",
      " [  1   5  46 175  39   9   0]\n",
      " [  0   0   6  30  73   4   0]\n",
      " [  0   0   2   7   5   6   1]\n",
      " [  0   0   0   0   0   2   0]]\n"
     ]
    },
    {
     "name": "stderr",
     "output_type": "stream",
     "text": [
      "C:\\Users\\cfpc2\\anaconda3\\envs\\rv\\lib\\site-packages\\sklearn\\utils\\deprecation.py:87: FutureWarning: Function plot_confusion_matrix is deprecated; Function `plot_confusion_matrix` is deprecated in 1.0 and will be removed in 1.2. Use one of the class methods: ConfusionMatrixDisplay.from_predictions or ConfusionMatrixDisplay.from_estimator.\n",
      "  warnings.warn(msg, category=FutureWarning)\n"
     ]
    },
    {
     "data": {
      "image/png": "[encoded data removed]",
      "text/plain": [
       "<Figure size 432x288 with 2 Axes>"
      ]
     },
     "metadata": {
      "needs_background": "light"
     },
     "output_type": "display_data"
    }
   ],
   "source": [
    "predicted_y = model.predict(X_test)\n",
    "print(confusion_matrix(y_test, predicted_y)) #labels define como será a ordem das classes na matriz\n",
    "plot_confusion_matrix(model, X_test, y_test)\n",
    "plt.savefig('MC_DT_Simples.png', transparent=True, dpi=300, bbox_inches=\"tight\")"
   ]
  },
  {
   "cell_type": "code",
   "execution_count": 171,
   "id": "4e8173ac",
   "metadata": {},
   "outputs": [
    {
     "name": "stdout",
     "output_type": "stream",
     "text": [
      "              precision    recall  f1-score   support\n",
      "\n",
      "           3       0.00      0.00      0.00         1\n",
      "           4       0.31      0.26      0.29        19\n",
      "           5       0.69      0.60      0.64       219\n",
      "           6       0.60      0.64      0.62       275\n",
      "           7       0.57      0.65      0.61       113\n",
      "           8       0.29      0.29      0.29        21\n",
      "           9       0.00      0.00      0.00         2\n",
      "\n",
      "    accuracy                           0.60       650\n",
      "   macro avg       0.35      0.35      0.35       650\n",
      "weighted avg       0.60      0.60      0.60       650\n",
      "\n"
     ]
    }
   ],
   "source": [
    "print(classification_report(y_test, predicted_y))"
   ]
  },
  {
   "cell_type": "code",
   "execution_count": 172,
   "id": "48e43776",
   "metadata": {},
   "outputs": [],
   "source": [
    "# plt.figure(figsize=(30,30))\n",
    "# plot_tree(model)"
   ]
  },
  {
   "cell_type": "code",
   "execution_count": 173,
   "id": "4119be1b",
   "metadata": {},
   "outputs": [
    {
     "data": {
      "text/plain": [
       "array([[0., 0., 0., ..., 1., 0., 0.],\n",
       "       [0., 0., 0., ..., 0., 0., 0.],\n",
       "       [0., 0., 0., ..., 1., 0., 0.],\n",
       "       ...,\n",
       "       [0., 0., 0., ..., 0., 0., 0.],\n",
       "       [0., 0., 0., ..., 0., 0., 0.],\n",
       "       [0., 0., 0., ..., 0., 0., 0.]], dtype=float32)"
      ]
     },
     "execution_count": 173,
     "metadata": {},
     "output_type": "execute_result"
    }
   ],
   "source": [
    "# y_test_dummy = np_utils.to_categorical(y_test)\n",
    "# y_test_dummy\n",
    "# predicted_y_dummy = np_utils.to_categorical(predicted_y)\n",
    "# predicted_y_dummy"
   ]
  },
  {
   "cell_type": "code",
   "execution_count": 174,
   "id": "3ae32ff8",
   "metadata": {},
   "outputs": [],
   "source": [
    "le = preprocessing.LabelEncoder()\n",
    "y_test_dummy = le.fit_transform(y_test)\n",
    "predicted_y_dummy = le.fit_transform(predicted_y)\n",
    "y_test_dummy = np_utils.to_categorical(y_test_dummy)\n",
    "predicted_y_dummy = np_utils.to_categorical(predicted_y_dummy)"
   ]
  },
  {
   "cell_type": "code",
   "execution_count": 175,
   "id": "82a914c4",
   "metadata": {
    "scrolled": true
   },
   "outputs": [
    {
     "name": "stdout",
     "output_type": "stream",
     "text": [
      ">acc=0.6015,>prec=0.3519,>f1=0.3487,>rec=0.3477,roc=0.6313\n"
     ]
    }
   ],
   "source": [
    "roc = roc_auc_score(y_test_dummy,predicted_y_dummy,multi_class=\"ovo\",average = 'macro')\n",
    "acc = accuracy_score(y_test,predicted_y)\n",
    "precision = precision_score(y_test,predicted_y, average = \"macro\")\n",
    "f1 = f1_score(y_test,predicted_y, average = \"macro\")\n",
    "recall = recall_score(y_test,predicted_y, average = \"macro\")\n",
    "\n",
    "print(\">acc=%.4f,>prec=%.4f,>f1=%.4f,>rec=%.4f,roc=%.4f\" % (acc,precision,f1,recall,roc))\n",
    "# print(\">acc=%.3f,>prec=%.3f,>f1=%.3f,>rec=%.3f\" % (acc,precision,f1,recall))"
   ]
  }
 ],
 "metadata": {
  "kernelspec": {
   "display_name": "Python 3 (ipykernel)",
   "language": "python",
   "name": "python3"
  },
  "language_info": {
   "codemirror_mode": {
    "name": "ipython",
    "version": 3
   },
   "file_extension": ".py",
   "mimetype": "text/x-python",
   "name": "python",
   "nbconvert_exporter": "python",
   "pygments_lexer": "ipython3",
   "version": "3.8.12"
  }
 },
 "nbformat": 4,
 "nbformat_minor": 5
}
