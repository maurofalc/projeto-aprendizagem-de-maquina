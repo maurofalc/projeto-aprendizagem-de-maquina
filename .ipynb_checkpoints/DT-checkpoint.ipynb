{
 "cells": [
  {
   "cell_type": "markdown",
   "id": "0a572bda",
   "metadata": {},
   "source": [
    "### Importaçãode bibliotecas"
   ]
  },
  {
   "cell_type": "code",
   "execution_count": 47,
   "id": "8253b4c7",
   "metadata": {},
   "outputs": [],
   "source": [
    "import pandas as pd\n",
    "import numpy as np\n",
    "import matplotlib.pyplot as plt\n",
    "from mlxtend.plotting import plot_decision_regions\n",
    "from sklearn.tree import DecisionTreeClassifier, DecisionTreeRegressor, plot_tree\n",
    "from sklearn.metrics import classification_report\n",
    "from sklearn.model_selection import train_test_split\n",
    "from keras.utils import np_utils\n",
    "from sklearn.metrics import roc_auc_score,confusion_matrix, accuracy_score, make_scorer, f1_score,precision_score,recall_score, plot_confusion_matrix"
   ]
  },
  {
   "cell_type": "markdown",
   "id": "ebf53b53",
   "metadata": {},
   "source": [
    "### Carregamento de dataset e pré-processamento"
   ]
  },
  {
   "cell_type": "code",
   "execution_count": 48,
   "id": "35b19574",
   "metadata": {},
   "outputs": [
    {
     "name": "stdout",
     "output_type": "stream",
     "text": [
      "<class 'pandas.core.frame.DataFrame'>\n",
      "RangeIndex: 6497 entries, 0 to 6496\n",
      "Data columns (total 12 columns):\n",
      " #   Column                Non-Null Count  Dtype  \n",
      "---  ------                --------------  -----  \n",
      " 0   fixed.acidity         6497 non-null   float64\n",
      " 1   volatile.acidity      6497 non-null   float64\n",
      " 2   citric.acid           6497 non-null   float64\n",
      " 3   residual.sugar        6497 non-null   float64\n",
      " 4   chlorides             6497 non-null   float64\n",
      " 5   free.sulfur.dioxide   6497 non-null   float64\n",
      " 6   total.sulfur.dioxide  6497 non-null   float64\n",
      " 7   density               6497 non-null   float64\n",
      " 8   pH                    6497 non-null   float64\n",
      " 9   sulphates             6497 non-null   float64\n",
      " 10  alcohol               6497 non-null   float64\n",
      " 11  quality               6497 non-null   int64  \n",
      "dtypes: float64(11), int64(1)\n",
      "memory usage: 609.2 KB\n"
     ]
    }
   ],
   "source": [
    "data = pd.read_csv(\"wine_quality.csv\")\n",
    "data.info()"
   ]
  },
  {
   "cell_type": "code",
   "execution_count": 49,
   "id": "60991b70",
   "metadata": {},
   "outputs": [],
   "source": [
    "def taste(quality):\n",
    "  if quality <= 5:\n",
    "    return 0\n",
    "  elif quality > 5 and quality <= 7:\n",
    "    return 1\n",
    "  else:\n",
    "    return 2"
   ]
  },
  {
   "cell_type": "code",
   "execution_count": 50,
   "id": "bd07326f",
   "metadata": {},
   "outputs": [],
   "source": [
    "new_data = data\n",
    "new_data[\"taste\"] = data[\"quality\"].apply(taste)"
   ]
  },
  {
   "cell_type": "code",
   "execution_count": 51,
   "id": "5d1a3bc2",
   "metadata": {},
   "outputs": [],
   "source": [
    "X = data[[\"fixed.acidity\",\"volatile.acidity\",\"citric.acid\",\"residual.sugar\",\"chlorides\",\"free.sulfur.dioxide\",\"total.sulfur.dioxide\",\"density\",\"pH\",\"sulphates\",\"alcohol\"]]\n",
    "y = data[[\"taste\"]]\n",
    "# X = new_data.iloc[:, 0:11].values\n",
    "# y = new_data.iloc[:, 12].values"
   ]
  },
  {
   "cell_type": "code",
   "execution_count": 52,
   "id": "3406dfd1",
   "metadata": {},
   "outputs": [
    {
     "data": {
      "text/plain": [
       "1    3915\n",
       "0    2384\n",
       "2     198\n",
       "Name: taste, dtype: int64"
      ]
     },
     "execution_count": 52,
     "metadata": {},
     "output_type": "execute_result"
    }
   ],
   "source": [
    "y[\"taste\"].value_counts()"
   ]
  },
  {
   "cell_type": "code",
   "execution_count": 53,
   "id": "a702dddb",
   "metadata": {},
   "outputs": [],
   "source": [
    "# definição de classes e features\n",
    "class_a = 0\n",
    "class_b = 1\n",
    "class_c = 2\n",
    "feature_0 = \"alcohol\"\n",
    "feature_1 = \"free.sulfur.dioxide\"\n",
    "feature_2 = \"volatile.acidity\"\n",
    "feature_3 = \"sulphates\"\n",
    "feature_4 = \"density\"\n",
    "\n",
    "# filtrar classes e features\n",
    "class_0_instances = (y.values == class_a)\n",
    "class_1_instances = (y.values == class_b)\n",
    "class_2_instances = (y.values == class_c)\n",
    "\n",
    "filtered_y = y[class_0_instances | class_1_instances| class_2_instances]\n",
    "filtered_X = X[class_0_instances | class_1_instances| class_2_instances]\n",
    "# filtered_X = attributes\n",
    "# filtered_X = filtered_X[[feature_0, feature_1,feature_2,feature_3,feature_4]]"
   ]
  },
  {
   "cell_type": "code",
   "execution_count": 54,
   "id": "80c07293",
   "metadata": {},
   "outputs": [],
   "source": [
    "#X_train, X_test, y_train, y_test = train_test_split(filtered_X, filtered_y, test_size=0.1, random_state=199)\n",
    "#X_train, X_val, y_train, y_val = train_test_split(X_train, y_train, test_size=0.1, random_state=199)"
   ]
  },
  {
   "cell_type": "code",
   "execution_count": 55,
   "id": "abe3f656",
   "metadata": {},
   "outputs": [],
   "source": [
    "X_train, X_test, y_train, y_test = train_test_split(X, y, test_size=0.1, random_state=199)\n",
    "X_train, X_val, y_train, y_val = train_test_split(X_train, y_train, test_size=0.1, random_state=199)"
   ]
  },
  {
   "cell_type": "code",
   "execution_count": 56,
   "id": "75facb58",
   "metadata": {},
   "outputs": [
    {
     "data": {
      "text/plain": [
       "DecisionTreeClassifier()"
      ]
     },
     "execution_count": 56,
     "metadata": {},
     "output_type": "execute_result"
    }
   ],
   "source": [
    "model = DecisionTreeClassifier()\n",
    "model.fit(X_train, y_train)"
   ]
  },
  {
   "cell_type": "code",
   "execution_count": 57,
   "id": "2067e6d3",
   "metadata": {},
   "outputs": [
    {
     "name": "stdout",
     "output_type": "stream",
     "text": [
      "[[155  81   3]\n",
      " [ 69 309  10]\n",
      " [  2  12   9]]\n"
     ]
    },
    {
     "name": "stderr",
     "output_type": "stream",
     "text": [
      "C:\\Users\\cfpc2\\anaconda3\\envs\\rv\\lib\\site-packages\\sklearn\\utils\\deprecation.py:87: FutureWarning: Function plot_confusion_matrix is deprecated; Function `plot_confusion_matrix` is deprecated in 1.0 and will be removed in 1.2. Use one of the class methods: ConfusionMatrixDisplay.from_predictions or ConfusionMatrixDisplay.from_estimator.\n",
      "  warnings.warn(msg, category=FutureWarning)\n"
     ]
    },
    {
     "data": {
      "text/plain": [
       "<sklearn.metrics._plot.confusion_matrix.ConfusionMatrixDisplay at 0x2cca9e38ee0>"
      ]
     },
     "execution_count": 57,
     "metadata": {},
     "output_type": "execute_result"
    },
    {
     "data": {
      "image/png": "[encoded data removed]",
      "text/plain": [
       "<Figure size 432x288 with 2 Axes>"
      ]
     },
     "metadata": {
      "needs_background": "light"
     },
     "output_type": "display_data"
    }
   ],
   "source": [
    "predicted_y = model.predict(X_test)\n",
    "print(confusion_matrix(y_test, predicted_y)) #labels define como será a ordem das classes na matriz\n",
    "plot_confusion_matrix(model, X_test, y_test)"
   ]
  },
  {
   "cell_type": "code",
   "execution_count": 58,
   "id": "4e8173ac",
   "metadata": {},
   "outputs": [
    {
     "name": "stdout",
     "output_type": "stream",
     "text": [
      "              precision    recall  f1-score   support\n",
      "\n",
      "           0       0.69      0.65      0.67       239\n",
      "           1       0.77      0.80      0.78       388\n",
      "           2       0.41      0.39      0.40        23\n",
      "\n",
      "    accuracy                           0.73       650\n",
      "   macro avg       0.62      0.61      0.62       650\n",
      "weighted avg       0.73      0.73      0.73       650\n",
      "\n"
     ]
    }
   ],
   "source": [
    "print(classification_report(y_test, predicted_y))"
   ]
  },
  {
   "cell_type": "code",
   "execution_count": 59,
   "id": "48e43776",
   "metadata": {},
   "outputs": [],
   "source": [
    "# plt.figure(figsize=(30,30))\n",
    "# plot_tree(model)"
   ]
  },
  {
   "cell_type": "code",
   "execution_count": 63,
   "id": "fe52c3f4",
   "metadata": {},
   "outputs": [
    {
     "data": {
      "text/plain": [
       "array([[0., 1., 0.],\n",
       "       [0., 1., 0.],\n",
       "       [0., 1., 0.],\n",
       "       ...,\n",
       "       [0., 1., 0.],\n",
       "       [1., 0., 0.],\n",
       "       [1., 0., 0.]], dtype=float32)"
      ]
     },
     "execution_count": 63,
     "metadata": {},
     "output_type": "execute_result"
    }
   ],
   "source": [
    "y_test_dummy = np_utils.to_categorical(y_test[\"taste\"])\n",
    "y_test_dummy\n",
    "predicted_y_dummy = np_utils.to_categorical(predicted_y)\n",
    "predicted_y_dummy"
   ]
  },
  {
   "cell_type": "code",
   "execution_count": null,
   "id": "57f1d1e4",
   "metadata": {},
   "outputs": [],
   "source": []
  },
  {
   "cell_type": "code",
   "execution_count": 61,
   "id": "82a914c4",
   "metadata": {
    "scrolled": true
   },
   "outputs": [
    {
     "name": "stdout",
     "output_type": "stream",
     "text": [
      ">acc=0.728,>prec=0.621,>f1=0.726,>rec=0.612,roc=0.715\n"
     ]
    }
   ],
   "source": [
    "roc = roc_auc_score(y_test_dummy,predicted_y_dummy,multi_class=\"ovo\",average = 'macro')\n",
    "acc = accuracy_score(y_test,predicted_y)\n",
    "precision = precision_score(y_test,predicted_y, average = \"macro\")\n",
    "f1 = f1_score(y_test,predicted_y, average = \"weighted\")\n",
    "recall = recall_score(y_test,predicted_y, average = \"macro\")\n",
    "\n",
    "print(\">acc=%.3f,>prec=%.3f,>f1=%.3f,>rec=%.3f,roc=%.3f\" % (acc,precision,f1,recall,roc))\n",
    "# print(\">acc=%.3f,>prec=%.3f,>f1=%.3f,>rec=%.3f\" % (acc,precision,f1,recall))"
   ]
  }
 ],
 "metadata": {
  "kernelspec": {
   "display_name": "Python 3 (ipykernel)",
   "language": "python",
   "name": "python3"
  },
  "language_info": {
   "codemirror_mode": {
    "name": "ipython",
    "version": 3
   },
   "file_extension": ".py",
   "mimetype": "text/x-python",
   "name": "python",
   "nbconvert_exporter": "python",
   "pygments_lexer": "ipython3",
   "version": "3.8.12"
  }
 },
 "nbformat": 4,
 "nbformat_minor": 5
}
