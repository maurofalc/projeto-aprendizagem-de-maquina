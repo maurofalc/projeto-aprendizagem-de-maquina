{
 "cells": [
  {
   "cell_type": "code",
   "execution_count": null,
   "id": "60a09043",
   "metadata": {},
   "outputs": [],
   "source": [
    "import itertools\n",
    "import numpy as np\n",
    "import pandas as pd\n",
    "import matplotlib.pyplot as plt\n",
    "from keras.utils import np_utils\n",
    "from sklearn.model_selection import StratifiedKFold\n",
    "from sklearn.svm import SVC\n",
    "from sklearn.model_selection import GridSearchCV\n",
    "from sklearn.metrics import confusion_matrix, accuracy_score\n",
    "from sklearn.metrics import roc_auc_score,confusion_matrix, accuracy_score, make_scorer, f1_score,precision_score,recall_score, plot_confusion_matrix"
   ]
  },
  {
   "cell_type": "code",
   "execution_count": null,
   "id": "3dbcbc78",
   "metadata": {},
   "outputs": [],
   "source": [
    "def print_distribution(arr, print_nl=True):\n",
    "    arr = np.unique(arr, return_counts=True)[1] / len(arr)\n",
    "    for i in range(arr.shape[0]):\n",
    "        print(\"Classe %d: %.2f%%\" %(i, arr[i]*100))\n",
    "\n",
    "    if print_nl:\n",
    "        print(\"\\n\")"
   ]
  },
  {
   "cell_type": "code",
   "execution_count": null,
   "id": "f4919f8b",
   "metadata": {},
   "outputs": [],
   "source": [
    "def taste(quality):\n",
    "  if quality <= 5:\n",
    "    return 0\n",
    "  elif quality == 6:\n",
    "    return 1\n",
    "  else:\n",
    "    return 2"
   ]
  },
  {
   "cell_type": "code",
   "execution_count": null,
   "id": "783634e9",
   "metadata": {},
   "outputs": [],
   "source": [
    "data = pd.read_csv(\"wine_quality.csv\")\n",
    "data.info()"
   ]
  },
  {
   "cell_type": "code",
   "execution_count": null,
   "id": "e67bf1e1",
   "metadata": {},
   "outputs": [],
   "source": [
    "new_data = data\n",
    "new_data[\"taste\"] = data[\"quality\"].apply(taste)"
   ]
  },
  {
   "cell_type": "code",
   "execution_count": null,
   "id": "6b38f048",
   "metadata": {},
   "outputs": [],
   "source": [
    "new_data"
   ]
  },
  {
   "cell_type": "markdown",
   "id": "d7112669",
   "metadata": {},
   "source": [
    "## Divisão de base de dados e separação de base"
   ]
  },
  {
   "cell_type": "code",
   "execution_count": null,
   "id": "865dd995",
   "metadata": {},
   "outputs": [],
   "source": [
    "X = new_data.iloc[:, 0:11].values\n",
    "y = new_data.iloc[:, 12].values"
   ]
  },
  {
   "cell_type": "code",
   "execution_count": null,
   "id": "6ca1d027",
   "metadata": {},
   "outputs": [],
   "source": [
    "print(\"Proporções por classe no dataset em geral:\")\n",
    "print_distribution(y)\n",
    "\n",
    "kf = StratifiedKFold(n_splits=10, shuffle=True, random_state=199)\n",
    "fold = 0\n",
    "for train, test in kf.split(X, y):\n",
    "    print(\"Fold %d\" %(fold))\n",
    "    print_distribution(y[train], print_nl=(fold != 2))\n",
    "    fold += 1"
   ]
  },
  {
   "cell_type": "code",
   "execution_count": null,
   "id": "1ebca989",
   "metadata": {},
   "outputs": [],
   "source": [
    "kf_accuracy = list()\n",
    "kf_conf_mat = list()\n",
    "kf_precision = list()\n",
    "kf_f1 = list()\n",
    "kf_recall = list()\n",
    "kf_roc = list()"
   ]
  },
  {
   "cell_type": "markdown",
   "id": "7044640b",
   "metadata": {},
   "source": [
    "## Laço para execução do gridsearch em cada fold "
   ]
  },
  {
   "cell_type": "code",
   "execution_count": null,
   "id": "d9f24a1a",
   "metadata": {},
   "outputs": [],
   "source": [
    "for train_ix, test_ix in kf.split(X,y):\n",
    "    X_train, X_test = X[train_ix, :], X[test_ix, :]\n",
    "    y_train, y_test = y[train_ix], y[test_ix]\n",
    "    model = SVC(random_state=199)\n",
    "    # parâmetros para teste do gridsearch\n",
    "    parameters = dict()\n",
    "    parameters[\"C\"] = list(range(1, 11))\n",
    "    parameters[\"kernel\"] = [\"linear\", \"poly\", \"rbf\", \"sigmoid\", \"precomputed\"]\n",
    "    search = GridSearchCV(model, parameters, scoring=\"accuracy\", cv=10, refit=True)\n",
    "    # executar e salvar melhores parâmetros do grisearch\n",
    "    result = search.fit(X_train, y_train)\n",
    "    best_model = result.best_estimator_\n",
    "    # teste dos melhores parâmetros\n",
    "    predicted_y = best_model.predict(X_test)\n",
    "    #transformação de itens para cálculo do ROC\n",
    "    y_test_dummy = np_utils.to_categorical(y_test)\n",
    "    y_test_dummy\n",
    "    predicted_y_dummy = np_utils.to_categorical(predicted_y)\n",
    "    predicted_y_dummy\n",
    "    # métricas do modelo\n",
    "    acc = accuracy_score(y_test, predicted_y)\n",
    "    conf_mat = confusion_matrix(y_test, predicted_y)\n",
    "    f1 = f1_score(y_test, predicted_y, average = \"macro\")\n",
    "    recall = recall_score(y_test, predicted_y, average = \"macro\")\n",
    "    roc = roc_auc_score(y_test_dummy,predicted_y_dummy,multi_class=\"ovo\",average = \"macro\")\n",
    "    #armazenamento de métricas\n",
    "    kf_accuracy.append(acc)\n",
    "    kf_conf_mat.append(conf_mat)\n",
    "    kf_f1.append(f1)\n",
    "    kf_recall.append(recall)\n",
    "    kf_roc.append(roc)\n",
    "    #métricas\n",
    "    print(\">acc=%.3f,>f1=%.3f,>rec=%.3f,>roc=%.3f, est=%.3f, cfg=%s\" % (acc,f1,recall,roc, result.best_score_, result.best_params_))\n",
    "    print(conf_mat)"
   ]
  },
  {
   "cell_type": "code",
   "execution_count": null,
   "id": "ccd2ab2f",
   "metadata": {},
   "outputs": [],
   "source": [
    "print(\"Accuracy: %.3f (%.3f)\" % (np.mean(kf_accuracy), np.std(kf_accuracy)))\n",
    "print(\"F1-score: %.3f (%.3f)\" % (np.mean(kf_f1), np.std(kf_f1)))\n",
    "print(\"Recall: %.3f (%.3f)\" % (np.mean(kf_recall), np.std(kf_recall)))\n",
    "print(\"ROC: %.3f (%.3f)\" % (np.mean(kf_roc), np.std(kf_roc)))"
   ]
  },
  {
   "cell_type": "code",
   "execution_count": null,
   "id": "4e3fdae8",
   "metadata": {},
   "outputs": [],
   "source": [
    "kf_conf_mat"
   ]
  },
  {
   "cell_type": "code",
   "execution_count": null,
   "id": "8ab64940",
   "metadata": {},
   "outputs": [],
   "source": [
    "conf_mat_mean = np.mean(kf_conf_mat,axis=0)"
   ]
  },
  {
   "cell_type": "code",
   "execution_count": null,
   "id": "3dc7eac0",
   "metadata": {},
   "outputs": [],
   "source": [
    "def plot_confusion_matrix(cm, classes, normalize=False, title='Confusion matrix', cmap=plt.cm.Blues):\n",
    "    if normalize:\n",
    "        cm = cm.astype('float') / cm.sum(axis=1)[:, np.newaxis]\n",
    "        print(\"Normalized confusion matrix\")\n",
    "    else:\n",
    "        print('Confusion matrix, without normalization')\n",
    "\n",
    "    print(cm)\n",
    "    plt.imshow(cm, interpolation='nearest', cmap=cmap)\n",
    "    plt.title(title)\n",
    "    plt.colorbar()\n",
    "    tick_marks = np.arange(len(classes))\n",
    "    plt.xticks(tick_marks, classes, rotation=45)\n",
    "    plt.yticks(tick_marks, classes)\n",
    "\n",
    "    fmt = '.2f' if normalize else '.2f'\n",
    "    thresh = cm.max() / 2.\n",
    "    for i, j in itertools.product(range(cm.shape[0]), range(cm.shape[1])):\n",
    "        plt.text(j, i, format(cm[i, j], fmt), horizontalalignment=\"center\", color=\"white\" if cm[i, j] > thresh else \"black\")\n",
    "\n",
    "    plt.tight_layout()\n",
    "    plt.ylabel('True label')\n",
    "    plt.xlabel('Predicted label')\n",
    "    \n",
    "plot_confusion_matrix(conf_mat_mean,[\"Bad\",\"Medium\",\"Good\"])"
   ]
  }
 ],
 "metadata": {
  "kernelspec": {
   "display_name": "Python 3 (ipykernel)",
   "language": "python",
   "name": "python3"
  },
  "language_info": {
   "codemirror_mode": {
    "name": "ipython",
    "version": 3
   },
   "file_extension": ".py",
   "mimetype": "text/x-python",
   "name": "python",
   "nbconvert_exporter": "python",
   "pygments_lexer": "ipython3",
   "version": "3.8.8"
  }
 },
 "nbformat": 4,
 "nbformat_minor": 5
}
