{
 "cells": [
  {
   "cell_type": "code",
   "execution_count": 50,
   "metadata": {},
   "outputs": [],
   "source": [
    "# importando bibliotecas\n",
    "import numpy as np\n",
    "import pandas as pd\n",
    "import matplotlib.pyplot as plt\n",
    "from sklearn.neighbors import KNeighborsClassifier\n",
    "from sklearn.model_selection import StratifiedKFold, GridSearchCV, train_test_split\n",
    "from sklearn.metrics import accuracy_score, make_scorer, f1_score,precision_score,recall_score, classification_report, confusion_matrix, plot_confusion_matrix"
   ]
  },
  {
   "cell_type": "code",
   "execution_count": 51,
   "metadata": {},
   "outputs": [],
   "source": [
    "data = pd.read_csv(\"wine_quality.csv\")"
   ]
  },
  {
   "cell_type": "code",
   "execution_count": 52,
   "metadata": {},
   "outputs": [
    {
     "name": "stdout",
     "output_type": "stream",
     "text": [
      "<class 'pandas.core.frame.DataFrame'>\n",
      "RangeIndex: 6497 entries, 0 to 6496\n",
      "Data columns (total 12 columns):\n",
      " #   Column                Non-Null Count  Dtype  \n",
      "---  ------                --------------  -----  \n",
      " 0   fixed.acidity         6497 non-null   float64\n",
      " 1   volatile.acidity      6497 non-null   float64\n",
      " 2   citric.acid           6497 non-null   float64\n",
      " 3   residual.sugar        6497 non-null   float64\n",
      " 4   chlorides             6497 non-null   float64\n",
      " 5   free.sulfur.dioxide   6497 non-null   float64\n",
      " 6   total.sulfur.dioxide  6497 non-null   float64\n",
      " 7   density               6497 non-null   float64\n",
      " 8   pH                    6497 non-null   float64\n",
      " 9   sulphates             6497 non-null   float64\n",
      " 10  alcohol               6497 non-null   float64\n",
      " 11  quality               6497 non-null   int64  \n",
      "dtypes: float64(11), int64(1)\n",
      "memory usage: 609.2 KB\n"
     ]
    }
   ],
   "source": [
    "data.info()"
   ]
  },
  {
   "cell_type": "code",
   "execution_count": 53,
   "metadata": {},
   "outputs": [
    {
     "data": {
      "text/html": [
       "<div>\n",
       "<style scoped>\n",
       "    .dataframe tbody tr th:only-of-type {\n",
       "        vertical-align: middle;\n",
       "    }\n",
       "\n",
       "    .dataframe tbody tr th {\n",
       "        vertical-align: top;\n",
       "    }\n",
       "\n",
       "    .dataframe thead th {\n",
       "        text-align: right;\n",
       "    }\n",
       "</style>\n",
       "<table border=\"1\" class=\"dataframe\">\n",
       "  <thead>\n",
       "    <tr style=\"text-align: right;\">\n",
       "      <th></th>\n",
       "      <th>fixed.acidity</th>\n",
       "      <th>volatile.acidity</th>\n",
       "      <th>citric.acid</th>\n",
       "      <th>residual.sugar</th>\n",
       "      <th>chlorides</th>\n",
       "      <th>free.sulfur.dioxide</th>\n",
       "      <th>total.sulfur.dioxide</th>\n",
       "      <th>density</th>\n",
       "      <th>pH</th>\n",
       "      <th>sulphates</th>\n",
       "      <th>alcohol</th>\n",
       "      <th>quality</th>\n",
       "    </tr>\n",
       "  </thead>\n",
       "  <tbody>\n",
       "    <tr>\n",
       "      <th>0</th>\n",
       "      <td>7.4</td>\n",
       "      <td>0.70</td>\n",
       "      <td>0.00</td>\n",
       "      <td>1.9</td>\n",
       "      <td>0.076</td>\n",
       "      <td>11.0</td>\n",
       "      <td>34.0</td>\n",
       "      <td>0.9978</td>\n",
       "      <td>3.51</td>\n",
       "      <td>0.56</td>\n",
       "      <td>9.4</td>\n",
       "      <td>5</td>\n",
       "    </tr>\n",
       "    <tr>\n",
       "      <th>1</th>\n",
       "      <td>7.8</td>\n",
       "      <td>0.88</td>\n",
       "      <td>0.00</td>\n",
       "      <td>2.6</td>\n",
       "      <td>0.098</td>\n",
       "      <td>25.0</td>\n",
       "      <td>67.0</td>\n",
       "      <td>0.9968</td>\n",
       "      <td>3.20</td>\n",
       "      <td>0.68</td>\n",
       "      <td>9.8</td>\n",
       "      <td>5</td>\n",
       "    </tr>\n",
       "    <tr>\n",
       "      <th>2</th>\n",
       "      <td>7.8</td>\n",
       "      <td>0.76</td>\n",
       "      <td>0.04</td>\n",
       "      <td>2.3</td>\n",
       "      <td>0.092</td>\n",
       "      <td>15.0</td>\n",
       "      <td>54.0</td>\n",
       "      <td>0.9970</td>\n",
       "      <td>3.26</td>\n",
       "      <td>0.65</td>\n",
       "      <td>9.8</td>\n",
       "      <td>5</td>\n",
       "    </tr>\n",
       "    <tr>\n",
       "      <th>3</th>\n",
       "      <td>11.2</td>\n",
       "      <td>0.28</td>\n",
       "      <td>0.56</td>\n",
       "      <td>1.9</td>\n",
       "      <td>0.075</td>\n",
       "      <td>17.0</td>\n",
       "      <td>60.0</td>\n",
       "      <td>0.9980</td>\n",
       "      <td>3.16</td>\n",
       "      <td>0.58</td>\n",
       "      <td>9.8</td>\n",
       "      <td>6</td>\n",
       "    </tr>\n",
       "    <tr>\n",
       "      <th>4</th>\n",
       "      <td>7.4</td>\n",
       "      <td>0.70</td>\n",
       "      <td>0.00</td>\n",
       "      <td>1.9</td>\n",
       "      <td>0.076</td>\n",
       "      <td>11.0</td>\n",
       "      <td>34.0</td>\n",
       "      <td>0.9978</td>\n",
       "      <td>3.51</td>\n",
       "      <td>0.56</td>\n",
       "      <td>9.4</td>\n",
       "      <td>5</td>\n",
       "    </tr>\n",
       "  </tbody>\n",
       "</table>\n",
       "</div>"
      ],
      "text/plain": [
       "   fixed.acidity  volatile.acidity  citric.acid  residual.sugar  chlorides  \\\n",
       "0            7.4              0.70         0.00             1.9      0.076   \n",
       "1            7.8              0.88         0.00             2.6      0.098   \n",
       "2            7.8              0.76         0.04             2.3      0.092   \n",
       "3           11.2              0.28         0.56             1.9      0.075   \n",
       "4            7.4              0.70         0.00             1.9      0.076   \n",
       "\n",
       "   free.sulfur.dioxide  total.sulfur.dioxide  density    pH  sulphates  \\\n",
       "0                 11.0                  34.0   0.9978  3.51       0.56   \n",
       "1                 25.0                  67.0   0.9968  3.20       0.68   \n",
       "2                 15.0                  54.0   0.9970  3.26       0.65   \n",
       "3                 17.0                  60.0   0.9980  3.16       0.58   \n",
       "4                 11.0                  34.0   0.9978  3.51       0.56   \n",
       "\n",
       "   alcohol  quality  \n",
       "0      9.4        5  \n",
       "1      9.8        5  \n",
       "2      9.8        5  \n",
       "3      9.8        6  \n",
       "4      9.4        5  "
      ]
     },
     "execution_count": 53,
     "metadata": {},
     "output_type": "execute_result"
    }
   ],
   "source": [
    "data.head()"
   ]
  },
  {
   "cell_type": "code",
   "execution_count": 54,
   "metadata": {},
   "outputs": [],
   "source": [
    "def print_distribution(arr, print_nl=True):\n",
    "    arr = np.unique(arr, return_counts=True)[1] / len(arr)\n",
    "    for i in range(arr.shape[0]):\n",
    "        print(\"Classe %d: %.2f%%\" %(i, arr[i]*100))\n",
    "\n",
    "    if print_nl:\n",
    "        print(\"\\n\")"
   ]
  },
  {
   "cell_type": "code",
   "execution_count": 55,
   "metadata": {},
   "outputs": [],
   "source": [
    "def taste(quality):\n",
    "  if quality <= 5:\n",
    "    return 1\n",
    "  elif quality > 5 and quality <= 7:\n",
    "    return 2\n",
    "  else:\n",
    "    return 3"
   ]
  },
  {
   "cell_type": "code",
   "execution_count": 56,
   "metadata": {},
   "outputs": [],
   "source": [
    "new_data = data\n",
    "new_data[\"taste\"] = data[\"quality\"].apply(taste)"
   ]
  },
  {
   "cell_type": "code",
   "execution_count": 57,
   "metadata": {},
   "outputs": [],
   "source": [
    "# separação de target e features\n",
    "X = new_data.iloc[:, 0:11].values\n",
    "y = new_data.iloc[:, 12].values"
   ]
  },
  {
   "cell_type": "code",
   "execution_count": 58,
   "metadata": {},
   "outputs": [
    {
     "name": "stdout",
     "output_type": "stream",
     "text": [
      "Proporções por classe no dataset em geral:\n",
      "Classe 0: 36.69%\n",
      "Classe 1: 60.26%\n",
      "Classe 2: 3.05%\n",
      "\n",
      "\n",
      "Fold 0\n",
      "Classe 0: 36.69%\n",
      "Classe 1: 60.27%\n",
      "Classe 2: 3.04%\n",
      "\n",
      "\n",
      "Fold 1\n",
      "Classe 0: 36.69%\n",
      "Classe 1: 60.27%\n",
      "Classe 2: 3.04%\n",
      "\n",
      "\n",
      "Fold 2\n",
      "Classe 0: 36.69%\n",
      "Classe 1: 60.27%\n",
      "Classe 2: 3.04%\n",
      "Fold 3\n",
      "Classe 0: 36.69%\n",
      "Classe 1: 60.27%\n",
      "Classe 2: 3.04%\n",
      "\n",
      "\n",
      "Fold 4\n",
      "Classe 0: 36.70%\n",
      "Classe 1: 60.25%\n",
      "Classe 2: 3.04%\n",
      "\n",
      "\n",
      "Fold 5\n",
      "Classe 0: 36.70%\n",
      "Classe 1: 60.25%\n",
      "Classe 2: 3.04%\n",
      "\n",
      "\n",
      "Fold 6\n",
      "Classe 0: 36.70%\n",
      "Classe 1: 60.25%\n",
      "Classe 2: 3.04%\n",
      "\n",
      "\n",
      "Fold 7\n",
      "Classe 0: 36.70%\n",
      "Classe 1: 60.24%\n",
      "Classe 2: 3.06%\n",
      "\n",
      "\n",
      "Fold 8\n",
      "Classe 0: 36.70%\n",
      "Classe 1: 60.24%\n",
      "Classe 2: 3.06%\n",
      "\n",
      "\n",
      "Fold 9\n",
      "Classe 0: 36.70%\n",
      "Classe 1: 60.26%\n",
      "Classe 2: 3.04%\n",
      "\n",
      "\n"
     ]
    }
   ],
   "source": [
    "print(\"Proporções por classe no dataset em geral:\")\n",
    "print_distribution(y)\n",
    "\n",
    "kf = StratifiedKFold(n_splits=10, shuffle=True, random_state=199)\n",
    "fold = 0\n",
    "for train, test in kf.split(X, y):\n",
    "    print(\"Fold %d\" %(fold))\n",
    "    print_distribution(y[train], print_nl=(fold != 2))\n",
    "    fold += 1"
   ]
  },
  {
   "cell_type": "code",
   "execution_count": 59,
   "metadata": {},
   "outputs": [],
   "source": [
    "kf_results = list()\n",
    "kf_conf_mat = list()\n",
    "kf_prec = list()\n",
    "kf_f1 = list()\n",
    "kf_rec = list()\n",
    "\n",
    "scores = {\n",
    "  'accuracy': make_scorer(accuracy_score),\n",
    "  'precision': make_scorer(precision_score, average = 'macro'),\n",
    "  'recall': make_scorer(recall_score, average = 'macro'),\n",
    "  'f1_macro': make_scorer(f1_score, average = 'macro'),\n",
    "  'f1_weighted': make_scorer(f1_score, average = 'weighted')\n",
    "}"
   ]
  },
  {
   "cell_type": "code",
   "execution_count": 60,
   "metadata": {},
   "outputs": [
    {
     "name": "stdout",
     "output_type": "stream",
     "text": [
      ">acc=0.748,>prec=0.823,>f1=0.742,>rec=0.580 est=0.584, cfg={'metric': 'manhattan', 'n_neighbors': 9, 'weights': 'distance'}\n",
      "[[160  79   0]\n",
      " [ 70 321   0]\n",
      " [  0  15   5]]\n",
      ">acc=0.778,>prec=0.792,>f1=0.772,>rec=0.600 est=0.582, cfg={'metric': 'manhattan', 'n_neighbors': 9, 'weights': 'distance'}\n",
      "[[165  74   0]\n",
      " [ 54 336   1]\n",
      " [  1  14   5]]\n",
      ">acc=0.675,>prec=0.565,>f1=0.668,>rec=0.493 est=0.581, cfg={'metric': 'manhattan', 'n_neighbors': 5, 'weights': 'uniform'}\n",
      "[[131 107   1]\n",
      " [ 82 305   4]\n",
      " [  4  13   3]]\n",
      ">acc=0.738,>prec=0.786,>f1=0.733,>rec=0.643 est=0.587, cfg={'metric': 'manhattan', 'n_neighbors': 9, 'weights': 'distance'}\n",
      "[[140  98   1]\n",
      " [ 61 330   0]\n",
      " [  1   9  10]]\n",
      ">acc=0.720,>prec=0.713,>f1=0.715,>rec=0.602 est=0.582, cfg={'metric': 'manhattan', 'n_neighbors': 7, 'weights': 'distance'}\n",
      "[[140  98   0]\n",
      " [ 69 320   3]\n",
      " [  1  11   8]]\n",
      ">acc=0.791,>prec=0.857,>f1=0.785,>rec=0.636 est=0.586, cfg={'metric': 'manhattan', 'n_neighbors': 11, 'weights': 'distance'}\n",
      "[[160  78   0]\n",
      " [ 45 347   0]\n",
      " [  1  12   7]]\n",
      ">acc=0.775,>prec=0.817,>f1=0.769,>rec=0.668 est=0.585, cfg={'metric': 'manhattan', 'n_neighbors': 11, 'weights': 'distance'}\n",
      "[[148  90   0]\n",
      " [ 45 346   1]\n",
      " [  1   9  10]]\n",
      ">acc=0.770,>prec=0.839,>f1=0.766,>rec=0.629 est=0.583, cfg={'metric': 'manhattan', 'n_neighbors': 11, 'weights': 'distance'}\n",
      "[[158  80   0]\n",
      " [ 57 335   0]\n",
      " [  1  11   7]]\n",
      ">acc=0.712,>prec=0.795,>f1=0.706,>rec=0.599 est=0.581, cfg={'metric': 'manhattan', 'n_neighbors': 9, 'weights': 'distance'}\n",
      "[[132 106   0]\n",
      " [ 70 322   0]\n",
      " [  1  10   8]]\n",
      ">acc=0.763,>prec=0.779,>f1=0.755,>rec=0.642 est=0.585, cfg={'metric': 'manhattan', 'n_neighbors': 9, 'weights': 'distance'}\n",
      "[[142  95   1]\n",
      " [ 46 344   1]\n",
      " [  0  11   9]]\n"
     ]
    }
   ],
   "source": [
    "for train_ix, test_ix in kf.split(X,y):\n",
    "  X_train, X_test = X[train_ix, :], X[test_ix, :]\n",
    "  y_train, y_test = y[train_ix], y[test_ix]\n",
    "  \n",
    "  classifier = KNeighborsClassifier()\n",
    "\n",
    "  parameters = {\n",
    "    'n_neighbors': [1, 3, 5, 7, 9, 11],\n",
    "    'weights': ['uniform', 'distance'],\n",
    "    'metric': ['euclidean', 'manhattan']\n",
    "  }\n",
    "  # define search space\n",
    "  search = GridSearchCV(estimator=classifier, param_grid=parameters, scoring=\"accuracy\", cv=3, refit=True)\n",
    "  # execute search\n",
    "  result = search.fit(X_train, y_train)\n",
    "  # get the best performing model fit on the whole training set\n",
    "  best_model = result.best_estimator_\n",
    "  # evaluate model on the hold out dataset\n",
    "  yhat = best_model.predict(X_test)\n",
    "  # evaluate the model\n",
    "  acc = accuracy_score(y_test, yhat)\n",
    "  conf_mat = confusion_matrix(y_test, yhat)\n",
    "  precision = precision_score(y_test, yhat, average = \"macro\")\n",
    "  f1 = f1_score(y_test, yhat, average = \"weighted\")\n",
    "  recall = recall_score(y_test, yhat, average = \"macro\")\n",
    "  # store the result\n",
    "  #kf_class_rep.append(class_rep)\n",
    "  kf_conf_mat.append(conf_mat)\n",
    "  kf_results.append(acc)\n",
    "  kf_prec.append(precision)\n",
    "  kf_f1.append(f1)\n",
    "  kf_rec.append(recall)\n",
    "  # report progress\n",
    "  print(\">acc=%.3f,>prec=%.3f,>f1=%.3f,>rec=%.3f est=%.3f, cfg=%s\" % (acc,precision,f1,recall, result.best_score_, result.best_params_))\n",
    "  print(conf_mat)"
   ]
  },
  {
   "cell_type": "code",
   "execution_count": 61,
   "metadata": {},
   "outputs": [
    {
     "name": "stdout",
     "output_type": "stream",
     "text": [
      "Accuracy: 0.747 (0.034)\n",
      "Precision: 0.777 (0.080)\n",
      "F1-score: 0.741 (0.035)\n",
      "Recall: 0.609 (0.046)\n"
     ]
    }
   ],
   "source": [
    "print('Accuracy: %.3f (%.3f)' % (np.mean(kf_results), np.std(kf_results)))\n",
    "print('Precision: %.3f (%.3f)' % (np.mean(kf_prec), np.std(kf_prec)))\n",
    "print('F1-score: %.3f (%.3f)' % (np.mean(kf_f1), np.std(kf_f1)))\n",
    "print('Recall: %.3f (%.3f)' % (np.mean(kf_rec), np.std(kf_rec)))"
   ]
  },
  {
   "cell_type": "code",
   "execution_count": 62,
   "metadata": {},
   "outputs": [
    {
     "data": {
      "text/plain": [
       "[array([[160,  79,   0],\n",
       "        [ 70, 321,   0],\n",
       "        [  0,  15,   5]], dtype=int64),\n",
       " array([[165,  74,   0],\n",
       "        [ 54, 336,   1],\n",
       "        [  1,  14,   5]], dtype=int64),\n",
       " array([[131, 107,   1],\n",
       "        [ 82, 305,   4],\n",
       "        [  4,  13,   3]], dtype=int64),\n",
       " array([[140,  98,   1],\n",
       "        [ 61, 330,   0],\n",
       "        [  1,   9,  10]], dtype=int64),\n",
       " array([[140,  98,   0],\n",
       "        [ 69, 320,   3],\n",
       "        [  1,  11,   8]], dtype=int64),\n",
       " array([[160,  78,   0],\n",
       "        [ 45, 347,   0],\n",
       "        [  1,  12,   7]], dtype=int64),\n",
       " array([[148,  90,   0],\n",
       "        [ 45, 346,   1],\n",
       "        [  1,   9,  10]], dtype=int64),\n",
       " array([[158,  80,   0],\n",
       "        [ 57, 335,   0],\n",
       "        [  1,  11,   7]], dtype=int64),\n",
       " array([[132, 106,   0],\n",
       "        [ 70, 322,   0],\n",
       "        [  1,  10,   8]], dtype=int64),\n",
       " array([[142,  95,   1],\n",
       "        [ 46, 344,   1],\n",
       "        [  0,  11,   9]], dtype=int64)]"
      ]
     },
     "execution_count": 62,
     "metadata": {},
     "output_type": "execute_result"
    }
   ],
   "source": [
    "kf_conf_mat"
   ]
  },
  {
   "cell_type": "code",
   "execution_count": 63,
   "metadata": {},
   "outputs": [
    {
     "data": {
      "image/png": "[encoded data removed]",
      "text/plain": [
       "<Figure size 432x288 with 2 Axes>"
      ]
     },
     "metadata": {
      "needs_background": "light"
     },
     "output_type": "display_data"
    }
   ],
   "source": [
    "# matriz de confusão\n",
    "plot_confusion_matrix(result, X_test, y_test)\n",
    "plt.show()"
   ]
  },
  {
   "cell_type": "code",
   "execution_count": 64,
   "metadata": {},
   "outputs": [
    {
     "data": {
      "text/plain": [
       "KNeighborsClassifier(n_neighbors=11)"
      ]
     },
     "execution_count": 64,
     "metadata": {},
     "output_type": "execute_result"
    }
   ],
   "source": [
    "#knn\n",
    "knn = KNeighborsClassifier(n_neighbors=11)\n",
    "\n",
    "knn.fit(X_train, y_train)"
   ]
  },
  {
   "cell_type": "code",
   "execution_count": 65,
   "metadata": {},
   "outputs": [
    {
     "name": "stdout",
     "output_type": "stream",
     "text": [
      "[2 1 1 1 2 2 2 1 2 2 1 2 1 1 1 1 1 1 1 1 1 2 2 1 1 1 2 1 2 1 1 2 1 1 2 2 2\n",
      " 2 2 2 2 1 2 1 2 2 2 2 2 2 2 2 1 2 2 2 2 1 2 2 2 2 2 2 2 2 2 1 2 2 2 2 2 2\n",
      " 2 2 2 1 1 2 2 2 2 2 1 1 2 2 2 1 1 2 1 2 2 1 2 1 1 2 2 1 2 2 2 2 2 1 2 2 2\n",
      " 1 2 2 2 2 2 2 1 2 2 2 2 2 2 2 2 2 1 2 2 2 2 2 1 1 2 2 1 2 1 1 1 1 2 2 2 1\n",
      " 2 1 2 2 2 2 2 1 2 2 1 2 2 2 2 2 2 2 2 2 2 2 1 2 2 2 2 2 1 1 1 2 1 1 2 1 2\n",
      " 1 1 1 2 1 1 1 2 1 2 1 2 2 2 2 2 2 2 2 2 1 2 2 1 2 1 2 2 2 1 2 2 2 2 1 2 2\n",
      " 2 2 2 2 2 2 1 2 1 1 2 2 2 2 2 1 2 2 2 2 2 2 1 2 2 2 1 2 1 1 2 2 2 2 2 2 2\n",
      " 2 1 2 1 2 2 1 2 2 1 2 2 1 2 1 2 2 1 2 2 2 2 2 1 2 2 1 1 2 2 1 1 1 2 1 2 2\n",
      " 2 1 2 2 2 1 2 1 2 2 1 2 1 1 2 2 1 2 1 2 2 2 1 1 1 2 1 2 1 2 2 1 2 1 1 2 1\n",
      " 1 1 2 1 1 2 1 2 2 1 1 2 2 1 1 2 2 1 1 2 2 2 2 2 1 2 2 1 1 2 2 2 2 2 2 2 2\n",
      " 2 1 2 2 1 1 2 1 2 1 2 2 1 1 1 2 2 2 1 1 1 1 2 1 1 1 1 2 2 1 2 2 2 1 2 2 2\n",
      " 2 1 2 2 2 2 2 2 2 2 2 2 2 2 2 2 2 1 1 2 2 2 2 2 2 2 2 2 2 2 1 2 1 2 2 2 2\n",
      " 2 2 2 2 2 2 2 2 2 2 1 2 2 2 2 2 2 2 2 1 2 2 2 1 1 2 1 2 1 2 2 2 2 2 1 2 2\n",
      " 2 2 2 2 2 1 2 2 2 2 1 2 2 2 1 2 2 1 1 2 2 2 2 2 2 2 2 2 2 2 2 2 2 2 2 2 2\n",
      " 2 2 2 2 2 1 2 2 1 1 2 2 2 2 2 1 1 2 1 2 2 2 2 2 2 2 2 2 2 2 2 1 2 1 2 1 2\n",
      " 2 2 1 2 2 2 1 1 2 1 2 1 2 2 2 2 2 2 1 2 2 2 2 1 2 2 2 2 1 2 2 2 2 2 2 2 2\n",
      " 1 1 3 3 2 2 2 2 2 2 2 1 2 2 2 2 2 2 1 2 1 1 2 2 2 2 2 2 2 1 2 2 2 2 2 2 2\n",
      " 2 2 2 2 2 1 2 2 2 2 2 2 2 2 1 1 2 1 1 2]\n"
     ]
    }
   ],
   "source": [
    "print(knn.predict(X_test))"
   ]
  },
  {
   "cell_type": "code",
   "execution_count": 66,
   "metadata": {},
   "outputs": [
    {
     "name": "stdout",
     "output_type": "stream",
     "text": [
      "              precision    recall  f1-score   support\n",
      "\n",
      "           1       0.61      0.48      0.54       238\n",
      "           2       0.70      0.82      0.76       391\n",
      "           3       1.00      0.10      0.18        20\n",
      "\n",
      "    accuracy                           0.67       649\n",
      "   macro avg       0.77      0.47      0.49       649\n",
      "weighted avg       0.68      0.67      0.66       649\n",
      "\n"
     ]
    }
   ],
   "source": [
    "print(classification_report(y_test, knn.predict(X_test)))"
   ]
  }
 ],
 "metadata": {
  "interpreter": {
   "hash": "efee6a603fc744f42a29b485413f31b79f370efe6aa8fbc1e2dfa8bbd1afe4aa"
  },
  "kernelspec": {
   "display_name": "Python 3.9.9 64-bit (windows store)",
   "language": "python",
   "name": "python3"
  },
  "language_info": {
   "codemirror_mode": {
    "name": "ipython",
    "version": 3
   },
   "file_extension": ".py",
   "mimetype": "text/x-python",
   "name": "python",
   "nbconvert_exporter": "python",
   "pygments_lexer": "ipython3",
   "version": "3.8.8"
  },
  "orig_nbformat": 4
 },
 "nbformat": 4,
 "nbformat_minor": 2
}
