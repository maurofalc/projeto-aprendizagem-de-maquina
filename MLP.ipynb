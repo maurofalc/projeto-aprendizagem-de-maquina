{
 "cells": [
  {
   "cell_type": "code",
   "execution_count": 14,
   "id": "60a09043",
   "metadata": {},
   "outputs": [],
   "source": [
    "import pandas as pd\n",
    "import pandas as pd\n",
    "import numpy as np\n",
    "from keras.models import Sequential\n",
    "from keras.layers import Dense, Dropout\n",
    "from keras.utils import np_utils\n",
    "from sklearn.preprocessing import LabelEncoder\n",
    "from sklearn.model_selection import train_test_split\n",
    "from sklearn.metrics import confusion_matrix, accuracy_score\n",
    "from sklearn.preprocessing import MinMaxScaler\n",
    "import matplotlib.pyplot as plt\n",
    "import itertools\n",
    "from sklearn.metrics import classification_report, plot_confusion_matrix\n",
    "import seaborn as sns"
   ]
  },
  {
   "cell_type": "code",
   "execution_count": 15,
   "id": "783634e9",
   "metadata": {},
   "outputs": [
    {
     "name": "stdout",
     "output_type": "stream",
     "text": [
      "<class 'pandas.core.frame.DataFrame'>\n",
      "RangeIndex: 6497 entries, 0 to 6496\n",
      "Data columns (total 12 columns):\n",
      " #   Column                Non-Null Count  Dtype  \n",
      "---  ------                --------------  -----  \n",
      " 0   fixed.acidity         6497 non-null   float64\n",
      " 1   volatile.acidity      6497 non-null   float64\n",
      " 2   citric.acid           6497 non-null   float64\n",
      " 3   residual.sugar        6497 non-null   float64\n",
      " 4   chlorides             6497 non-null   float64\n",
      " 5   free.sulfur.dioxide   6497 non-null   float64\n",
      " 6   total.sulfur.dioxide  6497 non-null   float64\n",
      " 7   density               6497 non-null   float64\n",
      " 8   pH                    6497 non-null   float64\n",
      " 9   sulphates             6497 non-null   float64\n",
      " 10  alcohol               6497 non-null   float64\n",
      " 11  quality               6497 non-null   int64  \n",
      "dtypes: float64(11), int64(1)\n",
      "memory usage: 609.2 KB\n"
     ]
    }
   ],
   "source": [
    "data = pd.read_csv(\"wine_quality.csv\")\n",
    "data.info()"
   ]
  },
  {
   "cell_type": "markdown",
   "id": "d7112669",
   "metadata": {},
   "source": [
    "## Divisão de base de dados e separação de base"
   ]
  },
  {
   "cell_type": "code",
   "execution_count": 16,
   "id": "865dd995",
   "metadata": {},
   "outputs": [],
   "source": [
    "#attributes = data[[\"fixed.acidity\",\"volatile.acidity\",\"citric.acid\",\"residual.sugar\",\"chlorides\",\"free.sulfur.dioxide\",\"total.sulfur.dioxide\",\"density\",\"pH\",\"sulphates\",\"alcohol\"]]\n",
    "#quality = data[[\"quality\"]]"
   ]
  },
  {
   "cell_type": "code",
   "execution_count": 18,
   "id": "e1a7a5b6",
   "metadata": {},
   "outputs": [
    {
     "name": "stdout",
     "output_type": "stream",
     "text": [
      "Epoch 1/50\n",
      "137/137 [==============================] - 1s 3ms/step - loss: 8.9650 - categorical_accuracy: 0.3481 - val_loss: 2.0689 - val_categorical_accuracy: 0.4406\n",
      "Epoch 2/50\n",
      "137/137 [==============================] - 0s 2ms/step - loss: 4.6315 - categorical_accuracy: 0.3483 - val_loss: 2.0460 - val_categorical_accuracy: 0.4488\n",
      "Epoch 3/50\n",
      "137/137 [==============================] - 0s 2ms/step - loss: 2.9802 - categorical_accuracy: 0.3515 - val_loss: 1.3916 - val_categorical_accuracy: 0.4836\n",
      "Epoch 4/50\n",
      "137/137 [==============================] - 0s 2ms/step - loss: 2.3359 - categorical_accuracy: 0.3670 - val_loss: 1.3543 - val_categorical_accuracy: 0.4652\n",
      "Epoch 5/50\n",
      "137/137 [==============================] - 0s 2ms/step - loss: 1.9346 - categorical_accuracy: 0.3818 - val_loss: 1.2914 - val_categorical_accuracy: 0.4918\n",
      "Epoch 6/50\n",
      "137/137 [==============================] - 0s 2ms/step - loss: 1.7110 - categorical_accuracy: 0.4010 - val_loss: 1.2411 - val_categorical_accuracy: 0.4980\n",
      "Epoch 7/50\n",
      "137/137 [==============================] - 0s 2ms/step - loss: 1.5392 - categorical_accuracy: 0.4131 - val_loss: 1.1961 - val_categorical_accuracy: 0.4775\n",
      "Epoch 8/50\n",
      "137/137 [==============================] - 0s 2ms/step - loss: 1.4669 - categorical_accuracy: 0.4252 - val_loss: 1.1919 - val_categorical_accuracy: 0.4857\n",
      "Epoch 9/50\n",
      "137/137 [==============================] - 0s 2ms/step - loss: 1.4165 - categorical_accuracy: 0.4240 - val_loss: 1.1689 - val_categorical_accuracy: 0.4816\n",
      "Epoch 10/50\n",
      "137/137 [==============================] - 0s 2ms/step - loss: 1.3634 - categorical_accuracy: 0.4350 - val_loss: 1.1476 - val_categorical_accuracy: 0.5164\n",
      "Epoch 11/50\n",
      "137/137 [==============================] - 0s 2ms/step - loss: 1.3409 - categorical_accuracy: 0.4459 - val_loss: 1.1437 - val_categorical_accuracy: 0.5123\n",
      "Epoch 12/50\n",
      "137/137 [==============================] - 0s 2ms/step - loss: 1.2813 - categorical_accuracy: 0.4656 - val_loss: 1.1381 - val_categorical_accuracy: 0.5123\n",
      "Epoch 13/50\n",
      "137/137 [==============================] - 0s 2ms/step - loss: 1.2874 - categorical_accuracy: 0.4644 - val_loss: 1.1349 - val_categorical_accuracy: 0.4959\n",
      "Epoch 14/50\n",
      "137/137 [==============================] - 0s 2ms/step - loss: 1.2718 - categorical_accuracy: 0.4557 - val_loss: 1.1261 - val_categorical_accuracy: 0.5041\n",
      "Epoch 15/50\n",
      "137/137 [==============================] - 0s 2ms/step - loss: 1.2533 - categorical_accuracy: 0.4685 - val_loss: 1.1257 - val_categorical_accuracy: 0.4939\n",
      "Epoch 16/50\n",
      "137/137 [==============================] - 0s 1ms/step - loss: 1.2518 - categorical_accuracy: 0.4587 - val_loss: 1.1171 - val_categorical_accuracy: 0.4980\n",
      "Epoch 17/50\n",
      "137/137 [==============================] - 0s 2ms/step - loss: 1.2349 - categorical_accuracy: 0.4644 - val_loss: 1.1237 - val_categorical_accuracy: 0.5020\n",
      "Epoch 18/50\n",
      "137/137 [==============================] - 0s 2ms/step - loss: 1.2264 - categorical_accuracy: 0.4715 - val_loss: 1.1138 - val_categorical_accuracy: 0.5348\n",
      "Epoch 19/50\n",
      "137/137 [==============================] - 0s 2ms/step - loss: 1.2199 - categorical_accuracy: 0.4699 - val_loss: 1.1187 - val_categorical_accuracy: 0.5287\n",
      "Epoch 20/50\n",
      "137/137 [==============================] - 0s 2ms/step - loss: 1.2222 - categorical_accuracy: 0.4731 - val_loss: 1.1110 - val_categorical_accuracy: 0.5184\n",
      "Epoch 21/50\n",
      "137/137 [==============================] - 0s 2ms/step - loss: 1.2051 - categorical_accuracy: 0.4827 - val_loss: 1.1130 - val_categorical_accuracy: 0.5389\n",
      "Epoch 22/50\n",
      "137/137 [==============================] - 0s 2ms/step - loss: 1.2018 - categorical_accuracy: 0.4770 - val_loss: 1.0999 - val_categorical_accuracy: 0.5143\n",
      "Epoch 23/50\n",
      "137/137 [==============================] - 0s 2ms/step - loss: 1.2061 - categorical_accuracy: 0.4840 - val_loss: 1.1334 - val_categorical_accuracy: 0.4918\n",
      "Epoch 24/50\n",
      "137/137 [==============================] - 0s 2ms/step - loss: 1.1910 - categorical_accuracy: 0.4854 - val_loss: 1.1044 - val_categorical_accuracy: 0.5184\n",
      "Epoch 25/50\n",
      "137/137 [==============================] - 0s 2ms/step - loss: 1.1858 - categorical_accuracy: 0.4932 - val_loss: 1.0977 - val_categorical_accuracy: 0.5061\n",
      "Epoch 26/50\n",
      "137/137 [==============================] - 0s 2ms/step - loss: 1.1829 - categorical_accuracy: 0.4920 - val_loss: 1.1049 - val_categorical_accuracy: 0.5082\n",
      "Epoch 27/50\n",
      "137/137 [==============================] - 0s 2ms/step - loss: 1.1742 - categorical_accuracy: 0.4877 - val_loss: 1.1163 - val_categorical_accuracy: 0.5082\n",
      "Epoch 28/50\n",
      "137/137 [==============================] - 0s 2ms/step - loss: 1.1696 - categorical_accuracy: 0.5050 - val_loss: 1.0899 - val_categorical_accuracy: 0.5164\n",
      "Epoch 29/50\n",
      "137/137 [==============================] - 0s 2ms/step - loss: 1.1731 - categorical_accuracy: 0.4911 - val_loss: 1.1340 - val_categorical_accuracy: 0.5020\n",
      "Epoch 30/50\n",
      "137/137 [==============================] - 0s 2ms/step - loss: 1.1670 - categorical_accuracy: 0.4966 - val_loss: 1.0881 - val_categorical_accuracy: 0.5492\n",
      "Epoch 31/50\n",
      "137/137 [==============================] - 0s 2ms/step - loss: 1.1698 - categorical_accuracy: 0.4970 - val_loss: 1.0856 - val_categorical_accuracy: 0.5512\n",
      "Epoch 32/50\n",
      "137/137 [==============================] - 0s 2ms/step - loss: 1.1612 - categorical_accuracy: 0.4998 - val_loss: 1.0884 - val_categorical_accuracy: 0.5369\n",
      "Epoch 33/50\n",
      "137/137 [==============================] - 0s 2ms/step - loss: 1.1568 - categorical_accuracy: 0.5030 - val_loss: 1.0793 - val_categorical_accuracy: 0.5143\n",
      "Epoch 34/50\n",
      "137/137 [==============================] - 0s 2ms/step - loss: 1.1546 - categorical_accuracy: 0.5025 - val_loss: 1.0791 - val_categorical_accuracy: 0.5389\n",
      "Epoch 35/50\n",
      "137/137 [==============================] - 0s 2ms/step - loss: 1.1538 - categorical_accuracy: 0.5057 - val_loss: 1.0993 - val_categorical_accuracy: 0.5184\n",
      "Epoch 36/50\n",
      "137/137 [==============================] - 0s 2ms/step - loss: 1.1498 - categorical_accuracy: 0.5078 - val_loss: 1.0801 - val_categorical_accuracy: 0.5492\n",
      "Epoch 37/50\n",
      "137/137 [==============================] - 0s 2ms/step - loss: 1.1498 - categorical_accuracy: 0.4975 - val_loss: 1.0786 - val_categorical_accuracy: 0.5574\n",
      "Epoch 38/50\n",
      "137/137 [==============================] - 0s 2ms/step - loss: 1.1505 - categorical_accuracy: 0.4968 - val_loss: 1.0965 - val_categorical_accuracy: 0.5123\n",
      "Epoch 39/50\n",
      "137/137 [==============================] - 0s 2ms/step - loss: 1.1506 - categorical_accuracy: 0.5036 - val_loss: 1.0753 - val_categorical_accuracy: 0.5266\n",
      "Epoch 40/50\n",
      "137/137 [==============================] - 0s 2ms/step - loss: 1.1434 - categorical_accuracy: 0.5116 - val_loss: 1.0913 - val_categorical_accuracy: 0.5451\n",
      "Epoch 41/50\n",
      "137/137 [==============================] - 0s 2ms/step - loss: 1.1435 - categorical_accuracy: 0.5087 - val_loss: 1.0815 - val_categorical_accuracy: 0.5041\n",
      "Epoch 42/50\n",
      "137/137 [==============================] - 0s 2ms/step - loss: 1.1452 - categorical_accuracy: 0.5082 - val_loss: 1.0801 - val_categorical_accuracy: 0.5615\n",
      "Epoch 43/50\n",
      "137/137 [==============================] - 0s 2ms/step - loss: 1.1317 - categorical_accuracy: 0.5180 - val_loss: 1.0754 - val_categorical_accuracy: 0.5676\n",
      "Epoch 44/50\n",
      "137/137 [==============================] - 0s 2ms/step - loss: 1.1352 - categorical_accuracy: 0.5055 - val_loss: 1.0772 - val_categorical_accuracy: 0.5574\n",
      "Epoch 45/50\n",
      "137/137 [==============================] - 0s 2ms/step - loss: 1.1421 - categorical_accuracy: 0.5052 - val_loss: 1.0720 - val_categorical_accuracy: 0.5615\n",
      "Epoch 46/50\n",
      "137/137 [==============================] - 0s 2ms/step - loss: 1.1328 - categorical_accuracy: 0.5043 - val_loss: 1.0845 - val_categorical_accuracy: 0.5369\n",
      "Epoch 47/50\n",
      "137/137 [==============================] - 0s 2ms/step - loss: 1.1373 - categorical_accuracy: 0.5157 - val_loss: 1.0987 - val_categorical_accuracy: 0.5307\n",
      "Epoch 48/50\n",
      "137/137 [==============================] - 0s 2ms/step - loss: 1.1353 - categorical_accuracy: 0.5064 - val_loss: 1.0809 - val_categorical_accuracy: 0.5225\n",
      "Epoch 49/50\n",
      "137/137 [==============================] - 0s 2ms/step - loss: 1.1278 - categorical_accuracy: 0.5034 - val_loss: 1.1059 - val_categorical_accuracy: 0.5184\n",
      "Epoch 50/50\n",
      "137/137 [==============================] - 0s 2ms/step - loss: 1.1306 - categorical_accuracy: 0.5151 - val_loss: 1.0751 - val_categorical_accuracy: 0.5512\n"
     ]
    }
   ],
   "source": [
    "classifier = Sequential()\n",
    "classifier.add(Dense(units=32, activation=\"linear\",input_dim=11))\n",
    "classifier.add(Dropout(0.1))\n",
    "classifier.add(Dense(units=16, activation=\"linear\"))\n",
    "classifier.add(Dropout(0.1))\n",
    "classifier.add(Dense(units=10, activation=\"softmax\"))\n",
    "classifier.compile(optimizer=\"adam\", loss=\"categorical_crossentropy\",\n",
    "                      metrics=[\"categorical_accuracy\"])\n",
    "history = classifier.fit(X_train, y_train, batch_size=32,\n",
    "                  epochs=50,validation_split=0.1)"
   ]
  },
  {
   "cell_type": "code",
   "execution_count": 19,
   "id": "fe470e35",
   "metadata": {},
   "outputs": [
    {
     "name": "stdout",
     "output_type": "stream",
     "text": [
      "51/51 [==============================] - 0s 1ms/step - loss: 1.1271 - categorical_accuracy: 0.5157\n"
     ]
    }
   ],
   "source": [
    "forecasts = classifier.predict(X_test)\n",
    "result =  classifier.evaluate(X_test, y_test)"
   ]
  },
  {
   "cell_type": "code",
   "execution_count": 20,
   "id": "0a800ad1",
   "metadata": {},
   "outputs": [
    {
     "name": "stdout",
     "output_type": "stream",
     "text": [
      "0.5156923076923077\n"
     ]
    }
   ],
   "source": [
    "y_test_transform = [np.argmax(t) for t in y_test]\n",
    "forecasts_transform = [np.argmax(t) for t in forecasts]\n",
    "\n",
    "precision = accuracy_score(y_test_transform, forecasts_transform)\n",
    "print(precision)"
   ]
  },
  {
   "cell_type": "code",
   "execution_count": 21,
   "id": "260c7ad0",
   "metadata": {},
   "outputs": [
    {
     "name": "stdout",
     "output_type": "stream",
     "text": [
      "[[  0   0   0   0   0   0]\n",
      " [  0   0   0   0   0   0]\n",
      " [  5  30 338 197  20   4]\n",
      " [  6  25 206 465 209  42]\n",
      " [  1   0   3  33  35   6]\n",
      " [  0   0   0   0   0   0]]\n"
     ]
    }
   ],
   "source": [
    "matrix = confusion_matrix(forecasts_transform, y_test_transform)\n",
    "print(matrix)"
   ]
  }
 ],
 "metadata": {
  "kernelspec": {
   "display_name": "Python 3 (ipykernel)",
   "language": "python",
   "name": "python3"
  },
  "language_info": {
   "codemirror_mode": {
    "name": "ipython",
    "version": 3
   },
   "file_extension": ".py",
   "mimetype": "text/x-python",
   "name": "python",
   "nbconvert_exporter": "python",
   "pygments_lexer": "ipython3",
   "version": "3.8.12"
  }
 },
 "nbformat": 4,
 "nbformat_minor": 5
}
