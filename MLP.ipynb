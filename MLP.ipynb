{
 "cells": [
  {
   "cell_type": "code",
   "execution_count": 1,
   "id": "60a09043",
   "metadata": {},
   "outputs": [],
   "source": [
    "import pandas as pd\n",
    "import pandas as pd\n",
    "import numpy as np\n",
    "from keras.models import Sequential\n",
    "from keras.layers import Dense, Dropout\n",
    "from keras.utils import np_utils\n",
    "from sklearn.preprocessing import LabelEncoder\n",
    "from sklearn.model_selection import train_test_split\n",
    "from sklearn.metrics import confusion_matrix, accuracy_score\n",
    "from sklearn.preprocessing import MinMaxScaler\n",
    "import matplotlib.pyplot as plt\n",
    "import itertools\n",
    "from sklearn.metrics import classification_report, plot_confusion_matrix\n",
    "import seaborn as sns"
   ]
  },
  {
   "cell_type": "code",
   "execution_count": 2,
   "id": "783634e9",
   "metadata": {},
   "outputs": [
    {
     "name": "stdout",
     "output_type": "stream",
     "text": [
      "<class 'pandas.core.frame.DataFrame'>\n",
      "RangeIndex: 6497 entries, 0 to 6496\n",
      "Data columns (total 12 columns):\n",
      " #   Column                Non-Null Count  Dtype  \n",
      "---  ------                --------------  -----  \n",
      " 0   fixed.acidity         6497 non-null   float64\n",
      " 1   volatile.acidity      6497 non-null   float64\n",
      " 2   citric.acid           6497 non-null   float64\n",
      " 3   residual.sugar        6497 non-null   float64\n",
      " 4   chlorides             6497 non-null   float64\n",
      " 5   free.sulfur.dioxide   6497 non-null   float64\n",
      " 6   total.sulfur.dioxide  6497 non-null   float64\n",
      " 7   density               6497 non-null   float64\n",
      " 8   pH                    6497 non-null   float64\n",
      " 9   sulphates             6497 non-null   float64\n",
      " 10  alcohol               6497 non-null   float64\n",
      " 11  quality               6497 non-null   int64  \n",
      "dtypes: float64(11), int64(1)\n",
      "memory usage: 609.2 KB\n"
     ]
    }
   ],
   "source": [
    "data = pd.read_csv(\"wine_quality.csv\")\n",
    "data.info()"
   ]
  },
  {
   "cell_type": "markdown",
   "id": "d7112669",
   "metadata": {},
   "source": [
    "## Divisão de base de dados e separação de base"
   ]
  },
  {
   "cell_type": "code",
   "execution_count": 3,
   "id": "865dd995",
   "metadata": {},
   "outputs": [],
   "source": [
    "#attributes = data[[\"fixed.acidity\",\"volatile.acidity\",\"citric.acid\",\"residual.sugar\",\"chlorides\",\"free.sulfur.dioxide\",\"total.sulfur.dioxide\",\"density\",\"pH\",\"sulphates\",\"alcohol\"]]\n",
    "#quality = data[[\"quality\"]]"
   ]
  },
  {
   "cell_type": "code",
   "execution_count": 4,
   "id": "32e44af9",
   "metadata": {},
   "outputs": [],
   "source": [
    "attributes = data.iloc[:, 0:11].values\n",
    "quality = data.iloc[:, 11].values\n",
    "\n",
    "quality_dummy = np_utils.to_categorical(quality)\n",
    "\n",
    "X_train, X_test, y_train, y_test =  train_test_split(attributes, quality_dummy)"
   ]
  },
  {
   "cell_type": "code",
   "execution_count": 13,
   "id": "e1a7a5b6",
   "metadata": {},
   "outputs": [
    {
     "name": "stdout",
     "output_type": "stream",
     "text": [
      "Epoch 1/50\n",
      "137/137 [==============================] - 1s 2ms/step - loss: 11.1902 - categorical_accuracy: 0.3029 - val_loss: 2.9136 - val_categorical_accuracy: 0.4447\n",
      "Epoch 2/50\n",
      "137/137 [==============================] - 0s 2ms/step - loss: 5.3200 - categorical_accuracy: 0.3271 - val_loss: 1.9219 - val_categorical_accuracy: 0.4693\n",
      "Epoch 3/50\n",
      "137/137 [==============================] - 0s 2ms/step - loss: 3.4706 - categorical_accuracy: 0.3305 - val_loss: 1.5232 - val_categorical_accuracy: 0.4631\n",
      "Epoch 4/50\n",
      "137/137 [==============================] - 0s 1ms/step - loss: 2.4551 - categorical_accuracy: 0.3517 - val_loss: 1.4283 - val_categorical_accuracy: 0.4488\n",
      "Epoch 5/50\n",
      "137/137 [==============================] - 0s 1ms/step - loss: 2.0737 - categorical_accuracy: 0.3732 - val_loss: 1.3527 - val_categorical_accuracy: 0.4631\n",
      "Epoch 6/50\n",
      "137/137 [==============================] - 0s 1ms/step - loss: 1.7686 - categorical_accuracy: 0.3714 - val_loss: 1.2894 - val_categorical_accuracy: 0.4508\n",
      "Epoch 7/50\n",
      "137/137 [==============================] - 0s 1ms/step - loss: 1.5900 - categorical_accuracy: 0.3930 - val_loss: 1.2549 - val_categorical_accuracy: 0.4467\n",
      "Epoch 8/50\n",
      "137/137 [==============================] - 0s 1ms/step - loss: 1.4957 - categorical_accuracy: 0.4069 - val_loss: 1.2495 - val_categorical_accuracy: 0.4816\n",
      "Epoch 9/50\n",
      "137/137 [==============================] - 0s 1ms/step - loss: 1.4411 - categorical_accuracy: 0.4021 - val_loss: 1.2430 - val_categorical_accuracy: 0.4508\n",
      "Epoch 10/50\n",
      "137/137 [==============================] - 0s 1ms/step - loss: 1.3425 - categorical_accuracy: 0.4352 - val_loss: 1.2406 - val_categorical_accuracy: 0.4426\n",
      "Epoch 11/50\n",
      "137/137 [==============================] - 0s 2ms/step - loss: 1.3411 - categorical_accuracy: 0.4220 - val_loss: 1.2269 - val_categorical_accuracy: 0.4693\n",
      "Epoch 12/50\n",
      "137/137 [==============================] - 0s 2ms/step - loss: 1.3092 - categorical_accuracy: 0.4466 - val_loss: 1.2197 - val_categorical_accuracy: 0.4939\n",
      "Epoch 13/50\n",
      "137/137 [==============================] - 0s 1ms/step - loss: 1.2856 - categorical_accuracy: 0.4407 - val_loss: 1.2123 - val_categorical_accuracy: 0.4939\n",
      "Epoch 14/50\n",
      "137/137 [==============================] - 0s 1ms/step - loss: 1.2754 - categorical_accuracy: 0.4516 - val_loss: 1.2008 - val_categorical_accuracy: 0.4795\n",
      "Epoch 15/50\n",
      "137/137 [==============================] - 0s 1ms/step - loss: 1.2472 - categorical_accuracy: 0.4630 - val_loss: 1.2077 - val_categorical_accuracy: 0.5061\n",
      "Epoch 16/50\n",
      "137/137 [==============================] - 0s 1ms/step - loss: 1.2417 - categorical_accuracy: 0.4621 - val_loss: 1.1882 - val_categorical_accuracy: 0.4980\n",
      "Epoch 17/50\n",
      "137/137 [==============================] - 0s 1ms/step - loss: 1.2321 - categorical_accuracy: 0.4738 - val_loss: 1.2002 - val_categorical_accuracy: 0.5184\n",
      "Epoch 18/50\n",
      "137/137 [==============================] - 0s 1ms/step - loss: 1.2305 - categorical_accuracy: 0.4658 - val_loss: 1.1763 - val_categorical_accuracy: 0.5102\n",
      "Epoch 19/50\n",
      "137/137 [==============================] - 0s 1ms/step - loss: 1.2236 - categorical_accuracy: 0.4799 - val_loss: 1.2021 - val_categorical_accuracy: 0.5102\n",
      "Epoch 20/50\n",
      "137/137 [==============================] - 0s 1ms/step - loss: 1.2044 - categorical_accuracy: 0.4861 - val_loss: 1.1889 - val_categorical_accuracy: 0.4754\n",
      "Epoch 21/50\n",
      "137/137 [==============================] - 0s 1ms/step - loss: 1.2087 - categorical_accuracy: 0.4756 - val_loss: 1.1653 - val_categorical_accuracy: 0.4980\n",
      "Epoch 22/50\n",
      "137/137 [==============================] - 0s 1ms/step - loss: 1.2058 - categorical_accuracy: 0.4827 - val_loss: 1.1595 - val_categorical_accuracy: 0.5041\n",
      "Epoch 23/50\n",
      "137/137 [==============================] - 0s 1ms/step - loss: 1.1920 - categorical_accuracy: 0.4813 - val_loss: 1.1530 - val_categorical_accuracy: 0.5266\n",
      "Epoch 24/50\n",
      "137/137 [==============================] - 0s 1ms/step - loss: 1.1913 - categorical_accuracy: 0.4859 - val_loss: 1.1483 - val_categorical_accuracy: 0.5205\n",
      "Epoch 25/50\n",
      "137/137 [==============================] - 0s 1ms/step - loss: 1.1852 - categorical_accuracy: 0.4879 - val_loss: 1.1469 - val_categorical_accuracy: 0.5143\n",
      "Epoch 26/50\n",
      "137/137 [==============================] - 0s 1ms/step - loss: 1.1829 - categorical_accuracy: 0.4891 - val_loss: 1.1448 - val_categorical_accuracy: 0.5369\n",
      "Epoch 27/50\n",
      "137/137 [==============================] - 0s 1ms/step - loss: 1.1731 - categorical_accuracy: 0.4936 - val_loss: 1.1348 - val_categorical_accuracy: 0.5389\n",
      "Epoch 28/50\n",
      "137/137 [==============================] - 0s 1ms/step - loss: 1.1754 - categorical_accuracy: 0.4902 - val_loss: 1.1336 - val_categorical_accuracy: 0.5246\n",
      "Epoch 29/50\n",
      "137/137 [==============================] - 0s 1ms/step - loss: 1.1728 - categorical_accuracy: 0.4925 - val_loss: 1.1292 - val_categorical_accuracy: 0.5328\n",
      "Epoch 30/50\n",
      "137/137 [==============================] - 0s 1ms/step - loss: 1.1756 - categorical_accuracy: 0.4975 - val_loss: 1.1393 - val_categorical_accuracy: 0.5266\n",
      "Epoch 31/50\n",
      "137/137 [==============================] - 0s 1ms/step - loss: 1.1727 - categorical_accuracy: 0.4986 - val_loss: 1.1349 - val_categorical_accuracy: 0.5307\n",
      "Epoch 32/50\n",
      "137/137 [==============================] - 0s 1ms/step - loss: 1.1629 - categorical_accuracy: 0.4968 - val_loss: 1.1575 - val_categorical_accuracy: 0.5205\n",
      "Epoch 33/50\n",
      "137/137 [==============================] - 0s 1ms/step - loss: 1.1650 - categorical_accuracy: 0.4998 - val_loss: 1.1426 - val_categorical_accuracy: 0.5307\n",
      "Epoch 34/50\n",
      "137/137 [==============================] - 0s 1ms/step - loss: 1.1583 - categorical_accuracy: 0.4977 - val_loss: 1.1315 - val_categorical_accuracy: 0.5369\n",
      "Epoch 35/50\n",
      "137/137 [==============================] - 0s 1ms/step - loss: 1.1577 - categorical_accuracy: 0.5052 - val_loss: 1.1457 - val_categorical_accuracy: 0.5287\n",
      "Epoch 36/50\n",
      "137/137 [==============================] - 0s 1ms/step - loss: 1.1553 - categorical_accuracy: 0.4938 - val_loss: 1.1235 - val_categorical_accuracy: 0.5205\n",
      "Epoch 37/50\n",
      "137/137 [==============================] - 0s 1ms/step - loss: 1.1599 - categorical_accuracy: 0.4970 - val_loss: 1.1308 - val_categorical_accuracy: 0.5205\n",
      "Epoch 38/50\n",
      "137/137 [==============================] - 0s 1ms/step - loss: 1.1508 - categorical_accuracy: 0.4932 - val_loss: 1.1150 - val_categorical_accuracy: 0.5184\n",
      "Epoch 39/50\n",
      "137/137 [==============================] - 0s 2ms/step - loss: 1.1440 - categorical_accuracy: 0.5046 - val_loss: 1.1121 - val_categorical_accuracy: 0.5369\n",
      "Epoch 40/50\n",
      "137/137 [==============================] - 0s 1ms/step - loss: 1.1532 - categorical_accuracy: 0.5000 - val_loss: 1.1122 - val_categorical_accuracy: 0.5225\n",
      "Epoch 41/50\n",
      "137/137 [==============================] - 0s 1ms/step - loss: 1.1399 - categorical_accuracy: 0.5057 - val_loss: 1.1088 - val_categorical_accuracy: 0.5246\n",
      "Epoch 42/50\n",
      "137/137 [==============================] - 0s 2ms/step - loss: 1.1457 - categorical_accuracy: 0.5078 - val_loss: 1.1092 - val_categorical_accuracy: 0.5246\n",
      "Epoch 43/50\n",
      "137/137 [==============================] - 0s 1ms/step - loss: 1.1306 - categorical_accuracy: 0.4961 - val_loss: 1.1038 - val_categorical_accuracy: 0.5369\n",
      "Epoch 44/50\n",
      "137/137 [==============================] - 0s 1ms/step - loss: 1.1364 - categorical_accuracy: 0.5068 - val_loss: 1.1067 - val_categorical_accuracy: 0.5184\n",
      "Epoch 45/50\n",
      "137/137 [==============================] - 0s 1ms/step - loss: 1.1365 - categorical_accuracy: 0.5100 - val_loss: 1.1125 - val_categorical_accuracy: 0.5184\n",
      "Epoch 46/50\n",
      "137/137 [==============================] - 0s 1ms/step - loss: 1.1358 - categorical_accuracy: 0.4993 - val_loss: 1.1150 - val_categorical_accuracy: 0.5225\n",
      "Epoch 47/50\n",
      "137/137 [==============================] - 0s 1ms/step - loss: 1.1303 - categorical_accuracy: 0.5046 - val_loss: 1.1045 - val_categorical_accuracy: 0.5205\n",
      "Epoch 48/50\n",
      "137/137 [==============================] - 0s 1ms/step - loss: 1.1362 - categorical_accuracy: 0.5050 - val_loss: 1.1041 - val_categorical_accuracy: 0.5471\n",
      "Epoch 49/50\n",
      "137/137 [==============================] - 0s 1ms/step - loss: 1.1298 - categorical_accuracy: 0.5226 - val_loss: 1.1039 - val_categorical_accuracy: 0.5389\n",
      "Epoch 50/50\n"
     ]
    },
    {
     "name": "stdout",
     "output_type": "stream",
     "text": [
      "137/137 [==============================] - 0s 1ms/step - loss: 1.1369 - categorical_accuracy: 0.5130 - val_loss: 1.1049 - val_categorical_accuracy: 0.5348\n"
     ]
    }
   ],
   "source": [
    "classifier = Sequential()\n",
    "classifier.add(Dense(units=32, activation=\"linear\",input_dim=11))\n",
    "classifier.add(Dropout(0.1))\n",
    "classifier.add(Dense(units=16, activation=\"linear\"))\n",
    "classifier.add(Dropout(0.1))\n",
    "classifier.add(Dense(units=10, activation=\"softmax\"))\n",
    "classifier.compile(optimizer=\"adam\", loss=\"categorical_crossentropy\",\n",
    "                      metrics=[\"categorical_accuracy\"])\n",
    "history = classifier.fit(X_train, y_train, batch_size=32,\n",
    "                  epochs=50,validation_split=0.1)"
   ]
  },
  {
   "cell_type": "code",
   "execution_count": 14,
   "id": "fe470e35",
   "metadata": {},
   "outputs": [
    {
     "name": "stdout",
     "output_type": "stream",
     "text": [
      "51/51 [==============================] - 0s 863us/step - loss: 1.1241 - categorical_accuracy: 0.5335\n"
     ]
    }
   ],
   "source": [
    "forecasts = classifier.predict(X_test)\n",
    "result =  classifier.evaluate(X_test, y_test)"
   ]
  },
  {
   "cell_type": "code",
   "execution_count": 15,
   "id": "2dc9c902",
   "metadata": {},
   "outputs": [
    {
     "name": "stdout",
     "output_type": "stream",
     "text": [
      "0.5335384615384615\n"
     ]
    }
   ],
   "source": [
    "y_test_transform = [np.argmax(t) for t in y_test]\n",
    "forecasts_transform = [np.argmax(t) for t in forecasts]\n",
    "\n",
    "precision = accuracy_score(y_test_transform, forecasts_transform)\n",
    "print(precision)"
   ]
  },
  {
   "cell_type": "code",
   "execution_count": 16,
   "id": "b7246413",
   "metadata": {},
   "outputs": [
    {
     "name": "stdout",
     "output_type": "stream",
     "text": [
      "[[  0   0   0   0   0   0   0]\n",
      " [  0   0   0   0   0   0   0]\n",
      " [  4  25 247 122  16   3   0]\n",
      " [  4  26 267 559 189  31   1]\n",
      " [  0   3   7  50  61  10   0]\n",
      " [  0   0   0   0   0   0   0]\n",
      " [  0   0   0   0   0   0   0]]\n"
     ]
    }
   ],
   "source": [
    "matrix = confusion_matrix(forecasts_transform, y_test_transform)\n",
    "print(matrix)"
   ]
  }
 ],
 "metadata": {
  "kernelspec": {
   "display_name": "Python 3 (ipykernel)",
   "language": "python",
   "name": "python3"
  },
  "language_info": {
   "codemirror_mode": {
    "name": "ipython",
    "version": 3
   },
   "file_extension": ".py",
   "mimetype": "text/x-python",
   "name": "python",
   "nbconvert_exporter": "python",
   "pygments_lexer": "ipython3",
   "version": "3.8.12"
  }
 },
 "nbformat": 4,
 "nbformat_minor": 5
}
