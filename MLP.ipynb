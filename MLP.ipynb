{
 "cells": [
  {
   "cell_type": "code",
   "execution_count": 31,
   "id": "60a09043",
   "metadata": {},
   "outputs": [],
   "source": [
    "import pandas as pd\n",
    "import pandas as pd\n",
    "import numpy as np\n",
    "from keras.models import Sequential\n",
    "from keras.layers import Dense, Dropout\n",
    "from keras.utils import np_utils\n",
    "from sklearn.preprocessing import LabelEncoder\n",
    "from sklearn.model_selection import train_test_split\n",
    "from sklearn.metrics import confusion_matrix, accuracy_score\n",
    "from sklearn.preprocessing import MinMaxScaler\n",
    "import matplotlib.pyplot as plt\n",
    "import itertools\n",
    "from sklearn import preprocessing\n",
    "from sklearn.metrics import roc_auc_score,confusion_matrix, accuracy_score, make_scorer, f1_score,precision_score,recall_score, plot_confusion_matrix\n",
    "import seaborn as sns"
   ]
  },
  {
   "cell_type": "code",
   "execution_count": 32,
   "id": "783634e9",
   "metadata": {},
   "outputs": [
    {
     "name": "stdout",
     "output_type": "stream",
     "text": [
      "<class 'pandas.core.frame.DataFrame'>\n",
      "RangeIndex: 6497 entries, 0 to 6496\n",
      "Data columns (total 12 columns):\n",
      " #   Column                Non-Null Count  Dtype  \n",
      "---  ------                --------------  -----  \n",
      " 0   fixed.acidity         6497 non-null   float64\n",
      " 1   volatile.acidity      6497 non-null   float64\n",
      " 2   citric.acid           6497 non-null   float64\n",
      " 3   residual.sugar        6497 non-null   float64\n",
      " 4   chlorides             6497 non-null   float64\n",
      " 5   free.sulfur.dioxide   6497 non-null   float64\n",
      " 6   total.sulfur.dioxide  6497 non-null   float64\n",
      " 7   density               6497 non-null   float64\n",
      " 8   pH                    6497 non-null   float64\n",
      " 9   sulphates             6497 non-null   float64\n",
      " 10  alcohol               6497 non-null   float64\n",
      " 11  quality               6497 non-null   int64  \n",
      "dtypes: float64(11), int64(1)\n",
      "memory usage: 609.2 KB\n"
     ]
    }
   ],
   "source": [
    "data = pd.read_csv(\"wine_quality.csv\")\n",
    "data.info()"
   ]
  },
  {
   "cell_type": "markdown",
   "id": "d7112669",
   "metadata": {},
   "source": [
    "## Divisão de base de dados e separação de base"
   ]
  },
  {
   "cell_type": "code",
   "execution_count": 33,
   "id": "865dd995",
   "metadata": {},
   "outputs": [],
   "source": [
    "#attributes = data[[\"fixed.acidity\",\"volatile.acidity\",\"citric.acid\",\"residual.sugar\",\"chlorides\",\"free.sulfur.dioxide\",\"total.sulfur.dioxide\",\"density\",\"pH\",\"sulphates\",\"alcohol\"]]\n",
    "#quality = data[[\"quality\"]]\n",
    "X = data.iloc[:, 0:11].values\n",
    "y = data.iloc[:, 11].values"
   ]
  },
  {
   "cell_type": "code",
   "execution_count": 34,
   "id": "c30d1ff6",
   "metadata": {},
   "outputs": [],
   "source": [
    "labelencoder = LabelEncoder()\n",
    "quality = labelencoder.fit_transform(y)\n",
    "y_dummy = np_utils.to_categorical(y)"
   ]
  },
  {
   "cell_type": "code",
   "execution_count": 35,
   "id": "8585c723",
   "metadata": {},
   "outputs": [],
   "source": [
    "X_train, X_test, y_train, y_test = train_test_split(X, y_dummy, test_size=0.1, random_state=199)\n",
    "X_train, X_val, y_train, y_val = train_test_split(X_train, y_train, test_size=0.1, random_state=199)"
   ]
  },
  {
   "cell_type": "code",
   "execution_count": 36,
   "id": "e1a7a5b6",
   "metadata": {},
   "outputs": [
    {
     "name": "stdout",
     "output_type": "stream",
     "text": [
      "Epoch 1/50\n",
      "148/148 [==============================] - 1s 3ms/step - loss: 19.5171 - categorical_accuracy: 0.2566 - val_loss: 4.3858 - val_categorical_accuracy: 0.4402\n",
      "Epoch 2/50\n",
      "148/148 [==============================] - 0s 2ms/step - loss: 6.7189 - categorical_accuracy: 0.3151 - val_loss: 2.3936 - val_categorical_accuracy: 0.4497\n",
      "Epoch 3/50\n",
      "148/148 [==============================] - 0s 2ms/step - loss: 4.0068 - categorical_accuracy: 0.3436 - val_loss: 2.1282 - val_categorical_accuracy: 0.4497\n",
      "Epoch 4/50\n",
      "148/148 [==============================] - 0s 2ms/step - loss: 2.9859 - categorical_accuracy: 0.3423 - val_loss: 1.5995 - val_categorical_accuracy: 0.4307\n",
      "Epoch 5/50\n",
      "148/148 [==============================] - 0s 2ms/step - loss: 2.3990 - categorical_accuracy: 0.3485 - val_loss: 1.4986 - val_categorical_accuracy: 0.4497\n",
      "Epoch 6/50\n",
      "148/148 [==============================] - 0s 2ms/step - loss: 2.1518 - categorical_accuracy: 0.3542 - val_loss: 1.4431 - val_categorical_accuracy: 0.4497\n",
      "Epoch 7/50\n",
      "148/148 [==============================] - 0s 2ms/step - loss: 1.8554 - categorical_accuracy: 0.3683 - val_loss: 1.3819 - val_categorical_accuracy: 0.4478\n",
      "Epoch 8/50\n",
      "148/148 [==============================] - 0s 2ms/step - loss: 1.7448 - categorical_accuracy: 0.3757 - val_loss: 1.3536 - val_categorical_accuracy: 0.4630\n",
      "Epoch 9/50\n",
      "148/148 [==============================] - 0s 2ms/step - loss: 1.6475 - categorical_accuracy: 0.3795 - val_loss: 1.3293 - val_categorical_accuracy: 0.4497\n",
      "Epoch 10/50\n",
      "148/148 [==============================] - 0s 2ms/step - loss: 1.5690 - categorical_accuracy: 0.3806 - val_loss: 1.3306 - val_categorical_accuracy: 0.4554\n",
      "Epoch 11/50\n",
      "148/148 [==============================] - 0s 1ms/step - loss: 1.5056 - categorical_accuracy: 0.4030 - val_loss: 1.3314 - val_categorical_accuracy: 0.4668\n",
      "Epoch 12/50\n",
      "148/148 [==============================] - 0s 2ms/step - loss: 1.4501 - categorical_accuracy: 0.4053 - val_loss: 1.2995 - val_categorical_accuracy: 0.4687\n",
      "Epoch 13/50\n",
      "148/148 [==============================] - 0s 2ms/step - loss: 1.4162 - categorical_accuracy: 0.4089 - val_loss: 1.3011 - val_categorical_accuracy: 0.4706\n",
      "Epoch 14/50\n",
      "148/148 [==============================] - 0s 2ms/step - loss: 1.3774 - categorical_accuracy: 0.4228 - val_loss: 1.2931 - val_categorical_accuracy: 0.4516\n",
      "Epoch 15/50\n",
      "148/148 [==============================] - 0s 2ms/step - loss: 1.3570 - categorical_accuracy: 0.4277 - val_loss: 1.2874 - val_categorical_accuracy: 0.4516\n",
      "Epoch 16/50\n",
      "148/148 [==============================] - 0s 1ms/step - loss: 1.3436 - categorical_accuracy: 0.4239 - val_loss: 1.2771 - val_categorical_accuracy: 0.4535\n",
      "Epoch 17/50\n",
      "148/148 [==============================] - 0s 2ms/step - loss: 1.3126 - categorical_accuracy: 0.4220 - val_loss: 1.2712 - val_categorical_accuracy: 0.4668\n",
      "Epoch 18/50\n",
      "148/148 [==============================] - 0s 1ms/step - loss: 1.3119 - categorical_accuracy: 0.4380 - val_loss: 1.2657 - val_categorical_accuracy: 0.4649\n",
      "Epoch 19/50\n",
      "148/148 [==============================] - 0s 1ms/step - loss: 1.2981 - categorical_accuracy: 0.4346 - val_loss: 1.2590 - val_categorical_accuracy: 0.4459\n",
      "Epoch 20/50\n",
      "148/148 [==============================] - 0s 1ms/step - loss: 1.2896 - categorical_accuracy: 0.4372 - val_loss: 1.2606 - val_categorical_accuracy: 0.4820\n",
      "Epoch 21/50\n",
      "148/148 [==============================] - 0s 1ms/step - loss: 1.2791 - categorical_accuracy: 0.4408 - val_loss: 1.2511 - val_categorical_accuracy: 0.4858\n",
      "Epoch 22/50\n",
      "148/148 [==============================] - 0s 2ms/step - loss: 1.2738 - categorical_accuracy: 0.4353 - val_loss: 1.2489 - val_categorical_accuracy: 0.4782\n",
      "Epoch 23/50\n",
      "148/148 [==============================] - 0s 2ms/step - loss: 1.2562 - categorical_accuracy: 0.4465 - val_loss: 1.2446 - val_categorical_accuracy: 0.4592\n",
      "Epoch 24/50\n",
      "148/148 [==============================] - 0s 2ms/step - loss: 1.2545 - categorical_accuracy: 0.4541 - val_loss: 1.2359 - val_categorical_accuracy: 0.4915\n",
      "Epoch 25/50\n",
      "148/148 [==============================] - 0s 2ms/step - loss: 1.2426 - categorical_accuracy: 0.4560 - val_loss: 1.2246 - val_categorical_accuracy: 0.4668\n",
      "Epoch 26/50\n",
      "148/148 [==============================] - 0s 2ms/step - loss: 1.2401 - categorical_accuracy: 0.4606 - val_loss: 1.2204 - val_categorical_accuracy: 0.4972\n",
      "Epoch 27/50\n",
      "148/148 [==============================] - 0s 1ms/step - loss: 1.2348 - categorical_accuracy: 0.4638 - val_loss: 1.2138 - val_categorical_accuracy: 0.4972\n",
      "Epoch 28/50\n",
      "148/148 [==============================] - 0s 1ms/step - loss: 1.2294 - categorical_accuracy: 0.4674 - val_loss: 1.2116 - val_categorical_accuracy: 0.4953\n",
      "Epoch 29/50\n",
      "148/148 [==============================] - 0s 2ms/step - loss: 1.2216 - categorical_accuracy: 0.4636 - val_loss: 1.2151 - val_categorical_accuracy: 0.4934\n",
      "Epoch 30/50\n",
      "148/148 [==============================] - 0s 1ms/step - loss: 1.2137 - categorical_accuracy: 0.4712 - val_loss: 1.2067 - val_categorical_accuracy: 0.5028\n",
      "Epoch 31/50\n",
      "148/148 [==============================] - 0s 2ms/step - loss: 1.2208 - categorical_accuracy: 0.4705 - val_loss: 1.1939 - val_categorical_accuracy: 0.5085\n",
      "Epoch 32/50\n",
      "148/148 [==============================] - 0s 2ms/step - loss: 1.2022 - categorical_accuracy: 0.4701 - val_loss: 1.1926 - val_categorical_accuracy: 0.5066\n",
      "Epoch 33/50\n",
      "148/148 [==============================] - 0s 1ms/step - loss: 1.2013 - categorical_accuracy: 0.4809 - val_loss: 1.1784 - val_categorical_accuracy: 0.4991\n",
      "Epoch 34/50\n",
      "148/148 [==============================] - 0s 1ms/step - loss: 1.2004 - categorical_accuracy: 0.4718 - val_loss: 1.1816 - val_categorical_accuracy: 0.4934\n",
      "Epoch 35/50\n",
      "148/148 [==============================] - 0s 2ms/step - loss: 1.1972 - categorical_accuracy: 0.4798 - val_loss: 1.1803 - val_categorical_accuracy: 0.5047\n",
      "Epoch 36/50\n",
      "148/148 [==============================] - 0s 2ms/step - loss: 1.1919 - categorical_accuracy: 0.4739 - val_loss: 1.1765 - val_categorical_accuracy: 0.5180\n",
      "Epoch 37/50\n",
      "148/148 [==============================] - 0s 1ms/step - loss: 1.1842 - categorical_accuracy: 0.4879 - val_loss: 1.1805 - val_categorical_accuracy: 0.5161\n",
      "Epoch 38/50\n",
      "148/148 [==============================] - 0s 2ms/step - loss: 1.1871 - categorical_accuracy: 0.4805 - val_loss: 1.1707 - val_categorical_accuracy: 0.5047\n",
      "Epoch 39/50\n",
      "148/148 [==============================] - 0s 2ms/step - loss: 1.1756 - categorical_accuracy: 0.4938 - val_loss: 1.1764 - val_categorical_accuracy: 0.5180\n",
      "Epoch 40/50\n",
      "148/148 [==============================] - 0s 1ms/step - loss: 1.1732 - categorical_accuracy: 0.4876 - val_loss: 1.1581 - val_categorical_accuracy: 0.5199\n",
      "Epoch 41/50\n",
      "148/148 [==============================] - 0s 2ms/step - loss: 1.1688 - categorical_accuracy: 0.4872 - val_loss: 1.1636 - val_categorical_accuracy: 0.5161\n",
      "Epoch 42/50\n",
      "148/148 [==============================] - 0s 2ms/step - loss: 1.1681 - categorical_accuracy: 0.4929 - val_loss: 1.1724 - val_categorical_accuracy: 0.5313\n",
      "Epoch 43/50\n",
      "148/148 [==============================] - 0s 2ms/step - loss: 1.1663 - categorical_accuracy: 0.5029 - val_loss: 1.1578 - val_categorical_accuracy: 0.5123\n",
      "Epoch 44/50\n",
      "148/148 [==============================] - 0s 2ms/step - loss: 1.1579 - categorical_accuracy: 0.4931 - val_loss: 1.1568 - val_categorical_accuracy: 0.5237\n",
      "Epoch 45/50\n",
      "148/148 [==============================] - 0s 1ms/step - loss: 1.1604 - categorical_accuracy: 0.4944 - val_loss: 1.1520 - val_categorical_accuracy: 0.5237\n",
      "Epoch 46/50\n",
      "148/148 [==============================] - 0s 1ms/step - loss: 1.1599 - categorical_accuracy: 0.4936 - val_loss: 1.1442 - val_categorical_accuracy: 0.5218\n",
      "Epoch 47/50\n",
      "148/148 [==============================] - 0s 2ms/step - loss: 1.1569 - categorical_accuracy: 0.4944 - val_loss: 1.1466 - val_categorical_accuracy: 0.5180\n",
      "Epoch 48/50\n",
      "148/148 [==============================] - 0s 2ms/step - loss: 1.1544 - categorical_accuracy: 0.4997 - val_loss: 1.1457 - val_categorical_accuracy: 0.5275\n",
      "Epoch 49/50\n",
      "148/148 [==============================] - 0s 2ms/step - loss: 1.1520 - categorical_accuracy: 0.4955 - val_loss: 1.1493 - val_categorical_accuracy: 0.5180\n",
      "Epoch 50/50\n"
     ]
    },
    {
     "name": "stdout",
     "output_type": "stream",
     "text": [
      "148/148 [==============================] - 0s 2ms/step - loss: 1.1507 - categorical_accuracy: 0.4957 - val_loss: 1.1439 - val_categorical_accuracy: 0.5256\n"
     ]
    }
   ],
   "source": [
    "classifier = Sequential()\n",
    "classifier.add(Dense(units=16, activation=\"linear\",input_dim=11))\n",
    "classifier.add(Dropout(0.1))\n",
    "classifier.add(Dense(units=16, activation=\"linear\"))\n",
    "classifier.add(Dropout(0.1))\n",
    "classifier.add(Dense(units=10, activation=\"softmax\"))\n",
    "classifier.compile(optimizer=\"adam\", loss=\"categorical_crossentropy\", metrics=[\"categorical_accuracy\"])\n",
    "history = classifier.fit(X_train, y_train, batch_size=32,\n",
    "                  epochs=50,validation_split=0.1)"
   ]
  },
  {
   "cell_type": "code",
   "execution_count": 47,
   "id": "fe470e35",
   "metadata": {},
   "outputs": [],
   "source": [
    "predicted_y = classifier.predict(X_test)\n",
    "\n",
    "y_test_transform = [np.argmax(t) for t in y_test]\n",
    "predicted_y_transform = [np.argmax(t) for t in predicted_y]\n",
    "\n",
    "matrix = confusion_matrix(predicted_y_transform, y_test_transform)"
   ]
  },
  {
   "cell_type": "code",
   "execution_count": 48,
   "id": "fc79d4a9",
   "metadata": {},
   "outputs": [
    {
     "name": "stdout",
     "output_type": "stream",
     "text": [
      "              precision    recall  f1-score   support\n",
      "\n",
      "           3       0.00      0.00      0.00         1\n",
      "           4       0.00      0.00      0.00        19\n",
      "           5       0.57      0.50      0.53       219\n",
      "           6       0.48      0.75      0.58       275\n",
      "           7       0.48      0.11      0.17       113\n",
      "           8       0.00      0.00      0.00        21\n",
      "           9       0.00      0.00      0.00         2\n",
      "\n",
      "    accuracy                           0.50       650\n",
      "   macro avg       0.22      0.19      0.18       650\n",
      "weighted avg       0.48      0.50      0.46       650\n",
      "\n"
     ]
    },
    {
     "name": "stderr",
     "output_type": "stream",
     "text": [
      "C:\\Users\\cfpc2\\anaconda3\\envs\\rv\\lib\\site-packages\\sklearn\\metrics\\_classification.py:1318: UndefinedMetricWarning: Precision and F-score are ill-defined and being set to 0.0 in labels with no predicted samples. Use `zero_division` parameter to control this behavior.\n",
      "  _warn_prf(average, modifier, msg_start, len(result))\n",
      "C:\\Users\\cfpc2\\anaconda3\\envs\\rv\\lib\\site-packages\\sklearn\\metrics\\_classification.py:1318: UndefinedMetricWarning: Precision and F-score are ill-defined and being set to 0.0 in labels with no predicted samples. Use `zero_division` parameter to control this behavior.\n",
      "  _warn_prf(average, modifier, msg_start, len(result))\n",
      "C:\\Users\\cfpc2\\anaconda3\\envs\\rv\\lib\\site-packages\\sklearn\\metrics\\_classification.py:1318: UndefinedMetricWarning: Precision and F-score are ill-defined and being set to 0.0 in labels with no predicted samples. Use `zero_division` parameter to control this behavior.\n",
      "  _warn_prf(average, modifier, msg_start, len(result))\n"
     ]
    }
   ],
   "source": [
    "print(classification_report(y_test_transform, predicted_y_transform))"
   ]
  },
  {
   "cell_type": "code",
   "execution_count": 49,
   "id": "a86c40c8",
   "metadata": {},
   "outputs": [],
   "source": [
    "le = preprocessing.LabelEncoder()\n",
    "y_test_dummy = le.fit_transform(y_test_transform)\n",
    "predicted_y_dummy = le.fit_transform(predicted_y_transform)\n",
    "y_test_dummy = np_utils.to_categorical(y_test_dummy)\n",
    "predicted_y_dummy = np_utils.to_categorical(predicted_y_dummy)"
   ]
  },
  {
   "cell_type": "code",
   "execution_count": 50,
   "id": "260c7ad0",
   "metadata": {},
   "outputs": [
    {
     "name": "stdout",
     "output_type": "stream",
     "text": [
      ">acc=0.5031,>prec=0.2175,>f1=0.1839,>rec=0.1934,roc=0.3990\n"
     ]
    },
    {
     "name": "stderr",
     "output_type": "stream",
     "text": [
      "C:\\Users\\cfpc2\\anaconda3\\envs\\rv\\lib\\site-packages\\sklearn\\metrics\\_classification.py:1318: UndefinedMetricWarning: Precision is ill-defined and being set to 0.0 in labels with no predicted samples. Use `zero_division` parameter to control this behavior.\n",
      "  _warn_prf(average, modifier, msg_start, len(result))\n"
     ]
    }
   ],
   "source": [
    "roc = roc_auc_score(y_test_dummy,predicted_y_dummy,multi_class=\"ovo\",average = 'macro')\n",
    "acc = accuracy_score(y_test_transform,predicted_y_transform)\n",
    "precision = precision_score(y_test_transform,predicted_y_transform, average = \"macro\")\n",
    "f1 = f1_score(y_test_transform,predicted_y_transform, average = \"macro\")\n",
    "recall = recall_score(y_test_transform,predicted_y_transform, average = \"macro\")\n",
    "\n",
    "print(\">acc=%.4f,>prec=%.4f,>f1=%.4f,>rec=%.4f,roc=%.4f\" % (acc,precision,f1,recall,roc))\n",
    "# print(\">acc=%.3f,>prec=%.3f,>f1=%.3f,>rec=%.3f\" % (acc,precision,f1,recall))"
   ]
  },
  {
   "cell_type": "code",
   "execution_count": 62,
   "id": "787cc24c",
   "metadata": {},
   "outputs": [
    {
     "name": "stdout",
     "output_type": "stream",
     "text": [
      "Confusion matrix, without normalization\n",
      "[[  0   0   0   0   0   0   0]\n",
      " [  0   0   0   0   0   0   0]\n",
      " [  0  11 110  60  11   2   0]\n",
      " [  1   8 109 205  90  16   2]\n",
      " [  0   0   0  10  12   3   0]\n",
      " [  0   0   0   0   0   0   0]\n",
      " [  0   0   0   0   0   0   0]]\n"
     ]
    },
    {
     "data": {
      "image/png": "[encoded data removed]",
      "text/plain": [
       "<Figure size 432x288 with 2 Axes>"
      ]
     },
     "metadata": {
      "needs_background": "light"
     },
     "output_type": "display_data"
    }
   ],
   "source": [
    "def plot_confusion_matrix(cm, classes, normalize=False, title='Confusion matrix', cmap=plt.cm.viridis):\n",
    "    if normalize:\n",
    "        cm = cm.astype('float') / cm.sum(axis=1)[:, np.newaxis]\n",
    "        print(\"Normalized confusion matrix\")\n",
    "    else:\n",
    "        print('Confusion matrix, without normalization')\n",
    "\n",
    "    print(cm)\n",
    "    plt.imshow(cm, interpolation='nearest', cmap=cmap)\n",
    "    plt.title(title)\n",
    "    plt.colorbar()\n",
    "    tick_marks = np.arange(len(classes))\n",
    "    plt.xticks(tick_marks, classes, rotation=45)\n",
    "    plt.yticks(tick_marks, classes)\n",
    "\n",
    "    fmt = '.2f' if normalize else '.0f'\n",
    "    thresh = cm.max() / 2.\n",
    "    for i, j in itertools.product(range(cm.shape[0]), range(cm.shape[1])):\n",
    "        plt.text(j, i, format(cm[i, j], fmt), horizontalalignment=\"center\", color=\"black\" if cm[i, j] > thresh else \"white\")\n",
    "\n",
    "    plt.tight_layout()\n",
    "    plt.ylabel('True label')\n",
    "    plt.xlabel('Predicted label')\n",
    "    \n",
    "plot_confusion_matrix(matrix,[\"3\",\"4\",\"5\",\"6\",\"7\",\"8\",\"9\"])\n",
    "plt.savefig('MC_MLP_Simples.png', transparent=True, dpi=300, bbox_inches=\"tight\")"
   ]
  }
 ],
 "metadata": {
  "kernelspec": {
   "display_name": "Python 3 (ipykernel)",
   "language": "python",
   "name": "python3"
  },
  "language_info": {
   "codemirror_mode": {
    "name": "ipython",
    "version": 3
   },
   "file_extension": ".py",
   "mimetype": "text/x-python",
   "name": "python",
   "nbconvert_exporter": "python",
   "pygments_lexer": "ipython3",
   "version": "3.8.12"
  }
 },
 "nbformat": 4,
 "nbformat_minor": 5
}
