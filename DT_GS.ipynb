{
 "cells": [
  {
   "cell_type": "code",
   "execution_count": 1,
   "id": "60a09043",
   "metadata": {},
   "outputs": [],
   "source": [
    "import pandas as pd\n",
    "import pandas as pd\n",
    "import numpy as np\n",
    "from keras.utils import np_utils\n",
    "from sklearn.metrics import confusion_matrix, accuracy_score\n",
    "from sklearn.preprocessing import MinMaxScaler\n",
    "from keras.wrappers.scikit_learn import KerasClassifier\n",
    "from sklearn.model_selection import GridSearchCV\n",
    "import matplotlib.pyplot as plt\n",
    "import itertools\n",
    "from sklearn.metrics import classification_report, plot_confusion_matrix,fbeta_score, make_scorer\n",
    "import seaborn as sns\n",
    "from sklearn.model_selection import KFold\n",
    "from sklearn.model_selection import StratifiedKFold\n",
    "from sklearn.tree import DecisionTreeClassifier\n",
    "\n",
    "import time"
   ]
  },
  {
   "cell_type": "code",
   "execution_count": 5,
   "id": "76302e50",
   "metadata": {},
   "outputs": [],
   "source": [
    "def print_distribution(arr, print_nl=True):\n",
    "    arr = np.unique(arr, return_counts=True)[1] / len(arr)\n",
    "    for i in range(arr.shape[0]):\n",
    "        print(\"Classe %d: %.2f%%\" %(i, arr[i]*100))\n",
    "\n",
    "    if print_nl:\n",
    "        print(\"\\n\")"
   ]
  },
  {
   "cell_type": "code",
   "execution_count": 6,
   "id": "783634e9",
   "metadata": {},
   "outputs": [
    {
     "name": "stdout",
     "output_type": "stream",
     "text": [
      "<class 'pandas.core.frame.DataFrame'>\n",
      "RangeIndex: 6497 entries, 0 to 6496\n",
      "Data columns (total 12 columns):\n",
      " #   Column                Non-Null Count  Dtype  \n",
      "---  ------                --------------  -----  \n",
      " 0   fixed.acidity         6497 non-null   float64\n",
      " 1   volatile.acidity      6497 non-null   float64\n",
      " 2   citric.acid           6497 non-null   float64\n",
      " 3   residual.sugar        6497 non-null   float64\n",
      " 4   chlorides             6497 non-null   float64\n",
      " 5   free.sulfur.dioxide   6497 non-null   float64\n",
      " 6   total.sulfur.dioxide  6497 non-null   float64\n",
      " 7   density               6497 non-null   float64\n",
      " 8   pH                    6497 non-null   float64\n",
      " 9   sulphates             6497 non-null   float64\n",
      " 10  alcohol               6497 non-null   float64\n",
      " 11  quality               6497 non-null   int64  \n",
      "dtypes: float64(11), int64(1)\n",
      "memory usage: 609.2 KB\n"
     ]
    }
   ],
   "source": [
    "time_begin = time.time()\n",
    "data = pd.read_csv(\"wine_quality.csv\")\n",
    "data.info()"
   ]
  },
  {
   "cell_type": "markdown",
   "id": "d7112669",
   "metadata": {},
   "source": [
    "## Divisão de base de dados e separação de base"
   ]
  },
  {
   "cell_type": "code",
   "execution_count": 12,
   "id": "865dd995",
   "metadata": {},
   "outputs": [],
   "source": [
    "#X = data[[\"fixed.acidity\",\"volatile.acidity\",\"citric.acid\",\"residual.sugar\",\"chlorides\",\"free.sulfur.dioxide\",\"total.sulfur.dioxide\",\"density\",\"pH\",\"sulphates\",\"alcohol\"]]\n",
    "#y = data[[\"quality\"]]\n",
    "X = data.iloc[:, 0:11].values\n",
    "y = data.iloc[:, 11].values"
   ]
  },
  {
   "cell_type": "code",
   "execution_count": 23,
   "id": "6ca1d027",
   "metadata": {},
   "outputs": [
    {
     "name": "stdout",
     "output_type": "stream",
     "text": [
      "Proporções por classe no dataset em geral:\n",
      "Classe 0: 0.46%\n",
      "Classe 1: 3.32%\n",
      "Classe 2: 32.91%\n",
      "Classe 3: 43.65%\n",
      "Classe 4: 16.61%\n",
      "Classe 5: 2.97%\n",
      "Classe 6: 0.08%\n",
      "\n",
      "\n",
      "Fold 0\n",
      "Classe 0: 0.46%\n",
      "Classe 1: 3.34%\n",
      "Classe 2: 32.91%\n",
      "Classe 3: 43.65%\n",
      "Classe 4: 16.61%\n",
      "Classe 5: 2.96%\n",
      "Classe 6: 0.09%\n",
      "\n",
      "\n",
      "Fold 1\n",
      "Classe 0: 0.46%\n",
      "Classe 1: 3.34%\n",
      "Classe 2: 32.91%\n",
      "Classe 3: 43.65%\n",
      "Classe 4: 16.61%\n",
      "Classe 5: 2.96%\n",
      "Classe 6: 0.09%\n",
      "\n",
      "\n",
      "Fold 2\n",
      "Classe 0: 0.46%\n",
      "Classe 1: 3.34%\n",
      "Classe 2: 32.91%\n",
      "Classe 3: 43.65%\n",
      "Classe 4: 16.61%\n",
      "Classe 5: 2.98%\n",
      "Classe 6: 0.07%\n",
      "Fold 3\n",
      "Classe 0: 0.46%\n",
      "Classe 1: 3.32%\n",
      "Classe 2: 32.91%\n",
      "Classe 3: 43.65%\n",
      "Classe 4: 16.62%\n",
      "Classe 5: 2.98%\n",
      "Classe 6: 0.07%\n",
      "\n",
      "\n",
      "Fold 4\n",
      "Classe 0: 0.46%\n",
      "Classe 1: 3.32%\n",
      "Classe 2: 32.91%\n",
      "Classe 3: 43.66%\n",
      "Classe 4: 16.61%\n",
      "Classe 5: 2.98%\n",
      "Classe 6: 0.07%\n",
      "\n",
      "\n",
      "Fold 5\n",
      "Classe 0: 0.46%\n",
      "Classe 1: 3.32%\n",
      "Classe 2: 32.91%\n",
      "Classe 3: 43.66%\n",
      "Classe 4: 16.61%\n",
      "Classe 5: 2.98%\n",
      "Classe 6: 0.07%\n",
      "\n",
      "\n",
      "Fold 6\n",
      "Classe 0: 0.46%\n",
      "Classe 1: 3.32%\n",
      "Classe 2: 32.91%\n",
      "Classe 3: 43.66%\n",
      "Classe 4: 16.61%\n",
      "Classe 5: 2.98%\n",
      "Classe 6: 0.07%\n",
      "\n",
      "\n",
      "Fold 7\n",
      "Classe 0: 0.46%\n",
      "Classe 1: 3.32%\n",
      "Classe 2: 32.90%\n",
      "Classe 3: 43.66%\n",
      "Classe 4: 16.60%\n",
      "Classe 5: 2.98%\n",
      "Classe 6: 0.09%\n",
      "\n",
      "\n",
      "Fold 8\n",
      "Classe 0: 0.46%\n",
      "Classe 1: 3.32%\n",
      "Classe 2: 32.92%\n",
      "Classe 3: 43.64%\n",
      "Classe 4: 16.60%\n",
      "Classe 5: 2.98%\n",
      "Classe 6: 0.09%\n",
      "\n",
      "\n",
      "Fold 9\n",
      "Classe 0: 0.46%\n",
      "Classe 1: 3.33%\n",
      "Classe 2: 32.92%\n",
      "Classe 3: 43.64%\n",
      "Classe 4: 16.60%\n",
      "Classe 5: 2.96%\n",
      "Classe 6: 0.09%\n",
      "\n",
      "\n"
     ]
    },
    {
     "name": "stderr",
     "output_type": "stream",
     "text": [
      "C:\\Users\\cfpc2\\anaconda3\\envs\\rv\\lib\\site-packages\\sklearn\\model_selection\\_split.py:676: UserWarning: The least populated class in y has only 5 members, which is less than n_splits=10.\n",
      "  warnings.warn(\n"
     ]
    }
   ],
   "source": [
    "print(\"Proporções por classe no dataset em geral:\")\n",
    "print_distribution(y)\n",
    "\n",
    "kf = StratifiedKFold(n_splits=10, shuffle=True, random_state=199)\n",
    "fold = 0\n",
    "for train, test in kf.split(X, y):\n",
    "    print(\"Fold %d\" %(fold))\n",
    "    print_distribution(quality[train], print_nl=(fold != 2))\n",
    "    fold += 1"
   ]
  },
  {
   "cell_type": "code",
   "execution_count": 16,
   "id": "1680bfed",
   "metadata": {},
   "outputs": [],
   "source": [
    "kf_results = list()\n",
    "\n",
    "from sklearn.metrics import make_scorer, f1_score,precision_score,recall_score\n",
    "scores = {'accuracy': make_scorer(accuracy_score),\n",
    "           'precision': make_scorer(precision_score, average = 'macro'),\n",
    "           'recall': make_scorer(recall_score, average = 'macro'),\n",
    "           'f1_macro': make_scorer(f1_score, average = 'macro'),\n",
    "           'f1_weighted': make_scorer(f1_score, average = 'weighted')}"
   ]
  },
  {
   "cell_type": "code",
   "execution_count": 19,
   "id": "19f39948",
   "metadata": {},
   "outputs": [
    {
     "name": "stderr",
     "output_type": "stream",
     "text": [
      "C:\\Users\\cfpc2\\anaconda3\\envs\\rv\\lib\\site-packages\\sklearn\\model_selection\\_split.py:676: UserWarning: The least populated class in y has only 5 members, which is less than n_splits=10.\n",
      "  warnings.warn(\n"
     ]
    },
    {
     "name": "stdout",
     "output_type": "stream",
     "text": [
      ">acc=0.534, est=0.509, cfg={'max_leaf_nodes': 4, 'min_samples_split': 2}\n",
      ">acc=0.538, est=0.508, cfg={'max_leaf_nodes': 4, 'min_samples_split': 2}\n"
     ]
    },
    {
     "name": "stderr",
     "output_type": "stream",
     "text": [
      "C:\\Users\\cfpc2\\anaconda3\\envs\\rv\\lib\\site-packages\\sklearn\\model_selection\\_split.py:676: UserWarning: The least populated class in y has only 4 members, which is less than n_splits=5.\n",
      "  warnings.warn(\n"
     ]
    },
    {
     "name": "stdout",
     "output_type": "stream",
     "text": [
      ">acc=0.509, est=0.505, cfg={'max_leaf_nodes': 7, 'min_samples_split': 2}\n"
     ]
    },
    {
     "name": "stderr",
     "output_type": "stream",
     "text": [
      "C:\\Users\\cfpc2\\anaconda3\\envs\\rv\\lib\\site-packages\\sklearn\\model_selection\\_split.py:676: UserWarning: The least populated class in y has only 4 members, which is less than n_splits=5.\n",
      "  warnings.warn(\n"
     ]
    },
    {
     "name": "stdout",
     "output_type": "stream",
     "text": [
      ">acc=0.518, est=0.510, cfg={'max_leaf_nodes': 3, 'min_samples_split': 2}\n"
     ]
    },
    {
     "name": "stderr",
     "output_type": "stream",
     "text": [
      "C:\\Users\\cfpc2\\anaconda3\\envs\\rv\\lib\\site-packages\\sklearn\\model_selection\\_split.py:676: UserWarning: The least populated class in y has only 4 members, which is less than n_splits=5.\n",
      "  warnings.warn(\n"
     ]
    },
    {
     "name": "stdout",
     "output_type": "stream",
     "text": [
      ">acc=0.520, est=0.514, cfg={'max_leaf_nodes': 3, 'min_samples_split': 2}\n"
     ]
    },
    {
     "name": "stderr",
     "output_type": "stream",
     "text": [
      "C:\\Users\\cfpc2\\anaconda3\\envs\\rv\\lib\\site-packages\\sklearn\\model_selection\\_split.py:676: UserWarning: The least populated class in y has only 4 members, which is less than n_splits=5.\n",
      "  warnings.warn(\n"
     ]
    },
    {
     "name": "stdout",
     "output_type": "stream",
     "text": [
      ">acc=0.512, est=0.510, cfg={'max_leaf_nodes': 3, 'min_samples_split': 2}\n"
     ]
    },
    {
     "name": "stderr",
     "output_type": "stream",
     "text": [
      "C:\\Users\\cfpc2\\anaconda3\\envs\\rv\\lib\\site-packages\\sklearn\\model_selection\\_split.py:676: UserWarning: The least populated class in y has only 4 members, which is less than n_splits=5.\n",
      "  warnings.warn(\n"
     ]
    },
    {
     "name": "stdout",
     "output_type": "stream",
     "text": [
      ">acc=0.531, est=0.511, cfg={'max_leaf_nodes': 3, 'min_samples_split': 2}\n",
      ">acc=0.505, est=0.505, cfg={'max_leaf_nodes': 3, 'min_samples_split': 2}\n",
      ">acc=0.512, est=0.514, cfg={'max_leaf_nodes': 3, 'min_samples_split': 2}\n",
      ">acc=0.508, est=0.512, cfg={'max_leaf_nodes': 3, 'min_samples_split': 2}\n"
     ]
    }
   ],
   "source": [
    "for train_ix, test_ix in kf.split(X,y):\n",
    "    X_train, X_test = X[train_ix, :], X[test_ix, :]\n",
    "    y_train, y_test = y[train_ix], y[test_ix]\n",
    "    #cv_inner = StratifiedKFold(n_splits=5, shuffle=True, random_state=1)\n",
    "    model = DecisionTreeClassifier(random_state=1)\n",
    "    # define search space\n",
    "    parameters = dict()\n",
    "    parameters[\"max_leaf_nodes\"] = list(range(2, 50))\n",
    "    parameters[\"min_samples_split\"] = [2, 4]\n",
    "    search = GridSearchCV(model, parameters, scoring=\"accuracy\", cv=5, refit=True)\n",
    "    # execute search\n",
    "    result = search.fit(X_train, y_train)\n",
    "    # get the best performing model fit on the whole training set\n",
    "    best_model = result.best_estimator_\n",
    "    # evaluate model on the hold out dataset\n",
    "    yhat = best_model.predict(X_test)\n",
    "    # evaluate the model\n",
    "    acc = accuracy_score(y_test, yhat)\n",
    "    # store the result\n",
    "    kf_results.append(acc)\n",
    "    # report progress\n",
    "    print('>acc=%.3f, est=%.3f, cfg=%s' % (acc, result.best_score_, result.best_params_))\n"
   ]
  },
  {
   "cell_type": "code",
   "execution_count": 21,
   "id": "9ed2960b",
   "metadata": {},
   "outputs": [
    {
     "name": "stdout",
     "output_type": "stream",
     "text": [
      "Accuracy: 0.519 (0.011)\n"
     ]
    }
   ],
   "source": [
    "print('Accuracy: %.3f (%.3f)' % (np.mean(kf_results), np.std(kf_results)))"
   ]
  },
  {
   "cell_type": "code",
   "execution_count": 22,
   "id": "fe470e35",
   "metadata": {},
   "outputs": [
    {
     "name": "stdout",
     "output_type": "stream",
     "text": [
      "24.052873226006827\n"
     ]
    }
   ],
   "source": [
    "time_end = time.time()\n",
    "print((time_end - time_begin)/60)"
   ]
  }
 ],
 "metadata": {
  "kernelspec": {
   "display_name": "Python 3 (ipykernel)",
   "language": "python",
   "name": "python3"
  },
  "language_info": {
   "codemirror_mode": {
    "name": "ipython",
    "version": 3
   },
   "file_extension": ".py",
   "mimetype": "text/x-python",
   "name": "python",
   "nbconvert_exporter": "python",
   "pygments_lexer": "ipython3",
   "version": "3.8.12"
  }
 },
 "nbformat": 4,
 "nbformat_minor": 5
}
