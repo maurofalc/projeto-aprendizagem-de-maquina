{
 "cells": [
  {
   "cell_type": "code",
   "execution_count": 55,
   "id": "60a09043",
   "metadata": {},
   "outputs": [],
   "source": [
    "import pandas as pd\n",
    "import pandas as pd\n",
    "import numpy as np\n",
    "from keras.utils import np_utils\n",
    "from sklearn.metrics import confusion_matrix, accuracy_score\n",
    "from sklearn.preprocessing import MinMaxScaler\n",
    "from keras.wrappers.scikit_learn import KerasClassifier\n",
    "from sklearn.model_selection import GridSearchCV\n",
    "import matplotlib.pyplot as plt\n",
    "import itertools\n",
    "from sklearn.metrics import roc_auc_score,confusion_matrix, accuracy_score, make_scorer, f1_score,precision_score,recall_score, plot_confusion_matrix\n",
    "import seaborn as sns\n",
    "from sklearn.model_selection import KFold\n",
    "from sklearn.model_selection import StratifiedKFold\n",
    "from sklearn.tree import DecisionTreeClassifier\n",
    "from keras.utils import np_utils\n",
    "\n",
    "import time"
   ]
  },
  {
   "cell_type": "code",
   "execution_count": 56,
   "id": "3dbcbc78",
   "metadata": {},
   "outputs": [],
   "source": [
    "def print_distribution(arr, print_nl=True):\n",
    "    arr = np.unique(arr, return_counts=True)[1] / len(arr)\n",
    "    for i in range(arr.shape[0]):\n",
    "        print(\"Classe %d: %.2f%%\" %(i, arr[i]*100))\n",
    "\n",
    "    if print_nl:\n",
    "        print(\"\\n\")"
   ]
  },
  {
   "cell_type": "code",
   "execution_count": 57,
   "id": "f4919f8b",
   "metadata": {},
   "outputs": [],
   "source": [
    "def taste(quality):\n",
    "  if quality <= 5:\n",
    "    return 0\n",
    "  elif quality > 5 and quality <= 7:\n",
    "    return 1\n",
    "  else:\n",
    "    return 2"
   ]
  },
  {
   "cell_type": "code",
   "execution_count": 58,
   "id": "783634e9",
   "metadata": {},
   "outputs": [
    {
     "name": "stdout",
     "output_type": "stream",
     "text": [
      "<class 'pandas.core.frame.DataFrame'>\n",
      "RangeIndex: 6497 entries, 0 to 6496\n",
      "Data columns (total 12 columns):\n",
      " #   Column                Non-Null Count  Dtype  \n",
      "---  ------                --------------  -----  \n",
      " 0   fixed.acidity         6497 non-null   float64\n",
      " 1   volatile.acidity      6497 non-null   float64\n",
      " 2   citric.acid           6497 non-null   float64\n",
      " 3   residual.sugar        6497 non-null   float64\n",
      " 4   chlorides             6497 non-null   float64\n",
      " 5   free.sulfur.dioxide   6497 non-null   float64\n",
      " 6   total.sulfur.dioxide  6497 non-null   float64\n",
      " 7   density               6497 non-null   float64\n",
      " 8   pH                    6497 non-null   float64\n",
      " 9   sulphates             6497 non-null   float64\n",
      " 10  alcohol               6497 non-null   float64\n",
      " 11  quality               6497 non-null   int64  \n",
      "dtypes: float64(11), int64(1)\n",
      "memory usage: 609.2 KB\n"
     ]
    }
   ],
   "source": [
    "time_begin = time.time()\n",
    "data = pd.read_csv(\"wine_quality.csv\")\n",
    "data.info()"
   ]
  },
  {
   "cell_type": "code",
   "execution_count": 59,
   "id": "e67bf1e1",
   "metadata": {},
   "outputs": [],
   "source": [
    "new_data = data\n",
    "new_data[\"taste\"] = data[\"quality\"].apply(taste)"
   ]
  },
  {
   "cell_type": "code",
   "execution_count": 60,
   "id": "6b38f048",
   "metadata": {},
   "outputs": [
    {
     "data": {
      "text/html": [
       "<div>\n",
       "<style scoped>\n",
       "    .dataframe tbody tr th:only-of-type {\n",
       "        vertical-align: middle;\n",
       "    }\n",
       "\n",
       "    .dataframe tbody tr th {\n",
       "        vertical-align: top;\n",
       "    }\n",
       "\n",
       "    .dataframe thead th {\n",
       "        text-align: right;\n",
       "    }\n",
       "</style>\n",
       "<table border=\"1\" class=\"dataframe\">\n",
       "  <thead>\n",
       "    <tr style=\"text-align: right;\">\n",
       "      <th></th>\n",
       "      <th>fixed.acidity</th>\n",
       "      <th>volatile.acidity</th>\n",
       "      <th>citric.acid</th>\n",
       "      <th>residual.sugar</th>\n",
       "      <th>chlorides</th>\n",
       "      <th>free.sulfur.dioxide</th>\n",
       "      <th>total.sulfur.dioxide</th>\n",
       "      <th>density</th>\n",
       "      <th>pH</th>\n",
       "      <th>sulphates</th>\n",
       "      <th>alcohol</th>\n",
       "      <th>quality</th>\n",
       "      <th>taste</th>\n",
       "    </tr>\n",
       "  </thead>\n",
       "  <tbody>\n",
       "    <tr>\n",
       "      <th>0</th>\n",
       "      <td>7.4</td>\n",
       "      <td>0.70</td>\n",
       "      <td>0.00</td>\n",
       "      <td>1.9</td>\n",
       "      <td>0.076</td>\n",
       "      <td>11.0</td>\n",
       "      <td>34.0</td>\n",
       "      <td>0.99780</td>\n",
       "      <td>3.51</td>\n",
       "      <td>0.56</td>\n",
       "      <td>9.4</td>\n",
       "      <td>5</td>\n",
       "      <td>0</td>\n",
       "    </tr>\n",
       "    <tr>\n",
       "      <th>1</th>\n",
       "      <td>7.8</td>\n",
       "      <td>0.88</td>\n",
       "      <td>0.00</td>\n",
       "      <td>2.6</td>\n",
       "      <td>0.098</td>\n",
       "      <td>25.0</td>\n",
       "      <td>67.0</td>\n",
       "      <td>0.99680</td>\n",
       "      <td>3.20</td>\n",
       "      <td>0.68</td>\n",
       "      <td>9.8</td>\n",
       "      <td>5</td>\n",
       "      <td>0</td>\n",
       "    </tr>\n",
       "    <tr>\n",
       "      <th>2</th>\n",
       "      <td>7.8</td>\n",
       "      <td>0.76</td>\n",
       "      <td>0.04</td>\n",
       "      <td>2.3</td>\n",
       "      <td>0.092</td>\n",
       "      <td>15.0</td>\n",
       "      <td>54.0</td>\n",
       "      <td>0.99700</td>\n",
       "      <td>3.26</td>\n",
       "      <td>0.65</td>\n",
       "      <td>9.8</td>\n",
       "      <td>5</td>\n",
       "      <td>0</td>\n",
       "    </tr>\n",
       "    <tr>\n",
       "      <th>3</th>\n",
       "      <td>11.2</td>\n",
       "      <td>0.28</td>\n",
       "      <td>0.56</td>\n",
       "      <td>1.9</td>\n",
       "      <td>0.075</td>\n",
       "      <td>17.0</td>\n",
       "      <td>60.0</td>\n",
       "      <td>0.99800</td>\n",
       "      <td>3.16</td>\n",
       "      <td>0.58</td>\n",
       "      <td>9.8</td>\n",
       "      <td>6</td>\n",
       "      <td>1</td>\n",
       "    </tr>\n",
       "    <tr>\n",
       "      <th>4</th>\n",
       "      <td>7.4</td>\n",
       "      <td>0.70</td>\n",
       "      <td>0.00</td>\n",
       "      <td>1.9</td>\n",
       "      <td>0.076</td>\n",
       "      <td>11.0</td>\n",
       "      <td>34.0</td>\n",
       "      <td>0.99780</td>\n",
       "      <td>3.51</td>\n",
       "      <td>0.56</td>\n",
       "      <td>9.4</td>\n",
       "      <td>5</td>\n",
       "      <td>0</td>\n",
       "    </tr>\n",
       "    <tr>\n",
       "      <th>...</th>\n",
       "      <td>...</td>\n",
       "      <td>...</td>\n",
       "      <td>...</td>\n",
       "      <td>...</td>\n",
       "      <td>...</td>\n",
       "      <td>...</td>\n",
       "      <td>...</td>\n",
       "      <td>...</td>\n",
       "      <td>...</td>\n",
       "      <td>...</td>\n",
       "      <td>...</td>\n",
       "      <td>...</td>\n",
       "      <td>...</td>\n",
       "    </tr>\n",
       "    <tr>\n",
       "      <th>6492</th>\n",
       "      <td>6.2</td>\n",
       "      <td>0.21</td>\n",
       "      <td>0.29</td>\n",
       "      <td>1.6</td>\n",
       "      <td>0.039</td>\n",
       "      <td>24.0</td>\n",
       "      <td>92.0</td>\n",
       "      <td>0.99114</td>\n",
       "      <td>3.27</td>\n",
       "      <td>0.50</td>\n",
       "      <td>11.2</td>\n",
       "      <td>6</td>\n",
       "      <td>1</td>\n",
       "    </tr>\n",
       "    <tr>\n",
       "      <th>6493</th>\n",
       "      <td>6.6</td>\n",
       "      <td>0.32</td>\n",
       "      <td>0.36</td>\n",
       "      <td>8.0</td>\n",
       "      <td>0.047</td>\n",
       "      <td>57.0</td>\n",
       "      <td>168.0</td>\n",
       "      <td>0.99490</td>\n",
       "      <td>3.15</td>\n",
       "      <td>0.46</td>\n",
       "      <td>9.6</td>\n",
       "      <td>5</td>\n",
       "      <td>0</td>\n",
       "    </tr>\n",
       "    <tr>\n",
       "      <th>6494</th>\n",
       "      <td>6.5</td>\n",
       "      <td>0.24</td>\n",
       "      <td>0.19</td>\n",
       "      <td>1.2</td>\n",
       "      <td>0.041</td>\n",
       "      <td>30.0</td>\n",
       "      <td>111.0</td>\n",
       "      <td>0.99254</td>\n",
       "      <td>2.99</td>\n",
       "      <td>0.46</td>\n",
       "      <td>9.4</td>\n",
       "      <td>6</td>\n",
       "      <td>1</td>\n",
       "    </tr>\n",
       "    <tr>\n",
       "      <th>6495</th>\n",
       "      <td>5.5</td>\n",
       "      <td>0.29</td>\n",
       "      <td>0.30</td>\n",
       "      <td>1.1</td>\n",
       "      <td>0.022</td>\n",
       "      <td>20.0</td>\n",
       "      <td>110.0</td>\n",
       "      <td>0.98869</td>\n",
       "      <td>3.34</td>\n",
       "      <td>0.38</td>\n",
       "      <td>12.8</td>\n",
       "      <td>7</td>\n",
       "      <td>1</td>\n",
       "    </tr>\n",
       "    <tr>\n",
       "      <th>6496</th>\n",
       "      <td>6.0</td>\n",
       "      <td>0.21</td>\n",
       "      <td>0.38</td>\n",
       "      <td>0.8</td>\n",
       "      <td>0.020</td>\n",
       "      <td>22.0</td>\n",
       "      <td>98.0</td>\n",
       "      <td>0.98941</td>\n",
       "      <td>3.26</td>\n",
       "      <td>0.32</td>\n",
       "      <td>11.8</td>\n",
       "      <td>6</td>\n",
       "      <td>1</td>\n",
       "    </tr>\n",
       "  </tbody>\n",
       "</table>\n",
       "<p>6497 rows × 13 columns</p>\n",
       "</div>"
      ],
      "text/plain": [
       "      fixed.acidity  volatile.acidity  citric.acid  residual.sugar  chlorides  \\\n",
       "0               7.4              0.70         0.00             1.9      0.076   \n",
       "1               7.8              0.88         0.00             2.6      0.098   \n",
       "2               7.8              0.76         0.04             2.3      0.092   \n",
       "3              11.2              0.28         0.56             1.9      0.075   \n",
       "4               7.4              0.70         0.00             1.9      0.076   \n",
       "...             ...               ...          ...             ...        ...   \n",
       "6492            6.2              0.21         0.29             1.6      0.039   \n",
       "6493            6.6              0.32         0.36             8.0      0.047   \n",
       "6494            6.5              0.24         0.19             1.2      0.041   \n",
       "6495            5.5              0.29         0.30             1.1      0.022   \n",
       "6496            6.0              0.21         0.38             0.8      0.020   \n",
       "\n",
       "      free.sulfur.dioxide  total.sulfur.dioxide  density    pH  sulphates  \\\n",
       "0                    11.0                  34.0  0.99780  3.51       0.56   \n",
       "1                    25.0                  67.0  0.99680  3.20       0.68   \n",
       "2                    15.0                  54.0  0.99700  3.26       0.65   \n",
       "3                    17.0                  60.0  0.99800  3.16       0.58   \n",
       "4                    11.0                  34.0  0.99780  3.51       0.56   \n",
       "...                   ...                   ...      ...   ...        ...   \n",
       "6492                 24.0                  92.0  0.99114  3.27       0.50   \n",
       "6493                 57.0                 168.0  0.99490  3.15       0.46   \n",
       "6494                 30.0                 111.0  0.99254  2.99       0.46   \n",
       "6495                 20.0                 110.0  0.98869  3.34       0.38   \n",
       "6496                 22.0                  98.0  0.98941  3.26       0.32   \n",
       "\n",
       "      alcohol  quality  taste  \n",
       "0         9.4        5      0  \n",
       "1         9.8        5      0  \n",
       "2         9.8        5      0  \n",
       "3         9.8        6      1  \n",
       "4         9.4        5      0  \n",
       "...       ...      ...    ...  \n",
       "6492     11.2        6      1  \n",
       "6493      9.6        5      0  \n",
       "6494      9.4        6      1  \n",
       "6495     12.8        7      1  \n",
       "6496     11.8        6      1  \n",
       "\n",
       "[6497 rows x 13 columns]"
      ]
     },
     "execution_count": 60,
     "metadata": {},
     "output_type": "execute_result"
    }
   ],
   "source": [
    "new_data"
   ]
  },
  {
   "cell_type": "markdown",
   "id": "d7112669",
   "metadata": {},
   "source": [
    "## Divisão de base de dados e separação de base"
   ]
  },
  {
   "cell_type": "code",
   "execution_count": 61,
   "id": "865dd995",
   "metadata": {},
   "outputs": [],
   "source": [
    "X = new_data.iloc[:, 0:11].values\n",
    "y = new_data.iloc[:, 12].values"
   ]
  },
  {
   "cell_type": "code",
   "execution_count": 62,
   "id": "6ca1d027",
   "metadata": {},
   "outputs": [
    {
     "name": "stdout",
     "output_type": "stream",
     "text": [
      "Proporções por classe no dataset em geral:\n",
      "Classe 0: 36.69%\n",
      "Classe 1: 60.26%\n",
      "Classe 2: 3.05%\n",
      "\n",
      "\n",
      "Fold 0\n",
      "Classe 0: 36.69%\n",
      "Classe 1: 60.27%\n",
      "Classe 2: 3.04%\n",
      "\n",
      "\n",
      "Fold 1\n",
      "Classe 0: 36.69%\n",
      "Classe 1: 60.27%\n",
      "Classe 2: 3.04%\n",
      "\n",
      "\n",
      "Fold 2\n",
      "Classe 0: 36.69%\n",
      "Classe 1: 60.27%\n",
      "Classe 2: 3.04%\n",
      "Fold 3\n",
      "Classe 0: 36.69%\n",
      "Classe 1: 60.27%\n",
      "Classe 2: 3.04%\n",
      "\n",
      "\n",
      "Fold 4\n",
      "Classe 0: 36.70%\n",
      "Classe 1: 60.25%\n",
      "Classe 2: 3.04%\n",
      "\n",
      "\n",
      "Fold 5\n",
      "Classe 0: 36.70%\n",
      "Classe 1: 60.25%\n",
      "Classe 2: 3.04%\n",
      "\n",
      "\n",
      "Fold 6\n",
      "Classe 0: 36.70%\n",
      "Classe 1: 60.25%\n",
      "Classe 2: 3.04%\n",
      "\n",
      "\n",
      "Fold 7\n",
      "Classe 0: 36.70%\n",
      "Classe 1: 60.24%\n",
      "Classe 2: 3.06%\n",
      "\n",
      "\n",
      "Fold 8\n",
      "Classe 0: 36.70%\n",
      "Classe 1: 60.24%\n",
      "Classe 2: 3.06%\n",
      "\n",
      "\n",
      "Fold 9\n",
      "Classe 0: 36.70%\n",
      "Classe 1: 60.26%\n",
      "Classe 2: 3.04%\n",
      "\n",
      "\n"
     ]
    }
   ],
   "source": [
    "print(\"Proporções por classe no dataset em geral:\")\n",
    "print_distribution(y)\n",
    "\n",
    "kf = StratifiedKFold(n_splits=10, shuffle=True, random_state=199)\n",
    "fold = 0\n",
    "for train, test in kf.split(X, y):\n",
    "    print(\"Fold %d\" %(fold))\n",
    "    print_distribution(y[train], print_nl=(fold != 2))\n",
    "    fold += 1"
   ]
  },
  {
   "cell_type": "code",
   "execution_count": 63,
   "id": "1ebca989",
   "metadata": {},
   "outputs": [],
   "source": [
    "kf_accuracy = list()\n",
    "kf_conf_mat = list()\n",
    "kf_precision = list()\n",
    "kf_f1 = list()\n",
    "kf_recall = list()\n",
    "kf_roc = list()"
   ]
  },
  {
   "cell_type": "markdown",
   "id": "7044640b",
   "metadata": {},
   "source": [
    "## Laço para execução do gridsearch em cada fold "
   ]
  },
  {
   "cell_type": "code",
   "execution_count": 64,
   "id": "d9f24a1a",
   "metadata": {},
   "outputs": [
    {
     "name": "stderr",
     "output_type": "stream",
     "text": [
      "C:\\Users\\cfpc2\\anaconda3\\envs\\rv\\lib\\site-packages\\sklearn\\metrics\\_classification.py:1318: UndefinedMetricWarning: Precision is ill-defined and being set to 0.0 in labels with no predicted samples. Use `zero_division` parameter to control this behavior.\n",
      "  _warn_prf(average, modifier, msg_start, len(result))\n"
     ]
    },
    {
     "name": "stdout",
     "output_type": "stream",
     "text": [
      ">acc=0.715,>prec=0.469,>f1=0.472,>rec=0.476,>roc=0.705, est=0.687, cfg={'criterion': 'gini', 'max_depth': 4, 'max_leaf_nodes': 6, 'min_samples_split': 2}\n",
      "[[147  92   0]\n",
      " [ 73 318   0]\n",
      " [  0  20   0]]\n"
     ]
    },
    {
     "name": "stderr",
     "output_type": "stream",
     "text": [
      "C:\\Users\\cfpc2\\anaconda3\\envs\\rv\\lib\\site-packages\\sklearn\\metrics\\_classification.py:1318: UndefinedMetricWarning: Precision is ill-defined and being set to 0.0 in labels with no predicted samples. Use `zero_division` parameter to control this behavior.\n",
      "  _warn_prf(average, modifier, msg_start, len(result))\n"
     ]
    },
    {
     "name": "stdout",
     "output_type": "stream",
     "text": [
      ">acc=0.685,>prec=0.448,>f1=0.444,>rec=0.447,>roc=0.662, est=0.694, cfg={'criterion': 'gini', 'max_depth': 4, 'max_leaf_nodes': 6, 'min_samples_split': 2}\n",
      "[[124 115   0]\n",
      " [ 70 321   0]\n",
      " [  0  20   0]]\n"
     ]
    },
    {
     "name": "stderr",
     "output_type": "stream",
     "text": [
      "C:\\Users\\cfpc2\\anaconda3\\envs\\rv\\lib\\site-packages\\sklearn\\metrics\\_classification.py:1318: UndefinedMetricWarning: Precision is ill-defined and being set to 0.0 in labels with no predicted samples. Use `zero_division` parameter to control this behavior.\n",
      "  _warn_prf(average, modifier, msg_start, len(result))\n"
     ]
    },
    {
     "name": "stdout",
     "output_type": "stream",
     "text": [
      ">acc=0.712,>prec=0.474,>f1=0.459,>rec=0.461,>roc=0.683, est=0.691, cfg={'criterion': 'entropy', 'max_depth': 4, 'max_leaf_nodes': 9, 'min_samples_split': 2}\n",
      "[[122 117   0]\n",
      " [ 50 341   0]\n",
      " [  0  20   0]]\n"
     ]
    },
    {
     "name": "stderr",
     "output_type": "stream",
     "text": [
      "C:\\Users\\cfpc2\\anaconda3\\envs\\rv\\lib\\site-packages\\sklearn\\metrics\\_classification.py:1318: UndefinedMetricWarning: Precision is ill-defined and being set to 0.0 in labels with no predicted samples. Use `zero_division` parameter to control this behavior.\n",
      "  _warn_prf(average, modifier, msg_start, len(result))\n"
     ]
    },
    {
     "name": "stdout",
     "output_type": "stream",
     "text": [
      ">acc=0.695,>prec=0.464,>f1=0.442,>rec=0.444,>roc=0.659, est=0.691, cfg={'criterion': 'entropy', 'max_depth': 4, 'max_leaf_nodes': 7, 'min_samples_split': 2}\n",
      "[[108 131   0]\n",
      " [ 47 344   0]\n",
      " [  0  20   0]]\n"
     ]
    },
    {
     "name": "stderr",
     "output_type": "stream",
     "text": [
      "C:\\Users\\cfpc2\\anaconda3\\envs\\rv\\lib\\site-packages\\sklearn\\metrics\\_classification.py:1318: UndefinedMetricWarning: Precision is ill-defined and being set to 0.0 in labels with no predicted samples. Use `zero_division` parameter to control this behavior.\n",
      "  _warn_prf(average, modifier, msg_start, len(result))\n"
     ]
    },
    {
     "name": "stdout",
     "output_type": "stream",
     "text": [
      ">acc=0.709,>prec=0.464,>f1=0.466,>rec=0.471,>roc=0.697, est=0.691, cfg={'criterion': 'gini', 'max_depth': 4, 'max_leaf_nodes': 3, 'min_samples_split': 2}\n",
      "[[143  95   0]\n",
      " [ 74 318   0]\n",
      " [  0  20   0]]\n"
     ]
    },
    {
     "name": "stderr",
     "output_type": "stream",
     "text": [
      "C:\\Users\\cfpc2\\anaconda3\\envs\\rv\\lib\\site-packages\\sklearn\\metrics\\_classification.py:1318: UndefinedMetricWarning: Precision is ill-defined and being set to 0.0 in labels with no predicted samples. Use `zero_division` parameter to control this behavior.\n",
      "  _warn_prf(average, modifier, msg_start, len(result))\n"
     ]
    },
    {
     "name": "stdout",
     "output_type": "stream",
     "text": [
      ">acc=0.708,>prec=0.462,>f1=0.470,>rec=0.477,>roc=0.706, est=0.694, cfg={'criterion': 'gini', 'max_depth': 4, 'max_leaf_nodes': 9, 'min_samples_split': 2}\n",
      "[[156  82   0]\n",
      " [ 88 304   0]\n",
      " [  1  19   0]]\n"
     ]
    },
    {
     "name": "stderr",
     "output_type": "stream",
     "text": [
      "C:\\Users\\cfpc2\\anaconda3\\envs\\rv\\lib\\site-packages\\sklearn\\metrics\\_classification.py:1318: UndefinedMetricWarning: Precision is ill-defined and being set to 0.0 in labels with no predicted samples. Use `zero_division` parameter to control this behavior.\n",
      "  _warn_prf(average, modifier, msg_start, len(result))\n"
     ]
    },
    {
     "name": "stdout",
     "output_type": "stream",
     "text": [
      ">acc=0.723,>prec=0.474,>f1=0.478,>rec=0.484,>roc=0.716, est=0.692, cfg={'criterion': 'gini', 'max_depth': 4, 'max_leaf_nodes': 6, 'min_samples_split': 2}\n",
      "[[153  85   0]\n",
      " [ 75 317   0]\n",
      " [  1  19   0]]\n"
     ]
    },
    {
     "name": "stderr",
     "output_type": "stream",
     "text": [
      "C:\\Users\\cfpc2\\anaconda3\\envs\\rv\\lib\\site-packages\\sklearn\\metrics\\_classification.py:1318: UndefinedMetricWarning: Precision is ill-defined and being set to 0.0 in labels with no predicted samples. Use `zero_division` parameter to control this behavior.\n",
      "  _warn_prf(average, modifier, msg_start, len(result))\n"
     ]
    },
    {
     "name": "stdout",
     "output_type": "stream",
     "text": [
      ">acc=0.675,>prec=0.441,>f1=0.428,>rec=0.431,>roc=0.640, est=0.689, cfg={'criterion': 'gini', 'max_depth': 4, 'max_leaf_nodes': 6, 'min_samples_split': 2}\n",
      "[[106 132   0]\n",
      " [ 60 332   0]\n",
      " [  1  18   0]]\n"
     ]
    },
    {
     "name": "stderr",
     "output_type": "stream",
     "text": [
      "C:\\Users\\cfpc2\\anaconda3\\envs\\rv\\lib\\site-packages\\sklearn\\metrics\\_classification.py:1318: UndefinedMetricWarning: Precision is ill-defined and being set to 0.0 in labels with no predicted samples. Use `zero_division` parameter to control this behavior.\n",
      "  _warn_prf(average, modifier, msg_start, len(result))\n"
     ]
    },
    {
     "name": "stdout",
     "output_type": "stream",
     "text": [
      ">acc=0.681,>prec=0.443,>f1=0.447,>rec=0.452,>roc=0.670, est=0.693, cfg={'criterion': 'gini', 'max_depth': 4, 'max_leaf_nodes': 6, 'min_samples_split': 2}\n",
      "[[139  99   0]\n",
      " [ 89 303   0]\n",
      " [  0  19   0]]\n",
      ">acc=0.710,>prec=0.465,>f1=0.468,>rec=0.472,>roc=0.700, est=0.693, cfg={'criterion': 'gini', 'max_depth': 4, 'max_leaf_nodes': 6, 'min_samples_split': 2}\n",
      "[[145  93   0]\n",
      " [ 75 316   0]\n",
      " [  1  19   0]]\n"
     ]
    },
    {
     "name": "stderr",
     "output_type": "stream",
     "text": [
      "C:\\Users\\cfpc2\\anaconda3\\envs\\rv\\lib\\site-packages\\sklearn\\metrics\\_classification.py:1318: UndefinedMetricWarning: Precision is ill-defined and being set to 0.0 in labels with no predicted samples. Use `zero_division` parameter to control this behavior.\n",
      "  _warn_prf(average, modifier, msg_start, len(result))\n"
     ]
    }
   ],
   "source": [
    "for train_ix, test_ix in kf.split(X,y):\n",
    "    X_train, X_test = X[train_ix, :], X[test_ix, :]\n",
    "    y_train, y_test = y[train_ix], y[test_ix]\n",
    "    model = DecisionTreeClassifier(random_state=199)\n",
    "    # parâmetros para teste do gridsearch\n",
    "    parameters = dict()\n",
    "    parameters[\"max_leaf_nodes\"] = list(range(2, 20))\n",
    "    parameters[\"min_samples_split\"] = [2,4,6]\n",
    "    parameters[\"max_depth\"] = [4,6,8]\n",
    "    parameters[\"criterion\"] = [\"gini\",\"entropy\"]\n",
    "    search = GridSearchCV(model, parameters, scoring=\"accuracy\", cv=10, refit=True)\n",
    "    # executar e salvar melhores parâmetros do grisearch\n",
    "    result = search.fit(X_train, y_train)\n",
    "    best_model = result.best_estimator_\n",
    "    # teste dos melhores parâmetros\n",
    "    predicted_y = best_model.predict(X_test)\n",
    "    #transformação de itens para cálculo do ROC\n",
    "    y_test_dummy = np_utils.to_categorical(y_test)\n",
    "    y_test_dummy\n",
    "    predicted_y_dummy = np_utils.to_categorical(predicted_y)\n",
    "    predicted_y_dummy\n",
    "    # métricas do modelo\n",
    "    acc = accuracy_score(y_test, predicted_y)\n",
    "    conf_mat = confusion_matrix(y_test, predicted_y)\n",
    "    precision = precision_score(y_test, predicted_y, average = \"macro\")\n",
    "    f1 = f1_score(y_test, predicted_y, average = \"macro\")\n",
    "    recall = recall_score(y_test, predicted_y, average = \"macro\")\n",
    "    roc = roc_auc_score(y_test_dummy,predicted_y_dummy,multi_class=\"ovo\",average = \"macro\")\n",
    "    #armazenamento de métricas\n",
    "    kf_accuracy.append(acc)\n",
    "    kf_conf_mat.append(conf_mat)\n",
    "    kf_precision.append(precision)\n",
    "    kf_f1.append(f1)\n",
    "    kf_recall.append(recall)\n",
    "    kf_roc.append(roc)\n",
    "    #métricas\n",
    "    print(\">acc=%.3f,>prec=%.3f,>f1=%.3f,>rec=%.3f,>roc=%.3f, est=%.3f, cfg=%s\" % (acc,precision,f1,recall,roc, result.best_score_, result.best_params_))\n",
    "    print(conf_mat)"
   ]
  },
  {
   "cell_type": "code",
   "execution_count": 65,
   "id": "ccd2ab2f",
   "metadata": {},
   "outputs": [
    {
     "name": "stdout",
     "output_type": "stream",
     "text": [
      "Accuracy: 0.701 (0.015)\n",
      "Precision: 0.460 (0.012)\n",
      "F1-score: 0.457 (0.016)\n",
      "Recall: 0.461 (0.016)\n",
      "ROC: 0.684 (0.024)\n"
     ]
    }
   ],
   "source": [
    "print(\"Accuracy: %.3f (%.3f)\" % (np.mean(kf_accuracy), np.std(kf_accuracy)))\n",
    "print(\"Precision: %.3f (%.3f)\" % (np.mean(kf_precision), np.std(kf_precision)))\n",
    "print(\"F1-score: %.3f (%.3f)\" % (np.mean(kf_f1), np.std(kf_f1)))\n",
    "print(\"Recall: %.3f (%.3f)\" % (np.mean(kf_recall), np.std(kf_recall)))\n",
    "print(\"ROC: %.3f (%.3f)\" % (np.mean(kf_roc), np.std(kf_roc)))"
   ]
  },
  {
   "cell_type": "code",
   "execution_count": 66,
   "id": "4e3fdae8",
   "metadata": {},
   "outputs": [
    {
     "data": {
      "text/plain": [
       "[array([[147,  92,   0],\n",
       "        [ 73, 318,   0],\n",
       "        [  0,  20,   0]], dtype=int64),\n",
       " array([[124, 115,   0],\n",
       "        [ 70, 321,   0],\n",
       "        [  0,  20,   0]], dtype=int64),\n",
       " array([[122, 117,   0],\n",
       "        [ 50, 341,   0],\n",
       "        [  0,  20,   0]], dtype=int64),\n",
       " array([[108, 131,   0],\n",
       "        [ 47, 344,   0],\n",
       "        [  0,  20,   0]], dtype=int64),\n",
       " array([[143,  95,   0],\n",
       "        [ 74, 318,   0],\n",
       "        [  0,  20,   0]], dtype=int64),\n",
       " array([[156,  82,   0],\n",
       "        [ 88, 304,   0],\n",
       "        [  1,  19,   0]], dtype=int64),\n",
       " array([[153,  85,   0],\n",
       "        [ 75, 317,   0],\n",
       "        [  1,  19,   0]], dtype=int64),\n",
       " array([[106, 132,   0],\n",
       "        [ 60, 332,   0],\n",
       "        [  1,  18,   0]], dtype=int64),\n",
       " array([[139,  99,   0],\n",
       "        [ 89, 303,   0],\n",
       "        [  0,  19,   0]], dtype=int64),\n",
       " array([[145,  93,   0],\n",
       "        [ 75, 316,   0],\n",
       "        [  1,  19,   0]], dtype=int64)]"
      ]
     },
     "execution_count": 66,
     "metadata": {},
     "output_type": "execute_result"
    }
   ],
   "source": [
    "kf_conf_mat"
   ]
  },
  {
   "cell_type": "code",
   "execution_count": 67,
   "id": "8ab64940",
   "metadata": {},
   "outputs": [
    {
     "data": {
      "text/plain": [
       "array([[134.3, 104.1,   0. ],\n",
       "       [ 70.1, 321.4,   0. ],\n",
       "       [  0.4,  19.4,   0. ]])"
      ]
     },
     "execution_count": 67,
     "metadata": {},
     "output_type": "execute_result"
    }
   ],
   "source": [
    "np.mean(kf_conf_mat,axis=0)\n",
    "# teste"
   ]
  },
  {
   "cell_type": "code",
   "execution_count": 68,
   "id": "fe470e35",
   "metadata": {},
   "outputs": [
    {
     "name": "stdout",
     "output_type": "stream",
     "text": [
      "32.898126022020975\n"
     ]
    }
   ],
   "source": [
    "time_end = time.time()\n",
    "print((time_end - time_begin)/60)"
   ]
  }
 ],
 "metadata": {
  "kernelspec": {
   "display_name": "Python 3 (ipykernel)",
   "language": "python",
   "name": "python3"
  },
  "language_info": {
   "codemirror_mode": {
    "name": "ipython",
    "version": 3
   },
   "file_extension": ".py",
   "mimetype": "text/x-python",
   "name": "python",
   "nbconvert_exporter": "python",
   "pygments_lexer": "ipython3",
   "version": "3.8.12"
  }
 },
 "nbformat": 4,
 "nbformat_minor": 5
}
