{
 "cells": [
  {
   "cell_type": "markdown",
   "id": "0a572bda",
   "metadata": {},
   "source": [
    "### Importaçãode bibliotecas"
   ]
  },
  {
   "cell_type": "code",
   "execution_count": 213,
   "id": "8253b4c7",
   "metadata": {},
   "outputs": [],
   "source": [
    "import pandas as pd\n",
    "import numpy as np\n",
    "import matplotlib.pyplot as plt\n",
    "from mlxtend.plotting import plot_decision_regions\n",
    "from sklearn.tree import DecisionTreeClassifier, DecisionTreeRegressor, plot_tree\n",
    "from sklearn.naive_bayes import GaussianNB\n",
    "from sklearn.svm import SVC\n",
    "from sklearn.neighbors import KNeighborsClassifier\n",
    "from keras.models import Sequential\n",
    "from keras.layers import Dense, Dropout\n",
    "from keras.utils import np_utils\n",
    "from sklearn.preprocessing import LabelEncoder\n",
    "import itertools\n",
    "from sklearn.metrics import classification_report\n",
    "from sklearn.model_selection import train_test_split\n",
    "from keras.utils import np_utils\n",
    "from sklearn import preprocessing\n",
    "from sklearn.metrics import roc_auc_score,confusion_matrix, accuracy_score, make_scorer, f1_score,precision_score,recall_score, plot_confusion_matrix"
   ]
  },
  {
   "cell_type": "markdown",
   "id": "ebf53b53",
   "metadata": {},
   "source": [
    "### Carregamento de dataset e pré-processamento"
   ]
  },
  {
   "cell_type": "code",
   "execution_count": 178,
   "id": "35b19574",
   "metadata": {},
   "outputs": [
    {
     "name": "stdout",
     "output_type": "stream",
     "text": [
      "<class 'pandas.core.frame.DataFrame'>\n",
      "RangeIndex: 6497 entries, 0 to 6496\n",
      "Data columns (total 12 columns):\n",
      " #   Column                Non-Null Count  Dtype  \n",
      "---  ------                --------------  -----  \n",
      " 0   fixed.acidity         6497 non-null   float64\n",
      " 1   volatile.acidity      6497 non-null   float64\n",
      " 2   citric.acid           6497 non-null   float64\n",
      " 3   residual.sugar        6497 non-null   float64\n",
      " 4   chlorides             6497 non-null   float64\n",
      " 5   free.sulfur.dioxide   6497 non-null   float64\n",
      " 6   total.sulfur.dioxide  6497 non-null   float64\n",
      " 7   density               6497 non-null   float64\n",
      " 8   pH                    6497 non-null   float64\n",
      " 9   sulphates             6497 non-null   float64\n",
      " 10  alcohol               6497 non-null   float64\n",
      " 11  quality               6497 non-null   int64  \n",
      "dtypes: float64(11), int64(1)\n",
      "memory usage: 609.2 KB\n"
     ]
    }
   ],
   "source": [
    "data = pd.read_csv(\"wine_quality.csv\")\n",
    "data.info()"
   ]
  },
  {
   "cell_type": "code",
   "execution_count": 179,
   "id": "c56b6369",
   "metadata": {},
   "outputs": [],
   "source": [
    "def taste(quality):\n",
    "  if quality <= 5:\n",
    "    return 0\n",
    "  elif quality > 5 and quality <= 7:\n",
    "    return 1\n",
    "  else:\n",
    "    return 2"
   ]
  },
  {
   "cell_type": "code",
   "execution_count": 180,
   "id": "5d1a3bc2",
   "metadata": {},
   "outputs": [],
   "source": [
    "X = data.iloc[:, 0:11].values\n",
    "y = data.iloc[:, 11].values"
   ]
  },
  {
   "cell_type": "code",
   "execution_count": 181,
   "id": "abe3f656",
   "metadata": {},
   "outputs": [],
   "source": [
    "X_train, X_test, y_train, y_test = train_test_split(X, y, test_size=0.1, random_state=199)\n",
    "X_train, X_val, y_train, y_val = train_test_split(X_train, y_train, test_size=0.1, random_state=199)"
   ]
  },
  {
   "cell_type": "markdown",
   "id": "cfe6aac6",
   "metadata": {},
   "source": [
    "## Decision Tree"
   ]
  },
  {
   "cell_type": "code",
   "execution_count": 182,
   "id": "75facb58",
   "metadata": {},
   "outputs": [
    {
     "data": {
      "text/plain": [
       "DecisionTreeClassifier()"
      ]
     },
     "execution_count": 182,
     "metadata": {},
     "output_type": "execute_result"
    }
   ],
   "source": [
    "modelDT = DecisionTreeClassifier()\n",
    "modelDT.fit(X_train, y_train)"
   ]
  },
  {
   "cell_type": "code",
   "execution_count": 183,
   "id": "2067e6d3",
   "metadata": {},
   "outputs": [
    {
     "name": "stderr",
     "output_type": "stream",
     "text": [
      "C:\\Users\\cfpc2\\anaconda3\\envs\\rv\\lib\\site-packages\\sklearn\\utils\\deprecation.py:87: FutureWarning: Function plot_confusion_matrix is deprecated; Function `plot_confusion_matrix` is deprecated in 1.0 and will be removed in 1.2. Use one of the class methods: ConfusionMatrixDisplay.from_predictions or ConfusionMatrixDisplay.from_estimator.\n",
      "  warnings.warn(msg, category=FutureWarning)\n"
     ]
    },
    {
     "data": {
      "text/plain": [
       "<sklearn.metrics._plot.confusion_matrix.ConfusionMatrixDisplay at 0x2ccaa5dad30>"
      ]
     },
     "execution_count": 183,
     "metadata": {},
     "output_type": "execute_result"
    },
    {
     "data": {
      "image/png": "[encoded data removed]",
      "text/plain": [
       "<Figure size 432x288 with 2 Axes>"
      ]
     },
     "metadata": {
      "needs_background": "light"
     },
     "output_type": "display_data"
    }
   ],
   "source": [
    "predicted_y = modelDT.predict(X_test)\n",
    "plot_confusion_matrix(modelDT, X_test, y_test)"
   ]
  },
  {
   "cell_type": "code",
   "execution_count": 184,
   "id": "3ae32ff8",
   "metadata": {},
   "outputs": [],
   "source": [
    "le = preprocessing.LabelEncoder()\n",
    "y_test_dummy = le.fit_transform(y_test)\n",
    "predicted_y_dummy = le.fit_transform(predicted_y)\n",
    "y_test_dummy = np_utils.to_categorical(y_test_dummy)\n",
    "predicted_y_dummy = np_utils.to_categorical(predicted_y_dummy)"
   ]
  },
  {
   "cell_type": "code",
   "execution_count": 185,
   "id": "82a914c4",
   "metadata": {
    "scrolled": true
   },
   "outputs": [
    {
     "name": "stdout",
     "output_type": "stream",
     "text": [
      ">acc=0.5938,>prec=0.3393,>f1=0.3369,>rec=0.3360,roc=0.6248\n"
     ]
    }
   ],
   "source": [
    "roc = roc_auc_score(y_test_dummy,predicted_y_dummy,multi_class=\"ovo\",average = 'macro')\n",
    "acc = accuracy_score(y_test,predicted_y)\n",
    "precision = precision_score(y_test,predicted_y, average = \"macro\")\n",
    "f1 = f1_score(y_test,predicted_y, average = \"macro\")\n",
    "recall = recall_score(y_test,predicted_y, average = \"macro\")\n",
    "print(\">acc=%.4f,>prec=%.4f,>f1=%.4f,>rec=%.4f,roc=%.4f\" % (acc,precision,f1,recall,roc))"
   ]
  },
  {
   "cell_type": "markdown",
   "id": "3009fc3b",
   "metadata": {},
   "source": [
    "## Naive Bayes"
   ]
  },
  {
   "cell_type": "code",
   "execution_count": 188,
   "id": "b0a30b0a",
   "metadata": {},
   "outputs": [
    {
     "data": {
      "text/plain": [
       "GaussianNB()"
      ]
     },
     "execution_count": 188,
     "metadata": {},
     "output_type": "execute_result"
    }
   ],
   "source": [
    "modelNB = GaussianNB()\n",
    "modelNB.fit(X_train, y_train)"
   ]
  },
  {
   "cell_type": "code",
   "execution_count": 189,
   "id": "1701426c",
   "metadata": {},
   "outputs": [
    {
     "name": "stderr",
     "output_type": "stream",
     "text": [
      "C:\\Users\\cfpc2\\anaconda3\\envs\\rv\\lib\\site-packages\\sklearn\\utils\\deprecation.py:87: FutureWarning: Function plot_confusion_matrix is deprecated; Function `plot_confusion_matrix` is deprecated in 1.0 and will be removed in 1.2. Use one of the class methods: ConfusionMatrixDisplay.from_predictions or ConfusionMatrixDisplay.from_estimator.\n",
      "  warnings.warn(msg, category=FutureWarning)\n"
     ]
    },
    {
     "data": {
      "text/plain": [
       "<sklearn.metrics._plot.confusion_matrix.ConfusionMatrixDisplay at 0x2ccaa604910>"
      ]
     },
     "execution_count": 189,
     "metadata": {},
     "output_type": "execute_result"
    },
    {
     "data": {
      "image/png": "[encoded data removed]",
      "text/plain": [
       "<Figure size 432x288 with 2 Axes>"
      ]
     },
     "metadata": {
      "needs_background": "light"
     },
     "output_type": "display_data"
    }
   ],
   "source": [
    "predicted_y = modelNB.predict(X_test)\n",
    "plot_confusion_matrix(modelNB, X_test, y_test)"
   ]
  },
  {
   "cell_type": "code",
   "execution_count": 190,
   "id": "5f57dd87",
   "metadata": {},
   "outputs": [],
   "source": [
    "le = preprocessing.LabelEncoder()\n",
    "y_test_dummy = le.fit_transform(y_test)\n",
    "predicted_y_dummy = le.fit_transform(predicted_y)\n",
    "y_test_dummy = np_utils.to_categorical(y_test_dummy)\n",
    "predicted_y_dummy = np_utils.to_categorical(predicted_y_dummy)"
   ]
  },
  {
   "cell_type": "code",
   "execution_count": 191,
   "id": "8ca4f977",
   "metadata": {},
   "outputs": [
    {
     "name": "stdout",
     "output_type": "stream",
     "text": [
      ">acc=0.4538,>prec=0.2092,>f1=0.2119,>rec=0.2208,roc=0.5612\n"
     ]
    },
    {
     "name": "stderr",
     "output_type": "stream",
     "text": [
      "C:\\Users\\cfpc2\\anaconda3\\envs\\rv\\lib\\site-packages\\sklearn\\metrics\\_classification.py:1318: UndefinedMetricWarning: Precision is ill-defined and being set to 0.0 in labels with no predicted samples. Use `zero_division` parameter to control this behavior.\n",
      "  _warn_prf(average, modifier, msg_start, len(result))\n"
     ]
    }
   ],
   "source": [
    "roc = roc_auc_score(y_test_dummy,predicted_y_dummy,multi_class=\"ovo\",average = 'macro')\n",
    "acc = accuracy_score(y_test,predicted_y)\n",
    "precision = precision_score(y_test,predicted_y, average = \"macro\")\n",
    "f1 = f1_score(y_test,predicted_y, average = \"macro\")\n",
    "recall = recall_score(y_test,predicted_y, average = \"macro\")\n",
    "print(\">acc=%.4f,>prec=%.4f,>f1=%.4f,>rec=%.4f,roc=%.4f\" % (acc,precision,f1,recall,roc))"
   ]
  },
  {
   "cell_type": "markdown",
   "id": "142af4d8",
   "metadata": {},
   "source": [
    "## SVM"
   ]
  },
  {
   "cell_type": "code",
   "execution_count": 194,
   "id": "06fa5d9d",
   "metadata": {},
   "outputs": [
    {
     "data": {
      "text/plain": [
       "SVC(random_state=199)"
      ]
     },
     "execution_count": 194,
     "metadata": {},
     "output_type": "execute_result"
    }
   ],
   "source": [
    "modelSVM = SVC(random_state=199)\n",
    "modelSVM.fit(X_train, y_train)"
   ]
  },
  {
   "cell_type": "code",
   "execution_count": 195,
   "id": "077f5d02",
   "metadata": {},
   "outputs": [
    {
     "name": "stderr",
     "output_type": "stream",
     "text": [
      "C:\\Users\\cfpc2\\anaconda3\\envs\\rv\\lib\\site-packages\\sklearn\\utils\\deprecation.py:87: FutureWarning: Function plot_confusion_matrix is deprecated; Function `plot_confusion_matrix` is deprecated in 1.0 and will be removed in 1.2. Use one of the class methods: ConfusionMatrixDisplay.from_predictions or ConfusionMatrixDisplay.from_estimator.\n",
      "  warnings.warn(msg, category=FutureWarning)\n"
     ]
    },
    {
     "data": {
      "text/plain": [
       "<sklearn.metrics._plot.confusion_matrix.ConfusionMatrixDisplay at 0x2ccaa664dc0>"
      ]
     },
     "execution_count": 195,
     "metadata": {},
     "output_type": "execute_result"
    },
    {
     "data": {
      "image/png": "[encoded data removed]",
      "text/plain": [
       "<Figure size 432x288 with 2 Axes>"
      ]
     },
     "metadata": {
      "needs_background": "light"
     },
     "output_type": "display_data"
    }
   ],
   "source": [
    "predicted_y = modelSVM.predict(X_test)\n",
    "plot_confusion_matrix(modelSVM, X_test, y_test)"
   ]
  },
  {
   "cell_type": "code",
   "execution_count": 196,
   "id": "63fe38f0",
   "metadata": {},
   "outputs": [],
   "source": [
    "le = preprocessing.LabelEncoder()\n",
    "y_test_dummy = le.fit_transform(y_test)\n",
    "predicted_y_dummy = le.fit_transform(predicted_y)\n",
    "y_test_dummy = np_utils.to_categorical(y_test_dummy)\n",
    "predicted_y_dummy = np_utils.to_categorical(predicted_y_dummy)"
   ]
  },
  {
   "cell_type": "code",
   "execution_count": 197,
   "id": "6fa3991c",
   "metadata": {},
   "outputs": [
    {
     "name": "stdout",
     "output_type": "stream",
     "text": [
      ">acc=0.4231,>prec=0.0604,>f1=0.0849,>rec=0.1429,roc=0.5000\n"
     ]
    },
    {
     "name": "stderr",
     "output_type": "stream",
     "text": [
      "C:\\Users\\cfpc2\\anaconda3\\envs\\rv\\lib\\site-packages\\sklearn\\metrics\\_classification.py:1318: UndefinedMetricWarning: Precision is ill-defined and being set to 0.0 in labels with no predicted samples. Use `zero_division` parameter to control this behavior.\n",
      "  _warn_prf(average, modifier, msg_start, len(result))\n"
     ]
    }
   ],
   "source": [
    "roc = roc_auc_score(y_test_dummy,predicted_y_dummy,multi_class=\"ovo\",average = 'macro')\n",
    "acc = accuracy_score(y_test,predicted_y)\n",
    "precision = precision_score(y_test,predicted_y, average = \"macro\")\n",
    "f1 = f1_score(y_test,predicted_y, average = \"macro\")\n",
    "recall = recall_score(y_test,predicted_y, average = \"macro\")\n",
    "print(\">acc=%.4f,>prec=%.4f,>f1=%.4f,>rec=%.4f,roc=%.4f\" % (acc,precision,f1,recall,roc))"
   ]
  },
  {
   "cell_type": "markdown",
   "id": "10e20ab0",
   "metadata": {},
   "source": [
    "## KNN"
   ]
  },
  {
   "cell_type": "code",
   "execution_count": 201,
   "id": "edf2f0fd",
   "metadata": {},
   "outputs": [
    {
     "data": {
      "text/plain": [
       "KNeighborsClassifier()"
      ]
     },
     "execution_count": 201,
     "metadata": {},
     "output_type": "execute_result"
    }
   ],
   "source": [
    "modelKNN = KNeighborsClassifier()\n",
    "modelKNN.fit(X_train, y_train)"
   ]
  },
  {
   "cell_type": "code",
   "execution_count": 202,
   "id": "999295ea",
   "metadata": {},
   "outputs": [
    {
     "name": "stderr",
     "output_type": "stream",
     "text": [
      "C:\\Users\\cfpc2\\anaconda3\\envs\\rv\\lib\\site-packages\\sklearn\\utils\\deprecation.py:87: FutureWarning: Function plot_confusion_matrix is deprecated; Function `plot_confusion_matrix` is deprecated in 1.0 and will be removed in 1.2. Use one of the class methods: ConfusionMatrixDisplay.from_predictions or ConfusionMatrixDisplay.from_estimator.\n",
      "  warnings.warn(msg, category=FutureWarning)\n"
     ]
    },
    {
     "data": {
      "text/plain": [
       "<sklearn.metrics._plot.confusion_matrix.ConfusionMatrixDisplay at 0x2ccaa70e400>"
      ]
     },
     "execution_count": 202,
     "metadata": {},
     "output_type": "execute_result"
    },
    {
     "data": {
      "image/png": "[encoded data removed]",
      "text/plain": [
       "<Figure size 432x288 with 2 Axes>"
      ]
     },
     "metadata": {
      "needs_background": "light"
     },
     "output_type": "display_data"
    }
   ],
   "source": [
    "predicted_y = modelKNN.predict(X_test)\n",
    "plot_confusion_matrix(modelKNN, X_test, y_test)"
   ]
  },
  {
   "cell_type": "code",
   "execution_count": 203,
   "id": "4cedcf7b",
   "metadata": {},
   "outputs": [],
   "source": [
    "le = preprocessing.LabelEncoder()\n",
    "y_test_dummy = le.fit_transform(y_test)\n",
    "predicted_y_dummy = le.fit_transform(predicted_y)\n",
    "y_test_dummy = np_utils.to_categorical(y_test_dummy)\n",
    "predicted_y_dummy = np_utils.to_categorical(predicted_y_dummy)"
   ]
  },
  {
   "cell_type": "code",
   "execution_count": 204,
   "id": "f066f71e",
   "metadata": {},
   "outputs": [
    {
     "name": "stdout",
     "output_type": "stream",
     "text": [
      ">acc=0.4923,>prec=0.2794,>f1=0.2403,>rec=0.2317,roc=0.6012\n"
     ]
    },
    {
     "name": "stderr",
     "output_type": "stream",
     "text": [
      "C:\\Users\\cfpc2\\anaconda3\\envs\\rv\\lib\\site-packages\\sklearn\\metrics\\_classification.py:1318: UndefinedMetricWarning: Precision is ill-defined and being set to 0.0 in labels with no predicted samples. Use `zero_division` parameter to control this behavior.\n",
      "  _warn_prf(average, modifier, msg_start, len(result))\n"
     ]
    }
   ],
   "source": [
    "roc = roc_auc_score(y_test_dummy,predicted_y_dummy,multi_class=\"ovo\",average = 'macro')\n",
    "acc = accuracy_score(y_test,predicted_y)\n",
    "precision = precision_score(y_test,predicted_y, average = \"macro\")\n",
    "f1 = f1_score(y_test,predicted_y, average = \"macro\")\n",
    "recall = recall_score(y_test,predicted_y, average = \"macro\")\n",
    "print(\">acc=%.4f,>prec=%.4f,>f1=%.4f,>rec=%.4f,roc=%.4f\" % (acc,precision,f1,recall,roc))"
   ]
  },
  {
   "cell_type": "markdown",
   "id": "a70a2b0e",
   "metadata": {},
   "source": [
    "## MLP"
   ]
  },
  {
   "cell_type": "code",
   "execution_count": 206,
   "id": "8f64e7d6",
   "metadata": {},
   "outputs": [],
   "source": [
    "labelencoder = LabelEncoder()\n",
    "quality = labelencoder.fit_transform(y)\n",
    "y_dummy = np_utils.to_categorical(y)"
   ]
  },
  {
   "cell_type": "code",
   "execution_count": 207,
   "id": "5b3fe7a7",
   "metadata": {},
   "outputs": [],
   "source": [
    "X_train, X_test, y_train, y_test = train_test_split(X, y_dummy, test_size=0.1, random_state=199)\n",
    "X_train, X_val, y_train, y_val = train_test_split(X_train, y_train, test_size=0.1, random_state=199)"
   ]
  },
  {
   "cell_type": "code",
   "execution_count": 208,
   "id": "0c97f6cf",
   "metadata": {},
   "outputs": [
    {
     "name": "stdout",
     "output_type": "stream",
     "text": [
      "Epoch 1/50\n",
      "148/148 [==============================] - 1s 1ms/step - loss: 15.4123 - categorical_accuracy: 0.2944 - val_loss: 2.7428 - val_categorical_accuracy: 0.3890\n",
      "Epoch 2/50\n",
      "148/148 [==============================] - 0s 653us/step - loss: 6.0410 - categorical_accuracy: 0.3221 - val_loss: 2.5137 - val_categorical_accuracy: 0.2941\n",
      "Epoch 3/50\n",
      "148/148 [==============================] - 0s 686us/step - loss: 3.5410 - categorical_accuracy: 0.3252 - val_loss: 1.5682 - val_categorical_accuracy: 0.3814\n",
      "Epoch 4/50\n",
      "148/148 [==============================] - 0s 646us/step - loss: 2.6851 - categorical_accuracy: 0.3297 - val_loss: 1.4825 - val_categorical_accuracy: 0.3947\n",
      "Epoch 5/50\n",
      "148/148 [==============================] - 0s 669us/step - loss: 2.2046 - categorical_accuracy: 0.3474 - val_loss: 1.3623 - val_categorical_accuracy: 0.4061\n",
      "Epoch 6/50\n",
      "148/148 [==============================] - 0s 643us/step - loss: 1.8947 - categorical_accuracy: 0.3531 - val_loss: 1.3196 - val_categorical_accuracy: 0.4459\n",
      "Epoch 7/50\n",
      "148/148 [==============================] - 0s 654us/step - loss: 1.7648 - categorical_accuracy: 0.3713 - val_loss: 1.3275 - val_categorical_accuracy: 0.3966\n",
      "Epoch 8/50\n",
      "148/148 [==============================] - 0s 671us/step - loss: 1.6115 - categorical_accuracy: 0.3873 - val_loss: 1.2946 - val_categorical_accuracy: 0.4592\n",
      "Epoch 9/50\n",
      "148/148 [==============================] - 0s 643us/step - loss: 1.5519 - categorical_accuracy: 0.3791 - val_loss: 1.2802 - val_categorical_accuracy: 0.4668\n",
      "Epoch 10/50\n",
      "148/148 [==============================] - 0s 647us/step - loss: 1.4695 - categorical_accuracy: 0.3989 - val_loss: 1.2701 - val_categorical_accuracy: 0.4649\n",
      "Epoch 11/50\n",
      "148/148 [==============================] - 0s 722us/step - loss: 1.4383 - categorical_accuracy: 0.4127 - val_loss: 1.2622 - val_categorical_accuracy: 0.4516\n",
      "Epoch 12/50\n",
      "148/148 [==============================] - 0s 641us/step - loss: 1.3753 - categorical_accuracy: 0.4165 - val_loss: 1.2563 - val_categorical_accuracy: 0.4915\n",
      "Epoch 13/50\n",
      "148/148 [==============================] - 0s 639us/step - loss: 1.3519 - categorical_accuracy: 0.4230 - val_loss: 1.2560 - val_categorical_accuracy: 0.4459\n",
      "Epoch 14/50\n",
      "148/148 [==============================] - 0s 793us/step - loss: 1.3352 - categorical_accuracy: 0.4253 - val_loss: 1.2461 - val_categorical_accuracy: 0.4820\n",
      "Epoch 15/50\n",
      "148/148 [==============================] - 0s 804us/step - loss: 1.3062 - categorical_accuracy: 0.4283 - val_loss: 1.2564 - val_categorical_accuracy: 0.4706\n",
      "Epoch 16/50\n",
      "148/148 [==============================] - 0s 631us/step - loss: 1.3004 - categorical_accuracy: 0.4272 - val_loss: 1.2406 - val_categorical_accuracy: 0.4611\n",
      "Epoch 17/50\n",
      "148/148 [==============================] - 0s 737us/step - loss: 1.2860 - categorical_accuracy: 0.4441 - val_loss: 1.2339 - val_categorical_accuracy: 0.4991\n",
      "Epoch 18/50\n",
      "148/148 [==============================] - 0s 746us/step - loss: 1.2864 - categorical_accuracy: 0.4467 - val_loss: 1.2256 - val_categorical_accuracy: 0.4915\n",
      "Epoch 19/50\n",
      "148/148 [==============================] - 0s 698us/step - loss: 1.2723 - categorical_accuracy: 0.4405 - val_loss: 1.2230 - val_categorical_accuracy: 0.4991\n",
      "Epoch 20/50\n",
      "148/148 [==============================] - 0s 627us/step - loss: 1.2562 - categorical_accuracy: 0.4458 - val_loss: 1.2190 - val_categorical_accuracy: 0.4820\n",
      "Epoch 21/50\n",
      "148/148 [==============================] - 0s 644us/step - loss: 1.2453 - categorical_accuracy: 0.4566 - val_loss: 1.2164 - val_categorical_accuracy: 0.4915\n",
      "Epoch 22/50\n",
      "148/148 [==============================] - 0s 637us/step - loss: 1.2371 - categorical_accuracy: 0.4530 - val_loss: 1.2053 - val_categorical_accuracy: 0.5085\n",
      "Epoch 23/50\n",
      "148/148 [==============================] - 0s 659us/step - loss: 1.2289 - categorical_accuracy: 0.4676 - val_loss: 1.1983 - val_categorical_accuracy: 0.5085\n",
      "Epoch 24/50\n",
      "148/148 [==============================] - 0s 692us/step - loss: 1.2252 - categorical_accuracy: 0.4688 - val_loss: 1.1971 - val_categorical_accuracy: 0.5047\n",
      "Epoch 25/50\n",
      "148/148 [==============================] - 0s 631us/step - loss: 1.2183 - categorical_accuracy: 0.4680 - val_loss: 1.2122 - val_categorical_accuracy: 0.4858\n",
      "Epoch 26/50\n",
      "148/148 [==============================] - 0s 692us/step - loss: 1.2157 - categorical_accuracy: 0.4653 - val_loss: 1.1792 - val_categorical_accuracy: 0.5066\n",
      "Epoch 27/50\n",
      "148/148 [==============================] - 0s 657us/step - loss: 1.2052 - categorical_accuracy: 0.4743 - val_loss: 1.1767 - val_categorical_accuracy: 0.5047\n",
      "Epoch 28/50\n",
      "148/148 [==============================] - 0s 650us/step - loss: 1.2024 - categorical_accuracy: 0.4813 - val_loss: 1.1805 - val_categorical_accuracy: 0.5085\n",
      "Epoch 29/50\n",
      "148/148 [==============================] - 0s 766us/step - loss: 1.1921 - categorical_accuracy: 0.4779 - val_loss: 1.1676 - val_categorical_accuracy: 0.5123\n",
      "Epoch 30/50\n",
      "148/148 [==============================] - 0s 769us/step - loss: 1.1898 - categorical_accuracy: 0.4813 - val_loss: 1.1597 - val_categorical_accuracy: 0.5104\n",
      "Epoch 31/50\n",
      "148/148 [==============================] - 0s 665us/step - loss: 1.1862 - categorical_accuracy: 0.4822 - val_loss: 1.1572 - val_categorical_accuracy: 0.5180\n",
      "Epoch 32/50\n",
      "148/148 [==============================] - 0s 651us/step - loss: 1.1861 - categorical_accuracy: 0.4891 - val_loss: 1.1587 - val_categorical_accuracy: 0.5104\n",
      "Epoch 33/50\n",
      "148/148 [==============================] - 0s 670us/step - loss: 1.1763 - categorical_accuracy: 0.4910 - val_loss: 1.1620 - val_categorical_accuracy: 0.5066\n",
      "Epoch 34/50\n",
      "148/148 [==============================] - 0s 644us/step - loss: 1.1735 - categorical_accuracy: 0.4864 - val_loss: 1.1474 - val_categorical_accuracy: 0.5256\n",
      "Epoch 35/50\n",
      "148/148 [==============================] - 0s 638us/step - loss: 1.1687 - categorical_accuracy: 0.4936 - val_loss: 1.1495 - val_categorical_accuracy: 0.5142\n",
      "Epoch 36/50\n",
      "148/148 [==============================] - 0s 644us/step - loss: 1.1698 - categorical_accuracy: 0.4974 - val_loss: 1.1527 - val_categorical_accuracy: 0.5199\n",
      "Epoch 37/50\n",
      "148/148 [==============================] - 0s 652us/step - loss: 1.1649 - categorical_accuracy: 0.4904 - val_loss: 1.1492 - val_categorical_accuracy: 0.5351\n",
      "Epoch 38/50\n",
      "148/148 [==============================] - 0s 617us/step - loss: 1.1587 - categorical_accuracy: 0.4929 - val_loss: 1.1395 - val_categorical_accuracy: 0.5332\n",
      "Epoch 39/50\n",
      "148/148 [==============================] - 0s 611us/step - loss: 1.1529 - categorical_accuracy: 0.5056 - val_loss: 1.1483 - val_categorical_accuracy: 0.5275\n",
      "Epoch 40/50\n",
      "148/148 [==============================] - 0s 654us/step - loss: 1.1513 - categorical_accuracy: 0.5022 - val_loss: 1.1506 - val_categorical_accuracy: 0.5142\n",
      "Epoch 41/50\n",
      "148/148 [==============================] - 0s 658us/step - loss: 1.1514 - categorical_accuracy: 0.5043 - val_loss: 1.1365 - val_categorical_accuracy: 0.5218\n",
      "Epoch 42/50\n",
      "148/148 [==============================] - 0s 692us/step - loss: 1.1472 - categorical_accuracy: 0.5022 - val_loss: 1.1407 - val_categorical_accuracy: 0.5123\n",
      "Epoch 43/50\n",
      "148/148 [==============================] - 0s 694us/step - loss: 1.1517 - categorical_accuracy: 0.4999 - val_loss: 1.1369 - val_categorical_accuracy: 0.5256\n",
      "Epoch 44/50\n",
      "148/148 [==============================] - 0s 732us/step - loss: 1.1432 - categorical_accuracy: 0.5052 - val_loss: 1.1280 - val_categorical_accuracy: 0.5275\n",
      "Epoch 45/50\n",
      "148/148 [==============================] - 0s 698us/step - loss: 1.1412 - categorical_accuracy: 0.5014 - val_loss: 1.1299 - val_categorical_accuracy: 0.5484\n",
      "Epoch 46/50\n",
      "148/148 [==============================] - 0s 652us/step - loss: 1.1431 - categorical_accuracy: 0.5041 - val_loss: 1.1276 - val_categorical_accuracy: 0.5180\n",
      "Epoch 47/50\n",
      "148/148 [==============================] - 0s 695us/step - loss: 1.1383 - categorical_accuracy: 0.5075 - val_loss: 1.1234 - val_categorical_accuracy: 0.5199\n",
      "Epoch 48/50\n",
      "148/148 [==============================] - 0s 742us/step - loss: 1.1450 - categorical_accuracy: 0.5081 - val_loss: 1.1337 - val_categorical_accuracy: 0.5389\n",
      "Epoch 49/50\n"
     ]
    },
    {
     "name": "stdout",
     "output_type": "stream",
     "text": [
      "148/148 [==============================] - 0s 680us/step - loss: 1.1403 - categorical_accuracy: 0.4957 - val_loss: 1.1333 - val_categorical_accuracy: 0.5275\n",
      "Epoch 50/50\n",
      "148/148 [==============================] - 0s 668us/step - loss: 1.1362 - categorical_accuracy: 0.5024 - val_loss: 1.1197 - val_categorical_accuracy: 0.5256\n"
     ]
    }
   ],
   "source": [
    "classifier = Sequential()\n",
    "classifier.add(Dense(units=16, activation=\"linear\",input_dim=11))\n",
    "classifier.add(Dropout(0.1))\n",
    "classifier.add(Dense(units=16, activation=\"linear\"))\n",
    "classifier.add(Dropout(0.1))\n",
    "classifier.add(Dense(units=10, activation=\"softmax\"))\n",
    "classifier.compile(optimizer=\"adam\", loss=\"categorical_crossentropy\", metrics=[\"categorical_accuracy\"])\n",
    "history = classifier.fit(X_train, y_train, batch_size=32,\n",
    "                  epochs=50,validation_split=0.1)"
   ]
  },
  {
   "cell_type": "code",
   "execution_count": 209,
   "id": "278d76e6",
   "metadata": {},
   "outputs": [],
   "source": [
    "predicted_y = classifier.predict(X_test)\n",
    "\n",
    "y_test_transform = [np.argmax(t) for t in y_test]\n",
    "predicted_y_transform = [np.argmax(t) for t in predicted_y]\n",
    "\n",
    "matrix = confusion_matrix(predicted_y_transform, y_test_transform)"
   ]
  },
  {
   "cell_type": "code",
   "execution_count": 210,
   "id": "c5e6ea54",
   "metadata": {},
   "outputs": [],
   "source": [
    "le = preprocessing.LabelEncoder()\n",
    "y_test_dummy = le.fit_transform(y_test_transform)\n",
    "predicted_y_dummy = le.fit_transform(predicted_y_transform)\n",
    "y_test_dummy = np_utils.to_categorical(y_test_dummy)\n",
    "predicted_y_dummy = np_utils.to_categorical(predicted_y_dummy)"
   ]
  },
  {
   "cell_type": "code",
   "execution_count": 211,
   "id": "51d33a5f",
   "metadata": {},
   "outputs": [
    {
     "name": "stdout",
     "output_type": "stream",
     "text": [
      ">acc=0.5215,>prec=0.2258,>f1=0.1881,>rec=0.1998,roc=0.3997\n"
     ]
    },
    {
     "name": "stderr",
     "output_type": "stream",
     "text": [
      "C:\\Users\\cfpc2\\anaconda3\\envs\\rv\\lib\\site-packages\\sklearn\\metrics\\_classification.py:1318: UndefinedMetricWarning: Precision is ill-defined and being set to 0.0 in labels with no predicted samples. Use `zero_division` parameter to control this behavior.\n",
      "  _warn_prf(average, modifier, msg_start, len(result))\n"
     ]
    }
   ],
   "source": [
    "roc = roc_auc_score(y_test_dummy,predicted_y_dummy,multi_class=\"ovo\",average = 'macro')\n",
    "acc = accuracy_score(y_test_transform,predicted_y_transform)\n",
    "precision = precision_score(y_test_transform,predicted_y_transform, average = \"macro\")\n",
    "f1 = f1_score(y_test_transform,predicted_y_transform, average = \"macro\")\n",
    "recall = recall_score(y_test_transform,predicted_y_transform, average = \"macro\")\n",
    "\n",
    "print(\">acc=%.4f,>prec=%.4f,>f1=%.4f,>rec=%.4f,roc=%.4f\" % (acc,precision,f1,recall,roc))"
   ]
  },
  {
   "cell_type": "code",
   "execution_count": 215,
   "id": "2ee47be3",
   "metadata": {},
   "outputs": [
    {
     "name": "stdout",
     "output_type": "stream",
     "text": [
      "Confusion matrix, without normalization\n",
      "[[  0   0   0   0   0   0   0]\n",
      " [  0   0   0   0   0   0   0]\n",
      " [  0  11 122  61  10   2   0]\n",
      " [  1   8  97 207  93  16   2]\n",
      " [  0   0   0   7  10   3   0]\n",
      " [  0   0   0   0   0   0   0]\n",
      " [  0   0   0   0   0   0   0]]\n"
     ]
    },
    {
     "data": {
      "image/png": "[encoded data removed]",
      "text/plain": [
       "<Figure size 432x288 with 2 Axes>"
      ]
     },
     "metadata": {
      "needs_background": "light"
     },
     "output_type": "display_data"
    }
   ],
   "source": [
    "def plot_confusion_matrix(cm, classes, normalize=False, title='', cmap=plt.cm.viridis):\n",
    "    if normalize:\n",
    "        cm = cm.astype('float') / cm.sum(axis=1)[:, np.newaxis]\n",
    "        print(\"Normalized confusion matrix\")\n",
    "    else:\n",
    "        print('Confusion matrix, without normalization')\n",
    "\n",
    "    print(cm)\n",
    "    plt.imshow(cm, interpolation='nearest', cmap=cmap)\n",
    "    plt.title(title)\n",
    "    plt.colorbar()\n",
    "    tick_marks = np.arange(len(classes))\n",
    "    plt.xticks(tick_marks, classes, rotation=45)\n",
    "    plt.yticks(tick_marks, classes)\n",
    "\n",
    "    fmt = '.2f' if normalize else '.0f'\n",
    "    thresh = cm.max() / 2.\n",
    "    for i, j in itertools.product(range(cm.shape[0]), range(cm.shape[1])):\n",
    "        plt.text(j, i, format(cm[i, j], fmt), horizontalalignment=\"center\", color=\"black\" if cm[i, j] > thresh else \"white\")\n",
    "\n",
    "    plt.tight_layout()\n",
    "    plt.ylabel('True label')\n",
    "    plt.xlabel('Predicted label')\n",
    "    \n",
    "plot_confusion_matrix(matrix,[\"3\",\"4\",\"5\",\"6\",\"7\",\"8\",\"9\"])"
   ]
  }
 ],
 "metadata": {
  "kernelspec": {
   "display_name": "Python 3 (ipykernel)",
   "language": "python",
   "name": "python3"
  },
  "language_info": {
   "codemirror_mode": {
    "name": "ipython",
    "version": 3
   },
   "file_extension": ".py",
   "mimetype": "text/x-python",
   "name": "python",
   "nbconvert_exporter": "python",
   "pygments_lexer": "ipython3",
   "version": "3.8.12"
  }
 },
 "nbformat": 4,
 "nbformat_minor": 5
}
